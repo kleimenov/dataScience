{
 "cells": [
  {
   "cell_type": "code",
   "execution_count": 2,
   "metadata": {},
   "outputs": [],
   "source": [
    "import pandas as pd\n",
    "import numpy as np \n",
    "from numpy import linspace,hstack\n",
    "\n",
    "\n",
    "import warnings\n",
    "warnings.filterwarnings('ignore')\n",
    "\n",
    "\n",
    "import matplotlib.pyplot as plt\n",
    "from pylab import plot,show,hist, rcParams\n",
    "rcParams['figure.figsize'] = 10, 6\n",
    "\n",
    "\n",
    "from scipy.stats.kde import gaussian_kde"
   ]
  },
  {
   "cell_type": "markdown",
   "metadata": {},
   "source": [
    "#  Домашнее задание по NLP # 1 [100 баллов]\n",
    "## Классификация по тональности \n",
    "\n",
    "В этом домашнем задании вам предстоит классифицировать по тональности отзывы на банки с сайта banki.ru.\n",
    "\n",
    "Данные содержат непосредственно тексты отзывов, некоторую дополнительную информацию, а также оценку по шкале от 1 до 5. \n",
    "\n",
    "Тексты хранятся в json-ах в массиве responses."
   ]
  },
  {
   "cell_type": "markdown",
   "metadata": {},
   "source": [
    "# Реализация"
   ]
  },
  {
   "cell_type": "markdown",
   "metadata": {},
   "source": [
    "### Загрузка данных"
   ]
  },
  {
   "cell_type": "code",
   "execution_count": 3,
   "metadata": {},
   "outputs": [],
   "source": [
    "df = pd.read_json('banki_responses.json', lines=True)"
   ]
  },
  {
   "cell_type": "code",
   "execution_count": 4,
   "metadata": {},
   "outputs": [
    {
     "data": {
      "text/plain": [
       "(201030, 10)"
      ]
     },
     "execution_count": 4,
     "metadata": {},
     "output_type": "execute_result"
    }
   ],
   "source": [
    "df.shape"
   ]
  },
  {
   "cell_type": "code",
   "execution_count": 5,
   "metadata": {},
   "outputs": [
    {
     "data": {
      "text/html": [
       "<div>\n",
       "<style scoped>\n",
       "    .dataframe tbody tr th:only-of-type {\n",
       "        vertical-align: middle;\n",
       "    }\n",
       "\n",
       "    .dataframe tbody tr th {\n",
       "        vertical-align: top;\n",
       "    }\n",
       "\n",
       "    .dataframe thead th {\n",
       "        text-align: right;\n",
       "    }\n",
       "</style>\n",
       "<table border=\"1\" class=\"dataframe\">\n",
       "  <thead>\n",
       "    <tr style=\"text-align: right;\">\n",
       "      <th></th>\n",
       "      <th>author</th>\n",
       "      <th>bank_license</th>\n",
       "      <th>bank_name</th>\n",
       "      <th>city</th>\n",
       "      <th>datetime</th>\n",
       "      <th>num_comments</th>\n",
       "      <th>rating_grade</th>\n",
       "      <th>rating_not_checked</th>\n",
       "      <th>text</th>\n",
       "      <th>title</th>\n",
       "    </tr>\n",
       "  </thead>\n",
       "  <tbody>\n",
       "    <tr>\n",
       "      <th>0</th>\n",
       "      <td>e.novikova</td>\n",
       "      <td>лицензия № 1623</td>\n",
       "      <td>ВТБ 24</td>\n",
       "      <td>г. Воронеж</td>\n",
       "      <td>2015-06-08 11:06:56</td>\n",
       "      <td>0</td>\n",
       "      <td>5.0</td>\n",
       "      <td>True</td>\n",
       "      <td>Здравствуйте!  Хотелось бы выразить благодарно...</td>\n",
       "      <td>Ипотека на 5+</td>\n",
       "    </tr>\n",
       "    <tr>\n",
       "      <th>1</th>\n",
       "      <td>KZN\\Vorontsova_NA</td>\n",
       "      <td>лицензия № 2289</td>\n",
       "      <td>Русский Стандарт</td>\n",
       "      <td>г. Казань</td>\n",
       "      <td>2015-06-06 18:17:52</td>\n",
       "      <td>0</td>\n",
       "      <td>2.0</td>\n",
       "      <td>True</td>\n",
       "      <td>Уважаемые представители департамента по работе...</td>\n",
       "      <td>ЗВОНКИ СОСЕДЯМ</td>\n",
       "    </tr>\n",
       "    <tr>\n",
       "      <th>2</th>\n",
       "      <td>Evgenia15</td>\n",
       "      <td>лицензия № 2307</td>\n",
       "      <td>Союз</td>\n",
       "      <td>г. Санкт-Петербург</td>\n",
       "      <td>2015-06-07 19:08:33</td>\n",
       "      <td>0</td>\n",
       "      <td>2.0</td>\n",
       "      <td>True</td>\n",
       "      <td>Здравствуйте. Столкнулась с такой ситуацией. в...</td>\n",
       "      <td>Ложная информация!!!!</td>\n",
       "    </tr>\n",
       "  </tbody>\n",
       "</table>\n",
       "</div>"
      ],
      "text/plain": [
       "              author     bank_license         bank_name                city  \\\n",
       "0         e.novikova  лицензия № 1623            ВТБ 24          г. Воронеж   \n",
       "1  KZN\\Vorontsova_NA  лицензия № 2289  Русский Стандарт           г. Казань   \n",
       "2          Evgenia15  лицензия № 2307              Союз  г. Санкт-Петербург   \n",
       "\n",
       "             datetime  num_comments  rating_grade  rating_not_checked  \\\n",
       "0 2015-06-08 11:06:56             0           5.0                True   \n",
       "1 2015-06-06 18:17:52             0           2.0                True   \n",
       "2 2015-06-07 19:08:33             0           2.0                True   \n",
       "\n",
       "                                                text                  title  \n",
       "0  Здравствуйте!  Хотелось бы выразить благодарно...          Ипотека на 5+  \n",
       "1  Уважаемые представители департамента по работе...         ЗВОНКИ СОСЕДЯМ  \n",
       "2  Здравствуйте. Столкнулась с такой ситуацией. в...  Ложная информация!!!!  "
      ]
     },
     "execution_count": 5,
     "metadata": {},
     "output_type": "execute_result"
    }
   ],
   "source": [
    "df.head(3)"
   ]
  },
  {
   "cell_type": "code",
   "execution_count": 6,
   "metadata": {},
   "outputs": [
    {
     "name": "stdout",
     "output_type": "stream",
     "text": [
      "<class 'pandas.core.frame.DataFrame'>\n",
      "Int64Index: 201030 entries, 0 to 201029\n",
      "Data columns (total 10 columns):\n",
      "author                201009 non-null object\n",
      "bank_license          201026 non-null object\n",
      "bank_name             201030 non-null object\n",
      "city                  185492 non-null object\n",
      "datetime              201030 non-null datetime64[ns]\n",
      "num_comments          201030 non-null int64\n",
      "rating_grade          136189 non-null float64\n",
      "rating_not_checked    201030 non-null bool\n",
      "text                  201030 non-null object\n",
      "title                 201030 non-null object\n",
      "dtypes: bool(1), datetime64[ns](1), float64(1), int64(1), object(6)\n",
      "memory usage: 15.5+ MB\n"
     ]
    }
   ],
   "source": [
    "df.info()"
   ]
  },
  {
   "cell_type": "markdown",
   "metadata": {},
   "source": [
    "### Небольшой preprocessing (сделаем дата сет легче)\n",
    "- удалим лишние признаки\n",
    "- обработаем пропуски (тоже удалим все сэмплы с пропусками)"
   ]
  },
  {
   "cell_type": "code",
   "execution_count": 7,
   "metadata": {},
   "outputs": [
    {
     "name": "stdout",
     "output_type": "stream",
     "text": [
      "(201030, 6)\n"
     ]
    }
   ],
   "source": [
    "#удалим лишние столбцы\n",
    "df_r = df.drop(['bank_license', 'datetime', 'rating_not_checked', 'num_comments', ], axis=1)\n",
    "print(df_r.shape)"
   ]
  },
  {
   "cell_type": "code",
   "execution_count": 8,
   "metadata": {},
   "outputs": [
    {
     "name": "stdout",
     "output_type": "stream",
     "text": [
      "<class 'pandas.core.frame.DataFrame'>\n",
      "Int64Index: 201030 entries, 0 to 201029\n",
      "Data columns (total 6 columns):\n",
      "author          201009 non-null object\n",
      "bank_name       201030 non-null object\n",
      "city            185492 non-null object\n",
      "rating_grade    136189 non-null float64\n",
      "text            201030 non-null object\n",
      "title           201030 non-null object\n",
      "dtypes: float64(1), object(5)\n",
      "memory usage: 10.7+ MB\n"
     ]
    }
   ],
   "source": [
    "#посмотрим на наличие/отсутствие пропусков\n",
    "df_r.info()"
   ]
  },
  {
   "cell_type": "code",
   "execution_count": 9,
   "metadata": {},
   "outputs": [
    {
     "name": "stdout",
     "output_type": "stream",
     "text": [
      "(121876, 6)\n"
     ]
    }
   ],
   "source": [
    "#удалим прпуски\n",
    "df_r = df_r.dropna()\n",
    "print(df_r.shape)"
   ]
  },
  {
   "cell_type": "code",
   "execution_count": 10,
   "metadata": {},
   "outputs": [
    {
     "name": "stdout",
     "output_type": "stream",
     "text": [
      "<class 'pandas.core.frame.DataFrame'>\n",
      "Int64Index: 121876 entries, 0 to 186119\n",
      "Data columns (total 6 columns):\n",
      "author          121876 non-null object\n",
      "bank_name       121876 non-null object\n",
      "city            121876 non-null object\n",
      "rating_grade    121876 non-null float64\n",
      "text            121876 non-null object\n",
      "title           121876 non-null object\n",
      "dtypes: float64(1), object(5)\n",
      "memory usage: 6.5+ MB\n"
     ]
    }
   ],
   "source": [
    "df_r.info()"
   ]
  },
  {
   "cell_type": "markdown",
   "metadata": {},
   "source": [
    "## Часть 1. Анализ текстов [40/100]\n",
    "\n",
    "1. Посчитайте количество отзывов в разных городах и на разные банки\n",
    "2. Постройте гистограмы длин слов в символах и в словах\n",
    "3. Найдите 10 самых частых:\n",
    "    * слов\n",
    "    * слов без стоп-слов\n",
    "    * лемм \n",
    "    * существительных\n",
    "4. Постройте кривые Ципфа и Хипса\n",
    "5. Ответьте на следующие вопросы:\n",
    "    * какое слово встречается чаще, \"сотрудник\" или \"клиент\"?\n",
    "    * сколько раз встречается слова \"мошенничество\" и \"доверие\"?\n",
    "6. В поле \"rating_grade\" записана оценка отзыва по шкале от 1 до 5. Используйте меру $tf-idf$, для того, чтобы найти ключевые слова и биграмы для положительных отзывов (с оценкой 5) и отрицательных отзывов (с оценкой 1)"
   ]
  },
  {
   "cell_type": "markdown",
   "metadata": {},
   "source": [
    "### 1. Посчитайте количество отзывов в разных городах и на разные банки\n",
    "\n"
   ]
  },
  {
   "cell_type": "code",
   "execution_count": 11,
   "metadata": {},
   "outputs": [
    {
     "data": {
      "text/plain": [
       "г. Москва             50862\n",
       "г. Санкт-Петербург    12307\n",
       "г. Екатеринбург        2149\n",
       "г. Новосибирск         1929\n",
       "г. Нижний Новгород     1706\n",
       "г. Ростов-на-Дону      1568\n",
       "г. Самара              1542\n",
       "г. Казань              1320\n",
       "г. москва              1307\n",
       "г. Челябинск           1263\n",
       "г. Краснодар           1157\n",
       "г. Уфа                 1072\n",
       "г. Воронеж             1038\n",
       "г. Красноярск          1013\n",
       "г. Пермь                991\n",
       "Name: city, dtype: int64"
      ]
     },
     "execution_count": 11,
     "metadata": {},
     "output_type": "execute_result"
    }
   ],
   "source": [
    "#посмотрим на кол-во уникальных городов\n",
    "df_r['city'].value_counts().head(15)"
   ]
  },
  {
   "cell_type": "code",
   "execution_count": 12,
   "metadata": {},
   "outputs": [],
   "source": [
    "#немного причешем названия городов\n",
    "mystopwords = ['г.', '( )', '***', '....', '...', '..', '----', ',', ',д.',]\n",
    "def  rem_SW(text, mystopwords = mystopwords):\n",
    "    try:\n",
    "        return \" \".join([w for w in text.split() if not w in mystopwords])\n",
    "    except:\n",
    "        return \"\""
   ]
  },
  {
   "cell_type": "code",
   "execution_count": 13,
   "metadata": {},
   "outputs": [],
   "source": [
    "#удалим стоп слова\n",
    "df_r['city_n']= df_r.city.apply(rem_SW) "
   ]
  },
  {
   "cell_type": "code",
   "execution_count": 14,
   "metadata": {},
   "outputs": [],
   "source": [
    "#посмотрим на распределения отзовов по городам к банку и по банкам к городу\n",
    "by_bank = df_r.groupby(['bank_name', 'city_n'])['author'].count()\n",
    "by_city = df_r.groupby(['city_n', 'bank_name'])['author'].count()"
   ]
  },
  {
   "cell_type": "markdown",
   "metadata": {},
   "source": [
    "- распределение кол-ва отзовов в разных городах о банках"
   ]
  },
  {
   "cell_type": "code",
   "execution_count": 15,
   "metadata": {},
   "outputs": [
    {
     "data": {
      "text/plain": [
       "city_n         bank_name                     \n",
       "ярцево         Восточный Экспресс Банк           1\n",
       "ярославль      Хоум Кредит Банк                  1\n",
       "               Связной Банк                      1\n",
       "               Сбербанк России                   1\n",
       "               Русфинанс Банк                    1\n",
       "               Русский Стандарт                  2\n",
       "               Ренессанс Кредит                  1\n",
       "               ОТП Банк                          1\n",
       "               Киви Банк                         1\n",
       "               Газпромбанк                       1\n",
       "               ВТБ 24                            1\n",
       "               Альфа-Банк                        1\n",
       "янаул          Ренессанс Кредит                  1\n",
       "ялуторовск     Ханты-Мансийский банк Открытие    1\n",
       "якутск         Хоум Кредит Банк                  1\n",
       "               Сбербанк России                   1\n",
       "               Московский Областной Банк         1\n",
       "               Банк Москвы                       1\n",
       "южноуральск    Киви Банк                         1\n",
       "южно-сахалиск  ВТБ 24                            1\n",
       "Name: author, dtype: int64"
      ]
     },
     "execution_count": 15,
     "metadata": {},
     "output_type": "execute_result"
    }
   ],
   "source": [
    "by_city.sort_index(ascending=False).head(20)"
   ]
  },
  {
   "cell_type": "markdown",
   "metadata": {},
   "source": [
    "- распределение кол-ва отзовов по банкам в разных городах"
   ]
  },
  {
   "cell_type": "code",
   "execution_count": 16,
   "metadata": {},
   "outputs": [
    {
     "data": {
      "text/plain": [
       "bank_name      city_n            \n",
       "Ярославич      Ярославль             1\n",
       "               Москва                3\n",
       "Яндекс.Деньги  Ярославль (Москва)    1\n",
       "               Ярославль             1\n",
       "               Череповец             1\n",
       "               Челябинск             2\n",
       "               Хабаровск             1\n",
       "               Уфа                   1\n",
       "               Уссурийск             1\n",
       "               Томск                 1\n",
       "               Тихорецк              1\n",
       "               Тбилиси (Москва)      1\n",
       "               Тамбов                2\n",
       "               Стамбул               1\n",
       "               Симферополь           1\n",
       "               Селенгинск            1\n",
       "               Севастополь           1\n",
       "               Саранск               1\n",
       "               Санкт-Петербург       5\n",
       "               Самара                3\n",
       "Name: author, dtype: int64"
      ]
     },
     "execution_count": 16,
     "metadata": {},
     "output_type": "execute_result"
    }
   ],
   "source": [
    "by_bank.sort_index(ascending=False).head(20)"
   ]
  },
  {
   "cell_type": "markdown",
   "metadata": {},
   "source": [
    "### 2. Постройте гистограмы длин слов в символах и в словах"
   ]
  },
  {
   "cell_type": "code",
   "execution_count": 17,
   "metadata": {},
   "outputs": [],
   "source": [
    "import re\n",
    "regex = re.compile(\"[А-Яа-я]+\")\n",
    "\n",
    "def words_re(text, regex=regex):\n",
    "    try:\n",
    "        return \" \".join(regex.findall(text))\n",
    "    except:\n",
    "        return \"\"\n",
    "\n",
    "\n",
    "df_r.text = df_r.text.str.lower()\n",
    "df_r.text = df_r.text.apply(words_re)\n"
   ]
  },
  {
   "cell_type": "code",
   "execution_count": 18,
   "metadata": {},
   "outputs": [
    {
     "data": {
      "text/plain": [
       "1079"
      ]
     },
     "execution_count": 18,
     "metadata": {},
     "output_type": "execute_result"
    }
   ],
   "source": [
    "len(df_r.text.iloc[0])"
   ]
  },
  {
   "cell_type": "code",
   "execution_count": 19,
   "metadata": {},
   "outputs": [
    {
     "data": {
      "text/plain": [
       "count    121876.000000\n",
       "mean       1433.388895\n",
       "std        1203.119989\n",
       "min           0.000000\n",
       "25%         681.000000\n",
       "50%        1103.000000\n",
       "75%        1778.000000\n",
       "max       31053.000000\n",
       "Name: text, dtype: float64"
      ]
     },
     "execution_count": 19,
     "metadata": {},
     "output_type": "execute_result"
    }
   ],
   "source": [
    "#посмотрим на описательные статистики\n",
    "len_data = df_r.text.apply(len)\n",
    "len_data.describe()"
   ]
  },
  {
   "cell_type": "markdown",
   "metadata": {},
   "source": [
    "#### 2.1 Гистограма кол-ва символов в текстах"
   ]
  },
  {
   "cell_type": "code",
   "execution_count": 21,
   "metadata": {},
   "outputs": [
    {
     "data": {
      "image/png": "[encoded data removed]",
      "text/plain": [
       "<matplotlib.figure.Figure at 0x1a0ed8e278>"
      ]
     },
     "metadata": {},
     "output_type": "display_data"
    }
   ],
   "source": [
    "fig, ax = plt.subplots()\n",
    "\n",
    "length = len_data[len_data < 10000].tolist()\n",
    "\n",
    "n, bins, patches = ax.hist(length, color='r', alpha=.3)\n",
    "\n",
    "fig.show()"
   ]
  },
  {
   "cell_type": "code",
   "execution_count": 22,
   "metadata": {},
   "outputs": [
    {
     "data": {
      "text/plain": [
       "[<matplotlib.lines.Line2D at 0x1a0ee671d0>]"
      ]
     },
     "execution_count": 22,
     "metadata": {},
     "output_type": "execute_result"
    },
    {
     "data": {
      "image/png": "[encoded data removed]",
      "text/plain": [
       "<matplotlib.figure.Figure at 0x1a0ee015f8>"
      ]
     },
     "metadata": {},
     "output_type": "display_data"
    }
   ],
   "source": [
    "#выполним ядерную оценку плотности распределения длины символов с текстах\n",
    "#df_r['text_len'] = df_r.text.apply(len)\n",
    "my_density = gaussian_kde(length, bw_method = 0.1)\n",
    "\n",
    "x = linspace(min(length), max(length))\n",
    "plot(x, my_density(x),'r', alpha=.3)"
   ]
  },
  {
   "cell_type": "markdown",
   "metadata": {},
   "source": [
    "Распределение кол-ва символов в тексте явно смещено в лево, интересно посмотреть какой вид будет иметь распределения если отбросить вылеты"
   ]
  },
  {
   "cell_type": "code",
   "execution_count": 23,
   "metadata": {},
   "outputs": [
    {
     "data": {
      "image/png": "[encoded data removed]",
      "text/plain": [
       "<matplotlib.figure.Figure at 0x1a0ee780f0>"
      ]
     },
     "metadata": {},
     "output_type": "display_data"
    }
   ],
   "source": [
    "fig, ax = plt.subplots()\n",
    "\n",
    "length_lt = len_data[len_data < 3000].tolist()\n",
    "\n",
    "n, bins, patches = ax.hist(length_lt, color='g', bins=30, alpha=.3)\n",
    "\n",
    "fig.show()"
   ]
  },
  {
   "cell_type": "code",
   "execution_count": 24,
   "metadata": {},
   "outputs": [
    {
     "data": {
      "text/plain": [
       "[<matplotlib.lines.Line2D at 0x1a0ef33eb8>]"
      ]
     },
     "execution_count": 24,
     "metadata": {},
     "output_type": "execute_result"
    },
    {
     "data": {
      "image/png": "[encoded data removed]",
      "text/plain": [
       "<matplotlib.figure.Figure at 0x1a0ede99e8>"
      ]
     },
     "metadata": {},
     "output_type": "display_data"
    }
   ],
   "source": [
    "my_density = gaussian_kde(length_lt, bw_method = 0.1)\n",
    "\n",
    "x = linspace(min(length_lt), max(length_lt))\n",
    "plot(x, my_density(x),'g', alpha=.3)"
   ]
  },
  {
   "cell_type": "markdown",
   "metadata": {},
   "source": [
    "#### 2.2 Гистограма кол-ва слов в текстах"
   ]
  },
  {
   "cell_type": "code",
   "execution_count": 25,
   "metadata": {},
   "outputs": [],
   "source": [
    "words_l = []\n",
    "\n",
    "for i in range(len(df_r['text'])):\n",
    "    text = df.text.iloc[i].split()\n",
    "    words_l.append(len(text))\n",
    "\n",
    "df_r['words_l'] = words_l \n",
    "len_word = df_r['words_l']"
   ]
  },
  {
   "cell_type": "code",
   "execution_count": 26,
   "metadata": {},
   "outputs": [
    {
     "data": {
      "text/plain": [
       "count    121876.000000\n",
       "mean        211.367603\n",
       "std         182.212403\n",
       "min           4.000000\n",
       "10%          64.000000\n",
       "25%          98.000000\n",
       "50%         161.000000\n",
       "75%         262.000000\n",
       "99%         905.000000\n",
       "max        5000.000000\n",
       "Name: words_l, dtype: float64"
      ]
     },
     "execution_count": 26,
     "metadata": {},
     "output_type": "execute_result"
    }
   ],
   "source": [
    "df_r['words_l'].describe(percentiles=(0.1, 0.25, 0.75, 0.99))"
   ]
  },
  {
   "cell_type": "code",
   "execution_count": 27,
   "metadata": {},
   "outputs": [],
   "source": [
    "#df_r[df_r['words_l'] == 5000].head()"
   ]
  },
  {
   "cell_type": "code",
   "execution_count": 28,
   "metadata": {},
   "outputs": [
    {
     "data": {
      "image/png": "[encoded data removed]",
      "text/plain": [
       "<matplotlib.figure.Figure at 0x1a0ef4fd30>"
      ]
     },
     "metadata": {},
     "output_type": "display_data"
    }
   ],
   "source": [
    "#посмотрим на картину вцелом, в нашей выборке есть очень серьезные выбросы (кто-то написал коментарий в 5000 слов)\n",
    "fig, ax = plt.subplots()\n",
    "n, bins, patches = ax.hist(len_word, color='y', bins=60, alpha=.3)\n",
    "fig.show()"
   ]
  },
  {
   "cell_type": "code",
   "execution_count": 29,
   "metadata": {},
   "outputs": [],
   "source": [
    "#отбросим все что больше 1000 слов\n",
    "len_word_II = [x for x in df_r['words_l'] if x < 1000]"
   ]
  },
  {
   "cell_type": "code",
   "execution_count": 30,
   "metadata": {},
   "outputs": [
    {
     "data": {
      "image/png": "[encoded data removed]",
      "text/plain": [
       "<matplotlib.figure.Figure at 0x1a0ef7a3c8>"
      ]
     },
     "metadata": {},
     "output_type": "display_data"
    }
   ],
   "source": [
    "#посмотрим на распределение 99% наших данных\n",
    "fig, ax = plt.subplots()\n",
    "n, bins, patches = ax.hist(len_word_II, color='y', bins=60, alpha=.3)\n",
    "fig.show()"
   ]
  },
  {
   "cell_type": "markdown",
   "metadata": {},
   "source": [
    "### Вывод\n",
    "Распределения частоты слов в текстах и символов в текстах смещены в лево, это вполне себе логично, обусловленно это структурой языка и словообразования"
   ]
  },
  {
   "cell_type": "markdown",
   "metadata": {},
   "source": [
    "### 3. Найдите 10 самых частых:\n",
    "    * слов\n",
    "    * слов без стоп-слов\n",
    "    * лемм \n",
    "    * существительных"
   ]
  },
  {
   "cell_type": "markdown",
   "metadata": {},
   "source": [
    "#### 3.1  10 самых частых слов "
   ]
  },
  {
   "cell_type": "code",
   "execution_count": 31,
   "metadata": {},
   "outputs": [
    {
     "data": {
      "application/vnd.jupyter.widget-view+json": {
       "model_id": "36489595674d40c3889b3a4d5c0e5f0b",
       "version_major": 2,
       "version_minor": 0
      },
      "text/html": [
       "<p>Failed to display Jupyter Widget of type <code>HBox</code>.</p>\n",
       "<p>\n",
       "  If you're reading this message in the Jupyter Notebook or JupyterLab Notebook, it may mean\n",
       "  that the widgets JavaScript is still loading. If this message persists, it\n",
       "  likely means that the widgets JavaScript library is either not installed or\n",
       "  not enabled. See the <a href=\"https://ipywidgets.readthedocs.io/en/stable/user_install.html\">Jupyter\n",
       "  Widgets Documentation</a> for setup instructions.\n",
       "</p>\n",
       "<p>\n",
       "  If you're reading this message in another frontend (for example, a static\n",
       "  rendering on GitHub or <a href=\"https://nbviewer.jupyter.org/\">NBViewer</a>),\n",
       "  it may mean that your frontend doesn't currently support widgets.\n",
       "</p>\n"
      ],
      "text/plain": [
       "HBox(children=(IntProgress(value=0, max=121876), HTML(value='')))"
      ]
     },
     "metadata": {},
     "output_type": "display_data"
    },
    {
     "name": "stdout",
     "output_type": "stream",
     "text": [
      "\n",
      "('в', 1039908)\n",
      "('и', 844370)\n",
      "('не', 661240)\n",
      "('на', 547841)\n",
      "('что', 499692)\n",
      "('я', 447279)\n",
      "('с', 358067)\n",
      "('по', 288214)\n",
      "('мне', 252743)\n",
      "('банка', 220933)\n"
     ]
    }
   ],
   "source": [
    "from collections import Counter\n",
    "from tqdm import tqdm_notebook as tqdm\n",
    "cnt = Counter()\n",
    "n_types_s = []\n",
    "n_tokens_s = []\n",
    "tokens_s = []\n",
    "for index, row in tqdm(df_r.iterrows(), total = len(df_r)):\n",
    "    tokens_s = row['text'].split()\n",
    "    cnt.update(tokens_s)\n",
    "    n_types_s.append(len(cnt))\n",
    "    n_tokens_s.append(sum(cnt.values()))\n",
    "for i in cnt.most_common(10):\n",
    "    print(i)"
   ]
  },
  {
   "cell_type": "markdown",
   "metadata": {},
   "source": [
    "#### 3.2  10 самых частых слов (без стоп-слов)"
   ]
  },
  {
   "cell_type": "code",
   "execution_count": 32,
   "metadata": {},
   "outputs": [],
   "source": [
    "from nltk.corpus import stopwords"
   ]
  },
  {
   "cell_type": "code",
   "execution_count": 33,
   "metadata": {},
   "outputs": [],
   "source": [
    "mystopwords = stopwords.words('russian')\n",
    "def  remove_stopwords(text, mystopwords = mystopwords):\n",
    "    try:\n",
    "        return \" \".join([token for token in text.split() if not token in mystopwords])\n",
    "    except:\n",
    "        return \"\""
   ]
  },
  {
   "cell_type": "code",
   "execution_count": 34,
   "metadata": {},
   "outputs": [],
   "source": [
    "df_r['text_SW'] = df_r['text'].apply(remove_stopwords)"
   ]
  },
  {
   "cell_type": "code",
   "execution_count": 35,
   "metadata": {},
   "outputs": [
    {
     "data": {
      "application/vnd.jupyter.widget-view+json": {
       "model_id": "47146c3fc53c47839794127ddcec7775",
       "version_major": 2,
       "version_minor": 0
      },
      "text/html": [
       "<p>Failed to display Jupyter Widget of type <code>HBox</code>.</p>\n",
       "<p>\n",
       "  If you're reading this message in the Jupyter Notebook or JupyterLab Notebook, it may mean\n",
       "  that the widgets JavaScript is still loading. If this message persists, it\n",
       "  likely means that the widgets JavaScript library is either not installed or\n",
       "  not enabled. See the <a href=\"https://ipywidgets.readthedocs.io/en/stable/user_install.html\">Jupyter\n",
       "  Widgets Documentation</a> for setup instructions.\n",
       "</p>\n",
       "<p>\n",
       "  If you're reading this message in another frontend (for example, a static\n",
       "  rendering on GitHub or <a href=\"https://nbviewer.jupyter.org/\">NBViewer</a>),\n",
       "  it may mean that your frontend doesn't currently support widgets.\n",
       "</p>\n"
      ],
      "text/plain": [
       "HBox(children=(IntProgress(value=0, max=121876), HTML(value='')))"
      ]
     },
     "metadata": {},
     "output_type": "display_data"
    },
    {
     "name": "stdout",
     "output_type": "stream",
     "text": [
      "\n",
      "('банка', 220933)\n",
      "('банк', 175821)\n",
      "('это', 144454)\n",
      "('деньги', 100883)\n",
      "('карту', 84190)\n",
      "('карты', 77240)\n",
      "('т', 71269)\n",
      "('кредит', 67796)\n",
      "('банке', 60422)\n",
      "('день', 58828)\n"
     ]
    }
   ],
   "source": [
    "cnt = Counter()\n",
    "n_types_SW = []\n",
    "n_tokens_SW = []\n",
    "tokens_SW = []\n",
    "for index, row in tqdm(df_r.iterrows(), total = len(df_r)):\n",
    "    tokens_SW = row['text_SW'].split()\n",
    "    cnt.update(tokens_SW)\n",
    "    n_types_SW.append(len(cnt))\n",
    "    n_tokens_SW.append(sum(cnt.values()))\n",
    "for y in cnt.most_common(10):\n",
    "    print(y)"
   ]
  },
  {
   "cell_type": "markdown",
   "metadata": {},
   "source": [
    "#### 3.3  10 самых частых лемм"
   ]
  },
  {
   "cell_type": "code",
   "execution_count": 36,
   "metadata": {},
   "outputs": [],
   "source": [
    "from pymystem3 import Mystem\n",
    "\n",
    "m = Mystem()\n",
    "def lemmatize(text, mystem=m):\n",
    "    try:\n",
    "        return \"\".join(m.lemmatize(text)).strip()  \n",
    "    except:\n",
    "        return \" \""
   ]
  },
  {
   "cell_type": "code",
   "execution_count": 37,
   "metadata": {},
   "outputs": [],
   "source": [
    "df_r['lemma'] = df_r['text_SW'].apply(lemmatize)"
   ]
  },
  {
   "cell_type": "code",
   "execution_count": 38,
   "metadata": {},
   "outputs": [
    {
     "name": "stdout",
     "output_type": "stream",
     "text": [
      "('банк', 507084)\n",
      "('карта', 259241)\n",
      "('деньги', 138387)\n",
      "('день', 134225)\n",
      "('это', 133884)\n",
      "('кредит', 128268)\n",
      "('мой', 121213)\n",
      "('отделение', 117356)\n",
      "('который', 117104)\n",
      "('клиент', 112234)\n"
     ]
    }
   ],
   "source": [
    "lemmata = []\n",
    "for index, row in df_r.iterrows():\n",
    "    lemmata += row['lemma'].split()\n",
    "cnt_l = Counter(lemmata)\n",
    "for i in cnt_l.most_common(10):\n",
    "    print(i)"
   ]
  },
  {
   "cell_type": "markdown",
   "metadata": {},
   "source": [
    "#### 3.4  10 самых частых существительных"
   ]
  },
  {
   "cell_type": "code",
   "execution_count": 39,
   "metadata": {},
   "outputs": [],
   "source": [
    "import nltk\n",
    "from nltk import word_tokenize, sent_tokenize\n",
    "from pymorphy2 import MorphAnalyzer"
   ]
  },
  {
   "cell_type": "code",
   "execution_count": 40,
   "metadata": {},
   "outputs": [],
   "source": [
    "pm2 = MorphAnalyzer()"
   ]
  },
  {
   "cell_type": "code",
   "execution_count": 41,
   "metadata": {},
   "outputs": [],
   "source": [
    "words_ = []\n",
    "for i in df_r['lemma']:\n",
    "    words_.append(i)"
   ]
  },
  {
   "cell_type": "code",
   "execution_count": 42,
   "metadata": {},
   "outputs": [],
   "source": [
    "#O(n2) — квадратичная сложность \n",
    "nouns = []\n",
    "\n",
    "for i in words_:\n",
    "    w = nltk.word_tokenize(i) \n",
    "    for i in w:      \n",
    "        if 'NOUN' in pm2.parse(i)[0].tag:\n",
    "            nouns.append(i)"
   ]
  },
  {
   "cell_type": "code",
   "execution_count": 43,
   "metadata": {},
   "outputs": [
    {
     "name": "stdout",
     "output_type": "stream",
     "text": [
      "('банк', 507084)\n",
      "('карта', 259241)\n",
      "('деньги', 138387)\n",
      "('день', 134225)\n",
      "('кредит', 128268)\n",
      "('отделение', 117356)\n",
      "('клиент', 112234)\n",
      "('сотрудник', 112031)\n",
      "('счет', 98256)\n",
      "('сумма', 85239)\n"
     ]
    }
   ],
   "source": [
    "cnt_n = Counter(nouns)\n",
    "for i in cnt_n.most_common(10):\n",
    "    print(i)"
   ]
  },
  {
   "cell_type": "markdown",
   "metadata": {},
   "source": [
    "### Вывод\n",
    "Немного капитанский вывод: распределение частоты слов без стоп-слов и существительных очень близкие, в принципе это логично"
   ]
  },
  {
   "cell_type": "markdown",
   "metadata": {},
   "source": [
    "### 4. Постройте кривые Ципфа и Хипса"
   ]
  },
  {
   "cell_type": "markdown",
   "metadata": {},
   "source": [
    "#### 4.1 Закон Ципфа\n",
    "\n",
    "будем работать с текстами без стоп-слов"
   ]
  },
  {
   "cell_type": "code",
   "execution_count": 44,
   "metadata": {},
   "outputs": [
    {
     "data": {
      "image/png": "[encoded data removed]",
      "text/plain": [
       "<matplotlib.figure.Figure at 0x1a0fd3de80>"
      ]
     },
     "metadata": {},
     "output_type": "display_data"
    }
   ],
   "source": [
    "freqs = list(cnt.values())\n",
    "freqs = sorted(freqs, reverse = True)\n",
    "\n",
    "fig, ax = plt.subplots()\n",
    "ax.plot(freqs[:500], range(500))\n",
    "plt.show()"
   ]
  },
  {
   "cell_type": "markdown",
   "metadata": {},
   "source": [
    "#### 4.2 Закон Хипса\n",
    "\n",
    "будем работать с текстами без стоп-слов"
   ]
  },
  {
   "cell_type": "code",
   "execution_count": 45,
   "metadata": {},
   "outputs": [
    {
     "data": {
      "image/png": "[encoded data removed]",
      "text/plain": [
       "<matplotlib.figure.Figure at 0x1a0fd3db70>"
      ]
     },
     "metadata": {},
     "output_type": "display_data"
    }
   ],
   "source": [
    "fig, ax = plt.subplots()\n",
    "ax.plot(n_tokens_SW, n_types_SW)\n",
    "plt.show()"
   ]
  },
  {
   "cell_type": "markdown",
   "metadata": {},
   "source": [
    "### 5. Ответьте на следующие вопросы:\n",
    "    * какое слово встречается чаще, \"сотрудник\" или \"клиент\"?\n",
    "    * сколько раз встречается слова \"мошенничество\" и \"доверие\"?"
   ]
  },
  {
   "cell_type": "markdown",
   "metadata": {},
   "source": [
    "* какое слово встречается чаще, \"сотрудник\" или \"клиент\"?"
   ]
  },
  {
   "cell_type": "code",
   "execution_count": 46,
   "metadata": {},
   "outputs": [
    {
     "name": "stdout",
     "output_type": "stream",
     "text": [
      "Слово \"КЛИЕНТ\" встречается 112031 раза, это чаще чем слово \"СОТРУДНИК\" 112234 раза\n"
     ]
    }
   ],
   "source": [
    "for i in cnt_l.most_common():\n",
    "    if 'сотрудник' in i:\n",
    "        staff = i\n",
    "    elif 'клиент' in i:\n",
    "        guest = i\n",
    "        \n",
    "if staff[1] > guest[1]:\n",
    "    #print(f'Слово \"СОТРУДНИК\" встречается чаще чем слово \"КЛИЕНТ\" ')\n",
    "    print('Слово \"СОТРУДНИК\" встречается {s} раза, это чаще чем слово \"КЛИЕНТ\" {c} раза'.format(s = staff[1], c = guest[1]))\n",
    "else:\n",
    "    #print(f'Слово \"КЛИЕН\" встречается чаще чем слово \"СОТРУДНИК\"')\n",
    "    print('Слово \"КЛИЕНТ\" встречается {c} раза, это чаще чем слово \"СОТРУДНИК\" {s} раза'.format(s = guest[1], c = staff[1]))\n",
    "        "
   ]
  },
  {
   "cell_type": "markdown",
   "metadata": {},
   "source": [
    " * сколько раз встречается слова \"мошенничество\" и \"доверие\"?"
   ]
  },
  {
   "cell_type": "code",
   "execution_count": 47,
   "metadata": {},
   "outputs": [
    {
     "name": "stdout",
     "output_type": "stream",
     "text": [
      "Слово \"МОШЕННИЧЕСТВО\" встречается 1842 раза, это чаще чем слово \"ДОВЕРИЕ\" 1725 раза\n"
     ]
    }
   ],
   "source": [
    "for i in cnt_l.most_common():\n",
    "    if 'мошенничество' in i:\n",
    "        cheat = i\n",
    "    elif 'доверие' in i:\n",
    "        trust = i\n",
    "        \n",
    "if cheat[1] > trust[1]:\n",
    "    #print(f'Слово \"СОТРУДНИК\" встречается чаще чем слово \"КЛИЕНТ\" ')\n",
    "    print('Слово \"МОШЕННИЧЕСТВО\" встречается {ch} раза, это чаще чем слово \"ДОВЕРИЕ\" {tr} раза'.format(ch = cheat[1], tr = trust[1]))\n",
    "else:\n",
    "    #print(f'Слово \"КЛИЕН\" встречается чаще чем слово \"СОТРУДНИК\"')\n",
    "    print('Слово \"ДОВЕРИЕ\" встречается {tr} раза, это чаще чем слово \"МОШЕННИЧЕСТВО\" {ch} раза'.format(tr = trust[1], ch = cheat[1]))"
   ]
  },
  {
   "cell_type": "markdown",
   "metadata": {},
   "source": [
    "### 6.  В поле \"rating_grade\" записана оценка отзыва по шкале от 1 до 5. Используйте меру $tf-idf$, для того, чтобы найти ключевые слова и биграмы для положительных отзывов (с оценкой 5) и отрицательных отзывов (с оценкой 1)"
   ]
  },
  {
   "cell_type": "markdown",
   "metadata": {},
   "source": [
    "- выберем данные с положительными оценками `df_pstv` и негативными `df_ngtv`"
   ]
  },
  {
   "cell_type": "code",
   "execution_count": 48,
   "metadata": {},
   "outputs": [],
   "source": [
    "df_pstv = df_r[df_r['rating_grade'] == 5]\n",
    "df_ngtv = df_r[df_r['rating_grade'] == 1]"
   ]
  },
  {
   "cell_type": "code",
   "execution_count": 49,
   "metadata": {},
   "outputs": [
    {
     "data": {
      "text/html": [
       "<div>\n",
       "<style scoped>\n",
       "    .dataframe tbody tr th:only-of-type {\n",
       "        vertical-align: middle;\n",
       "    }\n",
       "\n",
       "    .dataframe tbody tr th {\n",
       "        vertical-align: top;\n",
       "    }\n",
       "\n",
       "    .dataframe thead th {\n",
       "        text-align: right;\n",
       "    }\n",
       "</style>\n",
       "<table border=\"1\" class=\"dataframe\">\n",
       "  <thead>\n",
       "    <tr style=\"text-align: right;\">\n",
       "      <th></th>\n",
       "      <th>author</th>\n",
       "      <th>bank_name</th>\n",
       "      <th>city</th>\n",
       "      <th>rating_grade</th>\n",
       "      <th>text</th>\n",
       "      <th>title</th>\n",
       "      <th>city_n</th>\n",
       "      <th>words_l</th>\n",
       "      <th>text_SW</th>\n",
       "      <th>lemma</th>\n",
       "    </tr>\n",
       "  </thead>\n",
       "  <tbody>\n",
       "    <tr>\n",
       "      <th>0</th>\n",
       "      <td>e.novikova</td>\n",
       "      <td>ВТБ 24</td>\n",
       "      <td>г. Воронеж</td>\n",
       "      <td>5.0</td>\n",
       "      <td>здравствуйте хотелось бы выразить благодарност...</td>\n",
       "      <td>Ипотека на 5+</td>\n",
       "      <td>Воронеж</td>\n",
       "      <td>156</td>\n",
       "      <td>здравствуйте хотелось выразить благодарность б...</td>\n",
       "      <td>здравствовать хотеться выражать благодарность ...</td>\n",
       "    </tr>\n",
       "    <tr>\n",
       "      <th>9</th>\n",
       "      <td>кристина1987</td>\n",
       "      <td>ВТБ 24</td>\n",
       "      <td>г. Москва</td>\n",
       "      <td>5.0</td>\n",
       "      <td>хочу поблагодарить надежду из отдела по ипотеч...</td>\n",
       "      <td>Большая блаодарность!</td>\n",
       "      <td>Москва</td>\n",
       "      <td>475</td>\n",
       "      <td>хочу поблагодарить надежду отдела ипотечному к...</td>\n",
       "      <td>хотеть поблагодарить надежда отдел ипотечный к...</td>\n",
       "    </tr>\n",
       "    <tr>\n",
       "      <th>31</th>\n",
       "      <td>Мёрфи</td>\n",
       "      <td>ВТБ 24</td>\n",
       "      <td>г. Екатеринбург</td>\n",
       "      <td>5.0</td>\n",
       "      <td>выплату из асв по транспортному банку пошел по...</td>\n",
       "      <td>Знакомство с банком</td>\n",
       "      <td>Екатеринбург</td>\n",
       "      <td>201</td>\n",
       "      <td>выплату асв транспортному банку пошел получать...</td>\n",
       "      <td>выплата асв транспортный банк пойти получать в...</td>\n",
       "    </tr>\n",
       "  </tbody>\n",
       "</table>\n",
       "</div>"
      ],
      "text/plain": [
       "          author bank_name             city  rating_grade  \\\n",
       "0     e.novikova    ВТБ 24       г. Воронеж           5.0   \n",
       "9   кристина1987    ВТБ 24        г. Москва           5.0   \n",
       "31         Мёрфи    ВТБ 24  г. Екатеринбург           5.0   \n",
       "\n",
       "                                                 text                  title  \\\n",
       "0   здравствуйте хотелось бы выразить благодарност...          Ипотека на 5+   \n",
       "9   хочу поблагодарить надежду из отдела по ипотеч...  Большая блаодарность!   \n",
       "31  выплату из асв по транспортному банку пошел по...    Знакомство с банком   \n",
       "\n",
       "          city_n  words_l                                            text_SW  \\\n",
       "0        Воронеж      156  здравствуйте хотелось выразить благодарность б...   \n",
       "9         Москва      475  хочу поблагодарить надежду отдела ипотечному к...   \n",
       "31  Екатеринбург      201  выплату асв транспортному банку пошел получать...   \n",
       "\n",
       "                                                lemma  \n",
       "0   здравствовать хотеться выражать благодарность ...  \n",
       "9   хотеть поблагодарить надежда отдел ипотечный к...  \n",
       "31  выплата асв транспортный банк пойти получать в...  "
      ]
     },
     "execution_count": 49,
     "metadata": {},
     "output_type": "execute_result"
    }
   ],
   "source": [
    "df_pstv.head(3)"
   ]
  },
  {
   "cell_type": "code",
   "execution_count": 50,
   "metadata": {},
   "outputs": [
    {
     "data": {
      "text/plain": [
       "'здравствовать хотеться выражать благодарность банка втб г воронеж пл ленин непосредственно специалист ипотечный кредитование мещерякова юлия анатольевна это второй ипотека банк специалист вопрос подача документ быстрый принятие решение одобрение весь необходимый сумма никакой проблема выдача кредит удобно никуда нужно ходить сторонний организация нужно договариваться оценка сотрудник банк приезжать вовремя страховка оформлять выдача кредит отделение банк быстро четко слаженно мой вопрос сравнение условие юлия подробно отвечать сомнение никакой возникать какой именно банк брать выбор сбербанк втб дополнительный расход выдача кредит страховка являться обязательный условие оформление ипотека также оформлять карта привилегия бесплатно очень приятно весь свой знакомый рекомендовать обращаться юлия некоторый взять ипотека положительный отзыв спасибо хороший отношение клиент'"
      ]
     },
     "execution_count": 50,
     "metadata": {},
     "output_type": "execute_result"
    }
   ],
   "source": [
    "df_pstv['lemma'][0]"
   ]
  },
  {
   "cell_type": "markdown",
   "metadata": {},
   "source": [
    "- посмотрим на их соотношения"
   ]
  },
  {
   "cell_type": "code",
   "execution_count": 51,
   "metadata": {},
   "outputs": [
    {
     "data": {
      "text/plain": [
       "(22369, 64566, 0.25730718352792314, 0.7426928164720769)"
      ]
     },
     "execution_count": 51,
     "metadata": {},
     "output_type": "execute_result"
    }
   ],
   "source": [
    "df_pstv.shape[0], df_ngtv.shape[0] , df_pstv.shape[0]/(df_pstv.shape[0] + df_ngtv.shape[0]), \\\n",
    "                                                                df_ngtv.shape[0]/(df_pstv.shape[0] + df_ngtv.shape[0])"
   ]
  },
  {
   "cell_type": "markdown",
   "metadata": {},
   "source": [
    "вывод: негативных комментариев более чем в два раза больше, либо банки плохо работают, либо `homo` подсознательно тяготеет к негативным комментариям"
   ]
  },
  {
   "cell_type": "code",
   "execution_count": 52,
   "metadata": {},
   "outputs": [
    {
     "data": {
      "application/vnd.jupyter.widget-view+json": {
       "model_id": "0cd72d085c0f4ab9b2e681d3325ca0e1",
       "version_major": 2,
       "version_minor": 0
      },
      "text/html": [
       "<p>Failed to display Jupyter Widget of type <code>HBox</code>.</p>\n",
       "<p>\n",
       "  If you're reading this message in the Jupyter Notebook or JupyterLab Notebook, it may mean\n",
       "  that the widgets JavaScript is still loading. If this message persists, it\n",
       "  likely means that the widgets JavaScript library is either not installed or\n",
       "  not enabled. See the <a href=\"https://ipywidgets.readthedocs.io/en/stable/user_install.html\">Jupyter\n",
       "  Widgets Documentation</a> for setup instructions.\n",
       "</p>\n",
       "<p>\n",
       "  If you're reading this message in another frontend (for example, a static\n",
       "  rendering on GitHub or <a href=\"https://nbviewer.jupyter.org/\">NBViewer</a>),\n",
       "  it may mean that your frontend doesn't currently support widgets.\n",
       "</p>\n"
      ],
      "text/plain": [
       "HBox(children=(IntProgress(value=0, max=22369), HTML(value='')))"
      ]
     },
     "metadata": {},
     "output_type": "display_data"
    },
    {
     "name": "stdout",
     "output_type": "stream",
     "text": [
      "\n",
      "('банк', 80331)\n",
      "('карта', 29087)\n",
      "('очень', 22227)\n",
      "('клиент', 18590)\n",
      "('кредит', 18439)\n",
      "('сотрудник', 17943)\n",
      "('это', 16952)\n",
      "('отделение', 15415)\n",
      "('день', 15303)\n",
      "('который', 15226)\n"
     ]
    }
   ],
   "source": [
    "#посмотрим на распределение частоты слов для корпуса позитивных текстов\n",
    "cnt_p = Counter()\n",
    "n_types_p = []\n",
    "n_tokens_p = []\n",
    "tokens_p = []\n",
    "for index, row in tqdm(df_pstv.iterrows(), total = len(df_pstv)):\n",
    "    tokens_p = row['lemma'].split()\n",
    "    cnt_p.update(tokens_p)\n",
    "    n_types_p.append(len(cnt_p))\n",
    "    n_tokens_p.append(sum(cnt_p.values()))\n",
    "for i in cnt_p.most_common(10):\n",
    "    print(i)"
   ]
  },
  {
   "cell_type": "code",
   "execution_count": 53,
   "metadata": {},
   "outputs": [
    {
     "data": {
      "application/vnd.jupyter.widget-view+json": {
       "model_id": "6a1c2106ba2441e6bef1b298c7c129a9",
       "version_major": 2,
       "version_minor": 0
      },
      "text/html": [
       "<p>Failed to display Jupyter Widget of type <code>HBox</code>.</p>\n",
       "<p>\n",
       "  If you're reading this message in the Jupyter Notebook or JupyterLab Notebook, it may mean\n",
       "  that the widgets JavaScript is still loading. If this message persists, it\n",
       "  likely means that the widgets JavaScript library is either not installed or\n",
       "  not enabled. See the <a href=\"https://ipywidgets.readthedocs.io/en/stable/user_install.html\">Jupyter\n",
       "  Widgets Documentation</a> for setup instructions.\n",
       "</p>\n",
       "<p>\n",
       "  If you're reading this message in another frontend (for example, a static\n",
       "  rendering on GitHub or <a href=\"https://nbviewer.jupyter.org/\">NBViewer</a>),\n",
       "  it may mean that your frontend doesn't currently support widgets.\n",
       "</p>\n"
      ],
      "text/plain": [
       "HBox(children=(IntProgress(value=0, max=64566), HTML(value='')))"
      ]
     },
     "metadata": {},
     "output_type": "display_data"
    },
    {
     "name": "stdout",
     "output_type": "stream",
     "text": [
      "\n",
      "('банк', 284296)\n",
      "('карта', 144508)\n",
      "('деньги', 84702)\n",
      "('день', 78720)\n",
      "('кредит', 75763)\n",
      "('это', 75498)\n",
      "('мой', 75436)\n",
      "('который', 68837)\n",
      "('сотрудник', 65794)\n",
      "('отделение', 64685)\n"
     ]
    }
   ],
   "source": [
    "#посмотрим на распределение частоты слов для корпуса негативных текстов\n",
    "cnt_ng = Counter()\n",
    "n_types_ng = []\n",
    "n_tokens_ng = []\n",
    "tokens_p = []\n",
    "for index, row in tqdm(df_ngtv.iterrows(), total = len(df_ngtv)):\n",
    "    tokens_ng = row['lemma'].split()\n",
    "    cnt_ng.update(tokens_ng)\n",
    "    n_types_ng.append(len(cnt_ng))\n",
    "    n_tokens_ng.append(sum(cnt_ng.values()))\n",
    "for i in cnt_ng.most_common(10):\n",
    "    print(i)"
   ]
  },
  {
   "cell_type": "code",
   "execution_count": 54,
   "metadata": {},
   "outputs": [],
   "source": [
    "#df_r['lemma'] = df_pstv['text_SW'].apply(lemmatize)"
   ]
  },
  {
   "cell_type": "markdown",
   "metadata": {},
   "source": [
    "#### 6.1 Используем меру $tf-idf$, для того, чтобы найти ключевые слова и биграмы для положительных отзывов (с оценкой 5)"
   ]
  },
  {
   "cell_type": "code",
   "execution_count": 55,
   "metadata": {},
   "outputs": [],
   "source": [
    "words_pstv = []\n",
    "for i in df_pstv['lemma']:\n",
    "    words_pstv.append(i)"
   ]
  },
  {
   "cell_type": "code",
   "execution_count": 56,
   "metadata": {},
   "outputs": [],
   "source": [
    "pstv_w = []\n",
    "\n",
    "for i in words_pstv:\n",
    "    q = nltk.word_tokenize(i)\n",
    "    pstv_w.append(q)"
   ]
  },
  {
   "cell_type": "code",
   "execution_count": 57,
   "metadata": {},
   "outputs": [],
   "source": [
    "trash = []\n",
    "\n",
    "for i in range(len(pstv_w)):\n",
    "    for t in pstv_w[i]:\n",
    "        trash.append(t)\n",
    "        "
   ]
  },
  {
   "cell_type": "code",
   "execution_count": 58,
   "metadata": {},
   "outputs": [],
   "source": [
    "import collections\n",
    "import math\n",
    "\n",
    "ii = []\n",
    "def tf(text):\n",
    "\n",
    "    tf_ = collections.Counter(text)\n",
    "    for i in tf_:\n",
    "        \n",
    "        tf_[i] = tf_[i]/float(len(text))\n",
    "    \n",
    "    for i in tf_.most_common(10):\n",
    "        ii.append(i)\n",
    "        print(i)"
   ]
  },
  {
   "cell_type": "code",
   "execution_count": 59,
   "metadata": {},
   "outputs": [],
   "source": [
    "def idf(word, corpus):\n",
    "        return math.log10(len(corpus)/sum([1.0 for i in corpus if word in i]))"
   ]
  },
  {
   "cell_type": "code",
   "execution_count": 60,
   "metadata": {},
   "outputs": [
    {
     "name": "stdout",
     "output_type": "stream",
     "text": [
      "('банк', 0.03279088022395325)\n",
      "('карта', 0.011873228679764078)\n",
      "('очень', 0.009072996660539628)\n",
      "('клиент', 0.00758838385384585)\n",
      "('кредит', 0.007526746093655923)\n",
      "('сотрудник', 0.007324280338330074)\n",
      "('это', 0.006919757024765725)\n",
      "('отделение', 0.006292358101508002)\n",
      "('день', 0.0062466400277247465)\n",
      "('который', 0.006215208851998758)\n"
     ]
    }
   ],
   "source": [
    "tf(trash)"
   ]
  },
  {
   "cell_type": "code",
   "execution_count": 61,
   "metadata": {},
   "outputs": [],
   "source": [
    "#ii[:5]"
   ]
  },
  {
   "cell_type": "code",
   "execution_count": 62,
   "metadata": {},
   "outputs": [
    {
     "name": "stdout",
     "output_type": "stream",
     "text": [
      "банк 1.3667429727873006\n",
      "карта 1.923836494787097\n",
      "очень 2.0406110622665925\n",
      "клиент 2.093694956120591\n",
      "кредит 1.8797124990146035\n",
      "сотрудник 2.1352108378988275\n",
      "это 1.9944158189403964\n",
      "отделение 2.201102057138658\n",
      "день 1.933630480957416\n",
      "который 2.1591924125658046\n"
     ]
    }
   ],
   "source": [
    "for y in range(len(ii)):\n",
    "    ii[y][0]\n",
    "    r = idf(ii[y][0], trash)\n",
    "    \n",
    "    print(ii[y][0], r)"
   ]
  },
  {
   "cell_type": "markdown",
   "metadata": {},
   "source": [
    "#### 6.2 Используем меру $tf-idf$, для того, чтобы найти ключевые слова и биграмы для отрицательных отзывов (с оценкой 1)"
   ]
  },
  {
   "cell_type": "code",
   "execution_count": 63,
   "metadata": {},
   "outputs": [],
   "source": [
    "WN = []\n",
    "for i in df_ngtv['lemma']:\n",
    "    WN.append(i)"
   ]
  },
  {
   "cell_type": "code",
   "execution_count": 64,
   "metadata": {},
   "outputs": [],
   "source": [
    "n_w = []\n",
    "\n",
    "for i in WN:\n",
    "    q = nltk.word_tokenize(i)\n",
    "    n_w.append(q)"
   ]
  },
  {
   "cell_type": "code",
   "execution_count": 65,
   "metadata": {},
   "outputs": [],
   "source": [
    "trash_n = []\n",
    "\n",
    "for i in range(len(n_w)):\n",
    "    for t in n_w[i]:\n",
    "        trash_n.append(t)"
   ]
  },
  {
   "cell_type": "code",
   "execution_count": 66,
   "metadata": {},
   "outputs": [
    {
     "name": "stdout",
     "output_type": "stream",
     "text": [
      "('банк', 0.028875375154091346)\n",
      "('карта', 0.014677388048961055)\n",
      "('деньги', 0.008603012445837596)\n",
      "('день', 0.007995432690330047)\n",
      "('кредит', 0.007695096124459798)\n",
      "('это', 0.007668180605367604)\n",
      "('мой', 0.007661883389579997)\n",
      "('который', 0.006991636180186095)\n",
      "('сотрудник', 0.006682564766610456)\n",
      "('отделение', 0.00656992585840954)\n"
     ]
    }
   ],
   "source": [
    "tf(trash_n)"
   ]
  },
  {
   "cell_type": "code",
   "execution_count": 67,
   "metadata": {},
   "outputs": [
    {
     "name": "stdout",
     "output_type": "stream",
     "text": [
      "банк 1.4005135661388963\n",
      "карта 1.8324025755019502\n",
      "очень 2.6969070593071023\n",
      "клиент 2.1924367120874972\n",
      "кредит 1.9026570826046216\n",
      "сотрудник 2.17499082021726\n",
      "это 1.954531572981748\n",
      "отделение 2.182365683806589\n",
      "день 1.7783383629790301\n",
      "который 2.132863177481311\n",
      "банк 1.4005135661388963\n",
      "карта 1.8324025755019502\n",
      "деньги 2.065236662360723\n",
      "день 1.7783383629790301\n",
      "кредит 1.9026570826046216\n",
      "это 1.954531572981748\n",
      "мой 2.084163358152373\n",
      "который 2.132863177481311\n",
      "сотрудник 2.17499082021726\n",
      "отделение 2.182365683806589\n"
     ]
    }
   ],
   "source": [
    "for y in range(len(ii)):\n",
    "    ii[y][0]\n",
    "    r = idf(ii[y][0], trash_n)\n",
    "    \n",
    "    print(ii[y][0], r)"
   ]
  },
  {
   "cell_type": "code",
   "execution_count": 60,
   "metadata": {},
   "outputs": [],
   "source": [
    "### Теперь посчитаем tf-idf "
   ]
  },
  {
   "cell_type": "code",
   "execution_count": 68,
   "metadata": {},
   "outputs": [],
   "source": [
    "def tfidf(corpus):\n",
    "\n",
    "    def tf(text):\n",
    "\n",
    "        tf_ = Counter(text)\n",
    "\n",
    "        for i in tf_:\n",
    "\n",
    "            tf_[i] = tf_[i]/float(len(text))\n",
    "\n",
    "        return tf_\n",
    "\n",
    "    def idf(word, corpus):\n",
    "\n",
    "        return math.log10(len(corpus)/sum([1.0 for i in corpus if word in i]))\n",
    "\n",
    " \n",
    "\n",
    "    d_list = []\n",
    "\n",
    "    for text in corpus:\n",
    "\n",
    "        tf_idf_ = {}\n",
    "\n",
    "        c_tf = tf(text)\n",
    "\n",
    "        for word in c_tf:\n",
    "\n",
    "            tf_idf_[word] = c_tf[word] * idf(word, corpus)\n",
    "\n",
    "        d_list.append(tf_idf_)\n",
    "\n",
    "    return d_list\n"
   ]
  },
  {
   "cell_type": "markdown",
   "metadata": {},
   "source": [
    "### !!!\n",
    "\n",
    "У меня очень долго считает tf-idf на всем корпусе, для оптимизации я решил посчитать как пример что функция работает на мини корпусе из трех текстов"
   ]
  },
  {
   "cell_type": "code",
   "execution_count": 69,
   "metadata": {},
   "outputs": [],
   "source": [
    "n_ = []\n",
    "\n",
    "for i in df_ngtv['lemma'][:2]:\n",
    "    s = nltk.word_tokenize(i)\n",
    "    n_.append(s)"
   ]
  },
  {
   "cell_type": "code",
   "execution_count": 70,
   "metadata": {},
   "outputs": [
    {
     "name": "stdout",
     "output_type": "stream",
     "text": [
      "[{'июнь': 0.0, 'москва': 0.0, 'отделение': 0.0, 'адрес': 0.004703593682249706, 'смоленский': 0.002351796841124853, 'сенной': 0.002351796841124853, 'площадь': 0.002351796841124853, 'около': 0.004703593682249706, 'счет': 0.0, 'вносить': 0.002351796841124853, 'средство': 0.007055390523374559, 'размер': 0.002351796841124853, 'рубль': 0.002351796841124853, 'конец': 0.002351796841124853, 'операция': 0.0, 'банкомат': 0.009407187364499412, 'зависать': 0.002351796841124853, 'зачисление': 0.002351796841124853, 'происходить': 0.002351796841124853, 'позвонить': 0.0, 'ситифон': 0.004703593682249706, 'называть': 0.002351796841124853, 'номер': 0.002351796841124853, 'время': 0.002351796841124853, 'внесение': 0.002351796841124853, 'номинал': 0.002351796841124853, 'количество': 0.002351796841124853, 'купюра': 0.002351796841124853, 'х': 0.002351796841124853, 'руб': 0.002351796841124853, 'сотрудник': 0.004703593682249706, 'банк': 0.0, 'заверять': 0.0, 'течение': 0.0, 'банковский': 0.002351796841124853, 'день': 0.0, 'мой': 0.011758984205624266, 'заявление': 0.0, 'проводить': 0.0, 'расследование': 0.007055390523374559, 'результат': 0.004703593682249706, 'который': 0.0, 'сообщать': 0.002351796841124853, 'спустя': 0.002351796841124853, 'приходить': 0.0, 'ответ': 0.0, 'сообщаться': 0.002351796841124853, 'предварительный': 0.002351796841124853, 'деньги': 0.0, 'находить': 0.002351796841124853, 'инициировать': 0.002351796841124853, 'дополнительный': 0.002351796841124853, 'срок': 0.002351796841124853, 'снова': 0.0, 'обращаться': 0.002351796841124853, 'просьба': 0.002351796841124853, 'объяснять': 0.002351796841124853, 'причина': 0.002351796841124853, 'отрицательный': 0.002351796841124853, 'очевидно': 0.002351796841124853, 'инкассация': 0.002351796841124853, 'состояться': 0.002351796841124853, 'вопрос': 0.002351796841124853, 'отвечать': 0.0, 'такой': 0.004703593682249706, 'данные': 0.004703593682249706, 'предоставлять': 0.002351796841124853, 'являться': 0.002351796841124853, 'клиент': 0.002351796841124853, 'ситибанк': 0.002351796841124853, 'год': 0.002351796841124853, 'первый': 0.0, 'сталкиваться': 0.002351796841124853, 'вопиющий': 0.002351796841124853, 'случай': 0.002351796841124853, 'проявление': 0.002351796841124853, 'непрофессионализм': 0.002351796841124853, 'устанавливать': 0.002351796841124853, 'несколько': 0.002351796841124853, 'камера': 0.004703593682249706, 'банкоматный': 0.002351796841124853, 'зона': 0.002351796841124853, 'сам': 0.0, 'проверять': 0.0, 'достаточно': 0.002351796841124853, 'один': 0.0, 'два': 0.002351796841124853, 'данный': 0.002351796841124853, 'ситуация': 0.002351796841124853, 'расценивать': 0.002351796841124853, 'незаконный': 0.002351796841124853, 'удержание': 0.002351796841124853, 'личный': 0.002351796841124853}, {'история': 0.001967516311529289, 'очень': 0.001967516311529289, 'долгий': 0.001967516311529289, 'приходить': 0.0, 'банк': 0.0, 'это': 0.011805097869175734, 'маязакрывать': 0.001967516311529289, 'карта': 0.0177076468037636, 'проводить': 0.0, 'один': 0.0, 'операция': 0.0, 'течение': 0.0, 'день': 0.0, 'ти': 0.001967516311529289, 'сам': 0.0, 'передавать': 0.001967516311529289, 'уничтожение': 0.001967516311529289, 'порезать': 0.001967516311529289, 'март': 0.001967516311529289, 'первый': 0.0, 'деньги': 0.0, 'мочь': 0.003935032623058578, 'выдавать': 0.001967516311529289, 'касса': 0.003935032623058578, 'связь': 0.001967516311529289, 'технический': 0.005902548934587867, 'ошибка': 0.005902548934587867, 'переводить': 0.001967516311529289, 'другой': 0.003935032623058578, 'сбербанк': 0.001967516311529289, 'счет': 0.0, 'стоять': 0.001967516311529289, 'закрытие': 0.003935032623058578, 'поступать': 0.003935032623058578, 'сумма': 0.003935032623058578, 'незаплатить': 0.001967516311529289, 'ранее': 0.001967516311529289, 'зарплата': 0.001967516311529289, 'снова': 0.0, 'становиться': 0.001967516311529289, 'действительный': 0.001967516311529289, 'карат': 0.001967516311529289, 'зарплатный': 0.001967516311529289, 'проверять': 0.0, 'баланс': 0.001967516311529289, 'сделать': 0.001967516311529289, 'запрос': 0.001967516311529289, 'москва': 0.0, 'сутки': 0.001967516311529289, 'перезванивать': 0.001967516311529289, 'сказать': 0.007870065246117155, 'звонок': 0.005902548934587867, 'позвонить': 0.0, 'ожидать': 0.001967516311529289, 'менеджер': 0.001967516311529289, 'минута': 0.001967516311529289, 'идти': 0.001967516311529289, 'отделение': 0.0, 'май': 0.001967516311529289, 'час': 0.001967516311529289, 'второй': 0.001967516311529289, 'поход': 0.001967516311529289, 'говорить': 0.001967516311529289, 'ответ': 0.0, 'быть': 0.001967516311529289, 'следовать': 0.001967516311529289, 'инструкция': 0.001967516311529289, 'остаток': 0.001967516311529289, 'получать': 0.001967516311529289, 'невозможно': 0.001967516311529289, 'копейка': 0.001967516311529289, 'сверх': 0.001967516311529289, 'написать': 0.003935032623058578, 'заявление': 0.0, 'перевод': 0.001967516311529289, 'изаявление': 0.001967516311529289, 'который': 0.0, 'нету': 0.003935032623058578, 'заверять': 0.0, 'печать': 0.001967516311529289, 'принимать': 0.001967516311529289, 'звонить': 0.001967516311529289, 'июнь': 0.0, 'спрашивать': 0.001967516311529289, 'переводиться': 0.001967516311529289, 'неделя': 0.001967516311529289, 'проходить': 0.001967516311529289, 'месяц': 0.001967516311529289, 'отвечать': 0.0, 'нужно': 0.001967516311529289, 'приезжать': 0.001967516311529289, 'третий': 0.001967516311529289, 'среднее': 0.001967516311529289, 'добираться': 0.001967516311529289, 'тратить': 0.001967516311529289, 'р': 0.003935032623058578, 'ваш': 0.001967516311529289, 'м': 0.001967516311529289, 'сбой': 0.001967516311529289, 'должно': 0.001967516311529289, 'волновать': 0.001967516311529289, 'какой': 0.001967516311529289, 'фига': 0.001967516311529289, 'дожигать': 0.001967516311529289, 'ездить': 0.001967516311529289, 'постоянно': 0.001967516311529289, 'ужасно': 0.003935032623058578, 'просто': 0.001967516311529289}]\n"
     ]
    }
   ],
   "source": [
    "print(tfidf(n_))\n"
   ]
  },
  {
   "cell_type": "markdown",
   "metadata": {},
   "source": [
    "## Часть 2. Тематическое моделирование [20/100]\n",
    "\n",
    "1. Постройте несколько тематических моделей коллекции документов с разным числом тем. Приведите примеры понятных (интерпретируемых) тем.\n",
    "2. Найдите темы, в которых упомянуты конкретные банки (Сбербанк, ВТБ, другой банк). Можете ли вы их прокомментировать / объяснить?\n",
    "\n",
    "Эта часть задания может быть сделана с использованием gensim. "
   ]
  },
  {
   "cell_type": "code",
   "execution_count": 85,
   "metadata": {},
   "outputs": [],
   "source": [
    "import pyLDAvis.gensim\n",
    "from bokeh.models import ColumnDataSource, LabelSet\n",
    "from bokeh.plotting import figure, show, output_file\n",
    "from bokeh.io import output_notebook\n",
    "from gensim import corpora, models\n",
    "\n",
    "\n",
    "import numpy as np\n",
    "import pandas as pd\n",
    "import warnings\n",
    "warnings.filterwarnings('ignore')\n",
    "import matplotlib.pyplot as plt\n",
    "from tqdm import tqdm_notebook as tqdm\n",
    "import re\n",
    "from nltk.corpus import stopwords\n",
    "from pymystem3 import Mystem\n",
    "from gensim.models import Word2Vec\n",
    "from sklearn.manifold import TSNE\n",
    "from nltk import FreqDist\n",
    "from sklearn.decomposition import PCA\n",
    "from sklearn.metrics.pairwise import cosine_similarity\n",
    "from scipy.cluster.hierarchy import  ward, dendrogram\n",
    "from gensim import corpora, models\n",
    "import gensim \n",
    "from gensim.models.doc2vec import *\n",
    "from sklearn.pipeline import Pipeline"
   ]
  },
  {
   "cell_type": "code",
   "execution_count": 79,
   "metadata": {},
   "outputs": [],
   "source": [
    "df_all = pd.concat([df_pstv, df_ngtv])"
   ]
  },
  {
   "cell_type": "code",
   "execution_count": 86,
   "metadata": {},
   "outputs": [],
   "source": [
    "regex = re.compile(\"[А-Яа-я]+\")\n",
    "def words_only(text, regex=regex):\n",
    "    return \" \".join(regex.findall(text))\n",
    "\n",
    "\n",
    "mystopwords = stopwords.words('russian') + ['это', 'наш' , 'тыс', 'млн', 'млрд', 'также',  'т', 'д']\n",
    "def  remove_stopwords(text, mystopwords = mystopwords):\n",
    "    try:\n",
    "        return \" \".join([token for token in text.split() if not token in mystopwords])\n",
    "    except:\n",
    "        return \"\"\n",
    "\n",
    "    \n",
    "m = Mystem()\n",
    "def lemmatize(text, mystem=m):\n",
    "    try:\n",
    "        return [l for l in m.lemmatize(text) if l.isalpha()]\n",
    "    except:\n",
    "        return []\n",
    "\n",
    "def preprocessing(text):\n",
    "    words = words_only(text)\n",
    "    no_stopwords = remove_stopwords(words)\n",
    "    lemmas = lemmatize(no_stopwords)\n",
    "    return(lemmas)"
   ]
  },
  {
   "cell_type": "code",
   "execution_count": 87,
   "metadata": {},
   "outputs": [
    {
     "name": "stdout",
     "output_type": "stream",
     "text": [
      "CPU times: user 1min 53s, sys: 40.1 s, total: 2min 33s\n",
      "Wall time: 11min 51s\n"
     ]
    }
   ],
   "source": [
    "%time df_all['lemmas'] = df_all.text.apply(lambda x: preprocessing(x))"
   ]
  },
  {
   "cell_type": "code",
   "execution_count": null,
   "metadata": {},
   "outputs": [],
   "source": []
  },
  {
   "cell_type": "code",
   "execution_count": null,
   "metadata": {},
   "outputs": [],
   "source": []
  },
  {
   "cell_type": "code",
   "execution_count": 88,
   "metadata": {},
   "outputs": [
    {
     "data": {
      "text/plain": [
       "Index(['author', 'bank_name', 'city', 'rating_grade', 'text', 'title',\n",
       "       'city_n', 'words_l', 'text_SW', 'lemma', 'lemmas'],\n",
       "      dtype='object')"
      ]
     },
     "execution_count": 88,
     "metadata": {},
     "output_type": "execute_result"
    }
   ],
   "source": [
    "df_all.columns"
   ]
  },
  {
   "cell_type": "code",
   "execution_count": 89,
   "metadata": {},
   "outputs": [],
   "source": [
    "dictionary = corpora.Dictionary(df_all.lemmas)\n",
    "corpus = [dictionary.doc2bow(text) for text in df_all.lemmas]"
   ]
  },
  {
   "cell_type": "code",
   "execution_count": 92,
   "metadata": {},
   "outputs": [
    {
     "name": "stdout",
     "output_type": "stream",
     "text": [
      "CPU times: user 23min 56s, sys: 16.7 s, total: 24min 12s\n",
      "Wall time: 24min\n"
     ]
    }
   ],
   "source": [
    "%time ldamodel = gensim.models.ldamodel.LdaModel(corpus, num_topics=5, id2word = dictionary, passes=20)"
   ]
  },
  {
   "cell_type": "code",
   "execution_count": 93,
   "metadata": {},
   "outputs": [
    {
     "data": {
      "text/plain": [
       "[(0, '0.061*\"банк\" + 0.024*\"клиент\" + 0.020*\"вклад\" + 0.009*\"обслуживание\"'),\n",
       " (1, '0.013*\"банк\" + 0.011*\"отделение\" + 0.009*\"работать\" + 0.009*\"сказать\"'),\n",
       " (2, '0.041*\"банк\" + 0.029*\"кредит\" + 0.014*\"сумма\" + 0.011*\"договор\"'),\n",
       " (3, '0.048*\"карта\" + 0.025*\"банк\" + 0.020*\"деньги\" + 0.016*\"счет\"'),\n",
       " (4, '0.021*\"банк\" + 0.016*\"документ\" + 0.015*\"день\" + 0.014*\"отделение\"')]"
      ]
     },
     "execution_count": 93,
     "metadata": {},
     "output_type": "execute_result"
    }
   ],
   "source": [
    "ldamodel.print_topics(num_topics=5, num_words=4)"
   ]
  },
  {
   "cell_type": "code",
   "execution_count": 94,
   "metadata": {},
   "outputs": [
    {
     "data": {
      "text/html": [
       "\n",
       "<link rel=\"stylesheet\" type=\"text/css\" href=\"https://cdn.rawgit.com/bmabey/pyLDAvis/files/ldavis.v1.0.0.css\">\n",
       "\n",
       "\n",
       "<div id=\"ldavis_el9451175649773442349214596\"></div>\n",
       "<script type=\"text/javascript\">\n",
       "\n",
       "var ldavis_el9451175649773442349214596_data = {\"mdsDat\": {\"Freq\": [27.49408531188965, 21.22865104675293, 20.98735237121582, 15.647439956665039, 14.64246940612793], \"cluster\": [1, 1, 1, 1, 1], \"topics\": [1, 2, 3, 4, 5], \"x\": [0.07021682271343774, 0.062184164215861926, -0.01851782294330624, -0.22671017004676056, 0.11282700606076708], \"y\": [0.03252474791407337, 0.10058662475478379, -0.20368335807963997, 0.05970738777191184, 0.01086459763887107]}, \"tinfo\": {\"Category\": [\"Default\", \"Default\", \"Default\", \"Default\", \"Default\", \"Default\", \"Default\", \"Default\", \"Default\", \"Default\", \"Default\", \"Default\", \"Default\", \"Default\", \"Default\", \"Default\", \"Default\", \"Default\", \"Default\", \"Default\", \"Default\", \"Default\", \"Default\", \"Default\", \"Default\", \"Default\", \"Default\", \"Default\", \"Default\", \"Default\", \"Topic1\", \"Topic1\", \"Topic1\", \"Topic1\", \"Topic1\", \"Topic1\", \"Topic1\", \"Topic1\", \"Topic1\", \"Topic1\", \"Topic1\", \"Topic1\", \"Topic1\", \"Topic1\", \"Topic1\", \"Topic1\", \"Topic1\", \"Topic1\", \"Topic1\", \"Topic1\", \"Topic1\", \"Topic1\", \"Topic1\", \"Topic1\", \"Topic1\", \"Topic1\", \"Topic1\", \"Topic1\", \"Topic1\", \"Topic1\", \"Topic1\", \"Topic1\", \"Topic1\", \"Topic1\", \"Topic1\", \"Topic1\", \"Topic1\", \"Topic1\", \"Topic1\", \"Topic1\", \"Topic1\", \"Topic1\", \"Topic1\", \"Topic1\", \"Topic1\", \"Topic1\", \"Topic1\", \"Topic1\", \"Topic1\", \"Topic1\", \"Topic1\", \"Topic1\", \"Topic1\", \"Topic1\", \"Topic1\", \"Topic1\", \"Topic1\", \"Topic1\", \"Topic1\", \"Topic1\", \"Topic1\", \"Topic1\", \"Topic1\", \"Topic1\", \"Topic1\", \"Topic1\", \"Topic1\", \"Topic1\", \"Topic1\", \"Topic1\", \"Topic1\", \"Topic1\", \"Topic1\", \"Topic1\", \"Topic1\", \"Topic1\", \"Topic1\", \"Topic1\", \"Topic1\", \"Topic1\", \"Topic1\", \"Topic1\", \"Topic2\", \"Topic2\", \"Topic2\", \"Topic2\", \"Topic2\", \"Topic2\", \"Topic2\", \"Topic2\", \"Topic2\", \"Topic2\", \"Topic2\", \"Topic2\", \"Topic2\", \"Topic2\", \"Topic2\", \"Topic2\", \"Topic2\", \"Topic2\", \"Topic2\", \"Topic2\", \"Topic2\", \"Topic2\", \"Topic2\", \"Topic2\", \"Topic2\", \"Topic2\", \"Topic2\", \"Topic2\", \"Topic2\", \"Topic2\", \"Topic2\", \"Topic2\", \"Topic2\", \"Topic2\", \"Topic2\", \"Topic2\", \"Topic2\", \"Topic2\", \"Topic2\", \"Topic2\", \"Topic2\", \"Topic2\", \"Topic2\", \"Topic2\", \"Topic2\", \"Topic2\", \"Topic2\", \"Topic2\", \"Topic2\", \"Topic2\", \"Topic2\", \"Topic2\", \"Topic2\", \"Topic2\", \"Topic2\", \"Topic2\", \"Topic2\", \"Topic2\", \"Topic2\", \"Topic2\", \"Topic2\", \"Topic2\", \"Topic2\", \"Topic2\", \"Topic2\", \"Topic2\", \"Topic2\", \"Topic2\", \"Topic2\", \"Topic2\", \"Topic3\", \"Topic3\", \"Topic3\", \"Topic3\", \"Topic3\", \"Topic3\", \"Topic3\", \"Topic3\", \"Topic3\", \"Topic3\", \"Topic3\", \"Topic3\", \"Topic3\", \"Topic3\", \"Topic3\", \"Topic3\", \"Topic3\", \"Topic3\", \"Topic3\", \"Topic3\", \"Topic3\", \"Topic3\", \"Topic3\", \"Topic3\", \"Topic3\", \"Topic3\", \"Topic3\", \"Topic3\", \"Topic3\", \"Topic3\", \"Topic3\", \"Topic3\", \"Topic3\", \"Topic3\", \"Topic3\", \"Topic3\", \"Topic3\", \"Topic3\", \"Topic3\", \"Topic3\", \"Topic3\", \"Topic3\", \"Topic3\", \"Topic3\", \"Topic3\", \"Topic3\", \"Topic3\", \"Topic3\", \"Topic3\", \"Topic3\", \"Topic3\", \"Topic3\", \"Topic3\", \"Topic3\", \"Topic3\", \"Topic3\", \"Topic3\", \"Topic3\", \"Topic3\", \"Topic3\", \"Topic3\", \"Topic3\", \"Topic3\", \"Topic3\", \"Topic3\", \"Topic3\", \"Topic3\", \"Topic3\", \"Topic3\", \"Topic3\", \"Topic3\", \"Topic3\", \"Topic3\", \"Topic3\", \"Topic3\", \"Topic3\", \"Topic3\", \"Topic3\", \"Topic3\", \"Topic3\", \"Topic3\", \"Topic3\", \"Topic3\", \"Topic4\", \"Topic4\", \"Topic4\", \"Topic4\", \"Topic4\", \"Topic4\", \"Topic4\", \"Topic4\", \"Topic4\", \"Topic4\", \"Topic4\", \"Topic4\", \"Topic4\", \"Topic4\", \"Topic4\", \"Topic4\", \"Topic4\", \"Topic4\", \"Topic4\", \"Topic4\", \"Topic4\", \"Topic4\", \"Topic4\", \"Topic4\", \"Topic4\", \"Topic4\", \"Topic4\", \"Topic4\", \"Topic4\", \"Topic4\", \"Topic4\", \"Topic4\", \"Topic4\", \"Topic4\", \"Topic4\", \"Topic4\", \"Topic4\", \"Topic4\", \"Topic4\", \"Topic4\", \"Topic4\", \"Topic4\", \"Topic4\", \"Topic4\", \"Topic4\", \"Topic4\", \"Topic4\", \"Topic4\", \"Topic4\", \"Topic4\", \"Topic4\", \"Topic4\", \"Topic4\", \"Topic4\", \"Topic4\", \"Topic4\", \"Topic4\", \"Topic4\", \"Topic4\", \"Topic4\", \"Topic4\", \"Topic4\", \"Topic4\", \"Topic4\", \"Topic4\", \"Topic4\", \"Topic4\", \"Topic4\", \"Topic4\", \"Topic4\", \"Topic4\", \"Topic4\", \"Topic4\", \"Topic4\", \"Topic4\", \"Topic4\", \"Topic4\", \"Topic4\", \"Topic4\", \"Topic4\", \"Topic4\", \"Topic4\", \"Topic4\", \"Topic4\", \"Topic4\", \"Topic4\", \"Topic4\", \"Topic5\", \"Topic5\", \"Topic5\", \"Topic5\", \"Topic5\", \"Topic5\", \"Topic5\", \"Topic5\", \"Topic5\", \"Topic5\", \"Topic5\", \"Topic5\", \"Topic5\", \"Topic5\", \"Topic5\", \"Topic5\", \"Topic5\", \"Topic5\", \"Topic5\", \"Topic5\", \"Topic5\", \"Topic5\", \"Topic5\", \"Topic5\", \"Topic5\", \"Topic5\", \"Topic5\", \"Topic5\", \"Topic5\", \"Topic5\", \"Topic5\", \"Topic5\", \"Topic5\", \"Topic5\", \"Topic5\", \"Topic5\", \"Topic5\", \"Topic5\", \"Topic5\", \"Topic5\", \"Topic5\", \"Topic5\", \"Topic5\", \"Topic5\", \"Topic5\", \"Topic5\", \"Topic5\", \"Topic5\", \"Topic5\", \"Topic5\", \"Topic5\", \"Topic5\", \"Topic5\", \"Topic5\", \"Topic5\", \"Topic5\", \"Topic5\", \"Topic5\", \"Topic5\", \"Topic5\", \"Topic5\", \"Topic5\", \"Topic5\", \"Topic5\", \"Topic5\", \"Topic5\", \"Topic5\", \"Topic5\", \"Topic5\", \"Topic5\", \"Topic5\", \"Topic5\", \"Topic5\", \"Topic5\", \"Topic5\", \"Topic5\", \"Topic5\", \"Topic5\", \"Topic5\", \"Topic5\", \"Topic5\", \"Topic5\", \"Topic5\", \"Topic5\", \"Topic5\"], \"Freq\": [163285.0, 88133.0, 373784.0, 41310.0, 97734.0, 33501.0, 89434.0, 40328.0, 24417.0, 76258.0, 40314.0, 60287.0, 77849.0, 20823.0, 42755.0, 57700.0, 36019.0, 21063.0, 28133.0, 91011.0, 23534.0, 44394.0, 21346.0, 23065.0, 14674.0, 32027.0, 77152.0, 27686.0, 41547.0, 23828.0, 8650.2958984375, 4746.0029296875, 3943.15478515625, 3759.390869140625, 3513.122314453125, 3447.221435546875, 3247.357177734375, 3154.43310546875, 2722.421875, 2621.72119140625, 1894.7962646484375, 1841.1402587890625, 1574.0003662109375, 1535.307861328125, 1508.6534423828125, 1313.9964599609375, 1279.3134765625, 1205.7686767578125, 980.3351440429688, 944.3370971679688, 882.2327880859375, 889.567138671875, 896.0570678710938, 845.5955810546875, 808.3927612304688, 731.3394165039062, 670.392822265625, 654.7593994140625, 645.3514404296875, 538.8145141601562, 159749.515625, 4881.26611328125, 5379.19287109375, 38980.98046875, 1229.9349365234375, 4811.43212890625, 11224.9677734375, 5915.0234375, 21485.28515625, 2566.76025390625, 5388.67236328125, 17678.236328125, 5988.68359375, 2967.180908203125, 4456.43603515625, 8817.5341796875, 14711.53515625, 67285.2265625, 52595.6015625, 21665.79296875, 7996.24462890625, 5346.02587890625, 5132.1728515625, 20988.734375, 6442.44140625, 9208.142578125, 30891.677734375, 13823.912109375, 13601.1875, 6257.494140625, 10449.955078125, 18339.44140625, 18991.978515625, 10583.0107421875, 35907.8046875, 13301.337890625, 84226.4140625, 11425.8564453125, 31219.9921875, 15821.6640625, 11143.138671875, 15703.5517578125, 21197.486328125, 13386.4658203125, 20332.337890625, 22323.841796875, 17172.52734375, 16138.8603515625, 21845.115234375, 16266.775390625, 16874.71484375, 13774.1484375, 20822.306640625, 14673.6884765625, 12413.9091796875, 12132.6865234375, 9705.8232421875, 8842.3388671875, 7171.53076171875, 7090.10888671875, 4711.841796875, 4415.89501953125, 4372.50634765625, 3021.83251953125, 2575.46728515625, 2388.56787109375, 2213.80078125, 2154.281005859375, 1926.51513671875, 1772.813720703125, 1593.5269775390625, 1567.0655517578125, 1559.0894775390625, 1557.224609375, 1513.2103271484375, 1417.1632080078125, 1335.200927734375, 1201.469482421875, 1141.6126708984375, 1145.2442626953125, 1099.85009765625, 1082.83642578125, 1202.660888671875, 4670.18798828125, 9039.267578125, 4584.32568359375, 1742.622802734375, 73633.6171875, 4263.21484375, 5019.93115234375, 28513.646484375, 29439.439453125, 9944.0537109375, 36475.21875, 2104.515380859375, 17113.69921875, 3293.50439453125, 12323.771484375, 22566.6953125, 6167.9833984375, 105617.578125, 12796.4052734375, 18164.4140625, 23616.53125, 9347.990234375, 11875.6591796875, 14585.3134765625, 13039.615234375, 15630.1220703125, 24520.748046875, 15932.1259765625, 8648.30859375, 14646.7353515625, 20678.6328125, 18981.537109375, 12463.6650390625, 16938.033203125, 12768.0654296875, 11947.46484375, 11243.349609375, 10192.310546875, 10510.177734375, 5753.400390625, 3692.16015625, 3180.700927734375, 2297.953125, 1872.4097900390625, 1876.630615234375, 1861.73779296875, 1816.8172607421875, 1691.0433349609375, 1263.13525390625, 1199.1224365234375, 974.8416748046875, 959.6351318359375, 842.5899047851562, 797.0615234375, 710.7056274414062, 687.69677734375, 620.6449584960938, 613.1758422851562, 600.1702880859375, 574.5645141601562, 580.692138671875, 560.6658325195312, 548.1232299804688, 518.9384155273438, 522.8046264648438, 509.9438171386719, 508.9270935058594, 497.3551940917969, 493.3712158203125, 4219.63037109375, 6864.81298828125, 2663.362548828125, 19816.3046875, 2603.147705078125, 1306.3675537109375, 2507.355224609375, 11665.234375, 19002.29296875, 19378.08984375, 1071.12060546875, 7313.12548828125, 1875.603759765625, 5755.501953125, 20569.275390625, 4205.5888671875, 7418.78173828125, 14957.1572265625, 3108.818115234375, 23815.8359375, 11564.0078125, 7635.55419921875, 9719.1123046875, 20174.609375, 6911.6826171875, 4736.28125, 8974.8388671875, 13590.87890625, 14222.05859375, 8277.1201171875, 26998.86328125, 23355.47265625, 17057.642578125, 19332.423828125, 18691.794921875, 9267.623046875, 10899.8896484375, 14663.353515625, 23195.87890625, 20883.94140625, 11901.6337890625, 11707.66796875, 16227.6201171875, 32169.087890625, 16738.654296875, 11750.6884765625, 12840.2373046875, 11324.353515625, 9518.076171875, 10309.8388671875, 11695.439453125, 10666.76953125, 11167.8046875, 666.6443481445312, 667.3477172851562, 657.422607421875, 644.0289916992188, 602.9417724609375, 723.50146484375, 460.49267578125, 534.07958984375, 375.48895263671875, 376.1346130371094, 358.4107971191406, 331.6571960449219, 322.0325012207031, 304.00115966796875, 274.95904541015625, 289.65350341796875, 273.37628173828125, 275.8267822265625, 256.81634521484375, 331.05596923828125, 243.43467712402344, 241.28575134277344, 232.59445190429688, 226.33322143554688, 228.91490173339844, 212.69020080566406, 204.0137939453125, 188.6923370361328, 183.5449981689453, 174.55715942382812, 1318.6175537109375, 37114.59765625, 369.9649658203125, 8402.8701171875, 2570.884033203125, 4015.943115234375, 4327.232421875, 10144.623046875, 1239.641357421875, 1205.7186279296875, 8290.5751953125, 5289.251953125, 2524.85693359375, 1836.5623779296875, 7785.3232421875, 15432.201171875, 3124.303955078125, 1883.634521484375, 3869.811279296875, 725.2632446289062, 2829.715087890625, 15471.8740234375, 17577.521484375, 1799.7327880859375, 2485.943359375, 45071.91796875, 1983.862060546875, 2110.40966796875, 1829.572998046875, 114685.359375, 2030.477294921875, 2299.348876953125, 5142.6337890625, 13442.8173828125, 8123.32421875, 7428.61865234375, 4363.6748046875, 9204.650390625, 4779.2890625, 10860.224609375, 11242.380859375, 9841.732421875, 9821.71484375, 6288.4140625, 16109.224609375, 15673.1572265625, 10056.1357421875, 14211.6884765625, 13474.896484375, 13901.2041015625, 10724.705078125, 10031.779296875, 6783.8837890625, 8318.4970703125, 8629.8525390625, 8729.30078125, 8083.13037109375, 3568.2607421875, 3077.6533203125, 2194.100830078125, 1990.8123779296875, 1214.4605712890625, 1180.192138671875, 965.259521484375, 844.2174072265625, 536.5249633789062, 512.790283203125, 481.61468505859375, 438.21630859375, 409.81683349609375, 364.48175048828125, 331.958740234375, 326.4900817871094, 323.34661865234375, 324.15264892578125, 321.21435546875, 314.0584411621094, 269.2777099609375, 226.4593963623047, 225.06495666503906, 217.48239135742188, 217.63970947265625, 214.6121368408203, 208.89285278320312, 189.6256866455078, 190.67791748046875, 186.89852905273438, 3181.1142578125, 1315.957763671875, 22462.10546875, 425.0522766113281, 1336.2703857421875, 28418.599609375, 4505.98388671875, 1002.047119140625, 6097.69091796875, 5338.44140625, 6435.880859375, 2349.2109375, 8529.986328125, 2414.34033203125, 7612.921875, 783.6941528320312, 2910.610595703125, 7632.12255859375, 19818.087890625, 7421.9375, 6132.345703125, 6601.41845703125, 8989.072265625, 2084.64501953125, 8101.55224609375, 8133.59814453125, 13191.6552734375, 17924.3203125, 14404.162109375, 6219.47216796875, 25158.68359375, 24860.248046875, 6764.4560546875, 25836.904296875, 13915.1494140625, 18511.53125, 7338.88623046875, 7851.8310546875, 15620.330078125, 13057.2001953125, 19470.333984375, 37086.43359375, 15327.41015625, 14040.1005859375, 11255.8701171875, 9142.8427734375, 14497.9404296875, 8469.818359375, 12412.6015625, 9242.205078125, 8566.54296875, 8820.0576171875, 8300.697265625, 8780.7666015625, 8516.8984375], \"Term\": [\"\\u043a\\u0430\\u0440\\u0442\\u0430\", \"\\u043a\\u0440\\u0435\\u0434\\u0438\\u0442\", \"\\u0431\\u0430\\u043d\\u043a\", \"\\u0432\\u043a\\u043b\\u0430\\u0434\", \"\\u0434\\u0435\\u043d\\u044c\\u0433\\u0438\", \"\\u0434\\u043e\\u043a\\u0443\\u043c\\u0435\\u043d\\u0442\", \"\\u043a\\u043b\\u0438\\u0435\\u043d\\u0442\", \"\\u0431\\u0430\\u043d\\u043a\\u043e\\u043c\\u0430\\u0442\", \"\\u0437\\u0430\\u044f\\u0432\\u043a\\u0430\", \"\\u0441\\u0447\\u0435\\u0442\", \"\\u043f\\u043b\\u0430\\u0442\\u0435\\u0436\", \"\\u0441\\u0443\\u043c\\u043c\\u0430\", \"\\u043e\\u0442\\u0434\\u0435\\u043b\\u0435\\u043d\\u0438\\u0435\", \"\\u0437\\u0430\\u0434\\u043e\\u043b\\u0436\\u0435\\u043d\\u043d\\u043e\\u0441\\u0442\\u044c\", \"\\u0434\\u043e\\u0433\\u043e\\u0432\\u043e\\u0440\", \"\\u0437\\u0430\\u044f\\u0432\\u043b\\u0435\\u043d\\u0438\\u0435\", \"\\u0433\", \"\\u043e\\u0447\\u0435\\u0440\\u0435\\u0434\\u044c\", \"\\u043e\\u0431\\u0441\\u043b\\u0443\\u0436\\u0438\\u0432\\u0430\\u043d\\u0438\\u0435\", \"\\u0434\\u0435\\u043d\\u044c\", \"\\u043e\\u0442\\u043a\\u0440\\u044b\\u0432\\u0430\\u0442\\u044c\", \"\\u043e\\u0442\\u0432\\u0435\\u0442\", \"\\u0443\\u0441\\u043b\\u043e\\u0432\\u0438\\u0435\", \"\\u043c\\u0438\\u043d\\u0443\\u0442\\u0430\", \"\\u043f\\u043e\\u0433\\u0430\\u0448\\u0435\\u043d\\u0438\\u0435\", \"\\u0441\\u0431\\u0435\\u0440\\u0431\\u0430\\u043d\\u043a\", \"\\u0441\\u043e\\u0442\\u0440\\u0443\\u0434\\u043d\\u0438\\u043a\", \"\\u0447\\u0435\\u043b\\u043e\\u0432\\u0435\\u043a\", \"\\u043e\\u0444\\u0438\\u0441\", \"\\u0434\\u0435\\u0432\\u0443\\u0448\\u043a\\u0430\", \"\\u0437\\u0430\\u0431\\u043b\\u043e\\u043a\\u0438\\u0440\\u043e\\u0432\\u0430\\u0442\\u044c\", \"\\u043f\\u0435\\u0440\\u0435\\u0432\\u044b\\u043f\\u0443\\u0441\\u043a\", \"\\u0431\\u0430\\u043b\\u0430\\u043d\\u0441\", \"\\u043f\\u0430\\u0440\\u043e\\u043b\\u044c\", \"\\u0442\\u0440\\u0430\\u043d\\u0437\\u0430\\u043a\\u0446\\u0438\\u044f\", \"\\u043f\\u0438\\u043d\", \"\\u0430\\u043a\\u0442\\u0438\\u0432\\u0438\\u0440\\u043e\\u0432\\u0430\\u0442\\u044c\", \"\\u043f\\u0435\\u0440\\u0435\\u0432\\u044b\\u043f\\u0443\\u0441\\u043a\\u0430\\u0442\\u044c\", \"\\u043f\\u043e\\u043b\\u0443\\u0447\\u0430\\u0442\\u0435\\u043b\\u044c\", \"\\u0431\\u043b\\u043e\\u043a\\u0438\\u0440\\u043e\\u0432\\u043a\\u0430\", \"\\u043a\\u043e\\u0434\\u043e\\u0432\\u044b\\u0439\", \"\\u0440\\u0430\\u0437\\u0431\\u043b\\u043e\\u043a\\u0438\\u0440\\u043e\\u0432\\u0430\\u0442\\u044c\", \"\\u043f\\u0440\\u0438\\u0432\\u044f\\u0437\\u044b\\u0432\\u0430\\u0442\\u044c\", \"\\u0431\\u043b\\u043e\\u043a\\u0438\\u0440\\u043e\\u0432\\u0430\\u0442\\u044c\", \"\\u043a\\u043e\\u0448\\u0435\\u043b\\u0435\\u043a\", \"\\u0430\\u043a\\u0442\\u0438\\u0432\\u0430\\u0446\\u0438\\u044f\", \"\\u0447\\u0435\\u043a\\u0430\", \"\\u0442\\u0435\\u0445\\u043f\\u043e\\u0434\\u0434\\u0435\\u0440\\u0436\\u043a\\u0430\", \"\\u043b\\u043e\\u0433\\u0438\\u043d\", \"\\u0430\\u0432\\u0442\\u043e\\u0440\\u0438\\u0437\\u0430\\u0446\\u0438\\u044f\", \"\\u0440\\u0430\\u0437\\u0431\\u043b\\u043e\\u043a\\u0438\\u0440\\u043e\\u0432\\u043a\\u0430\", \"\\u0441\\u0438\\u0442\\u0438\\u0444\\u043e\\u043d\", \"\\u0432\\u0432\\u043e\\u0434\", \"\\u0441\\u044a\\u0435\\u0434\\u0430\\u0442\\u044c\", \"\\u043a\\u0438\\u0432\\u0438\", \"\\u0443\\u0441\\u0442\\u0440\\u043e\\u0439\\u0441\\u0442\\u0432\\u043e\", \"\\u043e\\u0442\\u043f\\u0440\\u0430\\u0432\\u0438\\u0442\\u0435\\u043b\\u044c\", \"\\u044f\\u043d\\u0434\\u0435\\u043a\\u0441\", \"\\u043c\\u0435\\u043d\\u044e\", \"\\u043f\\u0435\\u0440\\u0435\\u0432\\u044b\\u043f\\u0443\\u0449\\u0435\\u043d\\u043d\\u044b\\u0439\", \"\\u043a\\u0430\\u0440\\u0442\\u0430\", \"\\u0432\\u044b\\u043f\\u0443\\u0441\\u043a\\u0430\\u0442\\u044c\", \"\\u043a\\u043e\\u0434\", \"\\u0431\\u0430\\u043d\\u043a\\u043e\\u043c\\u0430\\u0442\", \"\\u0430\\u044d\\u0440\\u043e\\u0444\\u043b\\u043e\\u0442\", \"\\u0437\\u0430\\u0447\\u0438\\u0441\\u043b\\u044f\\u0442\\u044c\", \"\\u043f\\u043e\\u0434\\u0434\\u0435\\u0440\\u0436\\u043a\\u0430\", \"\\u0447\\u0435\\u043a\", \"\\u043e\\u043f\\u0435\\u0440\\u0430\\u0446\\u0438\\u044f\", \"\\u043e\\u0432\\u0435\\u0440\\u0434\\u0440\\u0430\\u0444\\u0442\", \"\\u043f\\u043e\\u0434\\u043a\\u043b\\u044e\\u0447\\u0430\\u0442\\u044c\", \"\\u0441\\u043d\\u0438\\u043c\\u0430\\u0442\\u044c\", \"\\u0434\\u0435\\u0431\\u0435\\u0442\\u043e\\u0432\\u044b\\u0439\", \"\\u0437\\u0430\\u0447\\u0438\\u0441\\u043b\\u0435\\u043d\\u0438\\u0435\", \"\\u0441\\u0431\\u043e\\u0439\", \"\\u043b\\u0438\\u043c\\u0438\\u0442\", \"\\u043f\\u0435\\u0440\\u0435\\u0432\\u043e\\u0434\", \"\\u0434\\u0435\\u043d\\u044c\\u0433\\u0438\", \"\\u0441\\u0447\\u0435\\u0442\", \"\\u0441\\u0440\\u0435\\u0434\\u0441\\u0442\\u0432\\u043e\", \"\\u0441\\u043f\\u0438\\u0441\\u044b\\u0432\\u0430\\u0442\\u044c\", \"\\u043e\\u043d\\u043b\\u0430\\u0439\\u043d\", \"\\u0442\\u0435\\u0445\\u043d\\u0438\\u0447\\u0435\\u0441\\u043a\\u0438\\u0439\", \"\\u0441\\u0431\\u0435\\u0440\\u0431\\u0430\\u043d\\u043a\", \"\\u043f\\u0435\\u0440\\u0435\\u0432\\u043e\\u0434\\u0438\\u0442\\u044c\", \"\\u0432\\u0435\\u0440\\u043d\\u0443\\u0442\\u044c\", \"\\u0437\\u0430\\u044f\\u0432\\u043b\\u0435\\u043d\\u0438\\u0435\", \"\\u043e\\u043f\\u0435\\u0440\\u0430\\u0442\\u043e\\u0440\", \"\\u0441\\u043c\\u0441\", \"\\u0442\\u0435\\u0440\\u043c\\u0438\\u043d\\u0430\\u043b\", \"\\u0441\\u0438\\u0441\\u0442\\u0435\\u043c\\u0430\", \"\\u0440\\u0443\\u0431\\u043b\\u044c\", \"\\u043d\\u0430\\u043f\\u0438\\u0441\\u0430\\u0442\\u044c\", \"\\u0441\\u043b\\u0443\\u0436\\u0431\\u0430\", \"\\u0434\\u0435\\u043d\\u044c\", \"\\u043a\\u043e\\u043c\\u0438\\u0441\\u0441\\u0438\\u044f\", \"\\u0431\\u0430\\u043d\\u043a\", \"\\u0438\\u043d\\u0442\\u0435\\u0440\\u043d\\u0435\\u0442\", \"\\u043c\\u043e\\u0439\", \"\\u043f\\u0440\\u043e\\u0431\\u043b\\u0435\\u043c\\u0430\", \"\\u0446\\u0435\\u043d\\u0442\\u0440\", \"\\u043d\\u043e\\u043c\\u0435\\u0440\", \"\\u043f\\u043e\\u043b\\u0443\\u0447\\u0430\\u0442\\u044c\", \"\\u043f\\u0440\\u0435\\u0442\\u0435\\u043d\\u0437\\u0438\\u044f\", \"\\u0441\\u0443\\u043c\\u043c\\u0430\", \"\\u043e\\u0442\\u0434\\u0435\\u043b\\u0435\\u043d\\u0438\\u0435\", \"\\u043c\\u043e\\u0447\\u044c\", \"\\u043f\\u0440\\u0438\\u0445\\u043e\\u0434\\u0438\\u0442\\u044c\", \"\\u043a\\u043e\\u0442\\u043e\\u0440\\u044b\\u0439\", \"\\u043e\\u0442\\u0432\\u0435\\u0442\", \"\\u0441\\u043a\\u0430\\u0437\\u0430\\u0442\\u044c\", \"\\u043c\\u0435\\u0441\\u044f\\u0446\", \"\\u0437\\u0430\\u0434\\u043e\\u043b\\u0436\\u0435\\u043d\\u043d\\u043e\\u0441\\u0442\\u044c\", \"\\u043f\\u043e\\u0433\\u0430\\u0448\\u0435\\u043d\\u0438\\u0435\", \"\\u043f\\u043e\\u0433\\u0430\\u0441\\u0438\\u0442\\u044c\", \"\\u0434\\u043e\\u043b\\u0433\", \"\\u043f\\u0440\\u043e\\u0441\\u0440\\u043e\\u0447\\u043a\\u0430\", \"\\u0441\\u0442\\u0440\\u0430\\u0445\\u043e\\u0432\\u043a\\u0430\", \"\\u0448\\u0442\\u0440\\u0430\\u0444\", \"\\u0434\\u043e\\u0441\\u0440\\u043e\\u0447\\u043d\\u044b\\u0439\", \"\\u0434\\u043e\\u0441\\u0440\\u043e\\u0447\\u043d\\u043e\", \"\\u0432\\u044b\\u043f\\u043b\\u0430\\u0447\\u0438\\u0432\\u0430\\u0442\\u044c\", \"\\u043f\\u0440\\u043e\\u0441\\u0440\\u043e\\u0447\\u0438\\u0432\\u0430\\u0442\\u044c\", \"\\u043f\\u0435\\u043d\\u044f\", \"\\u0441\\u0443\\u0434\\u0435\\u0431\\u043d\\u044b\\u0439\", \"\\u0443\\u0433\\u0440\\u043e\\u0437\\u0430\", \"\\u043e\\u0442\\u043f\", \"\\u0432\\u0437\\u044b\\u0441\\u043a\\u0430\\u043d\\u0438\\u0435\", \"\\u0434\\u043e\\u043b\\u0436\\u043d\\u0438\\u043a\", \"\\u043f\\u0435\\u0440\\u0435\\u043f\\u043b\\u0430\\u0442\\u0430\", \"\\u043f\\u0440\\u0438\\u0441\\u0442\\u0430\\u0432\", \"\\u0443\\u0433\\u0440\\u043e\\u0436\\u0430\\u0442\\u044c\", \"\\u043f\\u0442\\u0441\", \"\\u043d\\u0430\\u0437\\u0432\\u0430\\u043d\\u0438\\u0432\\u0430\\u0442\\u044c\", \"\\u0433\\u0430\\u0441\\u0438\\u0442\\u044c\", \"\\u043a\\u043e\\u043b\\u043b\\u0435\\u043a\\u0442\\u043e\\u0440\", \"\\u043f\\u043e\\u0433\\u0430\\u0448\\u0430\\u0442\\u044c\", \"\\u043a\\u043e\\u043b\\u043b\\u0435\\u043a\\u0442\\u043e\\u0440\\u0441\\u043a\\u0438\\u0439\", \"\\u0433\\u043a\", \"\\u0430\\u0432\\u0442\\u043e\\u0441\\u0430\\u043b\\u043e\\u043d\", \"\\u0448\\u0442\\u0440\\u0430\\u0444\\u043d\\u043e\\u0439\", \"\\u0431\\u044e\\u0440\\u043e\", \"\\u043e\\u0442\\u043c\\u0435\\u0442\\u043a\\u0430\", \"\\u0437\\u0430\\u043a\\u043e\\u043d\", \"\\u0441\\u0443\\u0434\", \"\\u0435\\u0436\\u0435\\u043c\\u0435\\u0441\\u044f\\u0447\\u043d\\u044b\\u0439\", \"\\u0430\\u0433\\u0435\\u043d\\u0442\\u0441\\u0442\\u0432\\u043e\", \"\\u043a\\u0440\\u0435\\u0434\\u0438\\u0442\", \"\\u0441\\u0442\\u0440\\u0430\\u0445\\u043e\\u0432\\u0430\\u043d\\u0438\\u0435\", \"\\u0433\\u0440\\u0430\\u0444\\u0438\\u043a\", \"\\u043f\\u043b\\u0430\\u0442\\u0435\\u0436\", \"\\u0434\\u043e\\u0433\\u043e\\u0432\\u043e\\u0440\", \"\\u043f\\u043b\\u0430\\u0442\\u0438\\u0442\\u044c\", \"\\u0441\\u0443\\u043c\\u043c\\u0430\", \"\\u043f\\u043e\\u0442\\u0440\\u0435\\u0431\\u0438\\u0442\\u0435\\u043b\\u044c\", \"\\u0437\\u0432\\u043e\\u043d\\u043e\\u043a\", \"\\u0441\\u0442\\u0440\\u0430\\u0445\\u043e\\u0432\\u043e\\u0439\", \"\\u043e\\u043f\\u043b\\u0430\\u0447\\u0438\\u0432\\u0430\\u0442\\u044c\", \"\\u043a\\u0440\\u0435\\u0434\\u0438\\u0442\\u043d\\u044b\\u0439\", \"\\u043f\\u0440\\u0430\\u0432\\u043e\", \"\\u0431\\u0430\\u043d\\u043a\", \"\\u0440\\u0443\\u0431\", \"\\u043c\\u0435\\u0441\\u044f\\u0446\", \"\\u0433\\u043e\\u0434\", \"\\u0432\\u043d\\u043e\\u0441\\u0438\\u0442\\u044c\", \"\\u043f\\u0440\\u043e\\u0446\\u0435\\u043d\\u0442\", \"\\u0440\\u0443\\u0431\\u043b\\u044c\", \"\\u0434\\u043e\\u043b\\u0436\\u043d\\u044b\\u0439\", \"\\u0432\\u0430\\u0448\", \"\\u043c\\u043e\\u0439\", \"\\u0437\\u0432\\u043e\\u043d\\u0438\\u0442\\u044c\", \"\\u0438\\u0441\\u0442\\u043e\\u0440\\u0438\\u044f\", \"\\u0442\\u0435\\u043b\\u0435\\u0444\\u043e\\u043d\", \"\\u043a\\u043e\\u0442\\u043e\\u0440\\u044b\\u0439\", \"\\u0441\\u043e\\u0442\\u0440\\u0443\\u0434\\u043d\\u0438\\u043a\", \"\\u043d\\u043e\\u043c\\u0435\\u0440\", \"\\u0434\\u0435\\u043d\\u044c\", \"\\u0437\\u0430\\u044f\\u0432\\u043b\\u0435\\u043d\\u0438\\u0435\", \"\\u0434\\u0430\\u043d\\u043d\\u044b\\u0439\", \"\\u043a\\u0430\\u043a\\u043e\\u0439\", \"\\u043f\\u0440\\u0435\\u0442\\u0435\\u043d\\u0437\\u0438\\u044f\", \"\\u043a\\u043b\\u0438\\u0435\\u043d\\u0442\", \"\\u0441\\u0438\\u0434\\u0435\\u0442\\u044c\", \"\\u043e\\u043a\\u043d\\u043e\", \"\\u0437\\u0430\\u043b\", \"\\u0434\\u0435\\u0432\\u043e\\u0447\\u043a\\u0430\", \"\\u043e\\u0445\\u0440\\u0430\\u043d\\u043d\\u0438\\u043a\", \"\\u043c\\u0438\\u043b\\u044b\\u0439\", \"\\u043d\\u0430\\u0440\\u043e\\u0434\", \"\\u043e\\u043a\\u043e\\u0448\\u043a\\u043e\", \"\\u0441\\u0442\\u043e\\u0439\\u043a\\u0430\", \"\\u043f\\u0435\\u0440\\u0435\\u0440\\u044b\\u0432\", \"\\u043e\\u0442\\u0441\\u0442\\u043e\\u044f\\u0442\\u044c\", \"\\u0441\\u0430\\u0434\\u0438\\u0442\\u044c\\u0441\\u044f\", \"\\u043f\\u0440\\u043e\\u0441\\u0442\\u0430\\u0438\\u0432\\u0430\\u0442\\u044c\", \"\\u0443\\u043b\\u044b\\u0431\\u0430\\u0442\\u044c\\u0441\\u044f\", \"\\u043e\\u0441\\u0432\\u043e\\u0431\\u043e\\u0436\\u0434\\u0430\\u0442\\u044c\\u0441\\u044f\", \"\\u043f\\u0440\\u043e\\u0441\\u0438\\u0436\\u0438\\u0432\\u0430\\u0442\\u044c\", \"\\u0442\\u0430\\u0431\\u043b\\u0438\\u0447\\u043a\\u0430\", \"\\u0442\\u0430\\u043b\\u043e\\u043d\\u0447\\u0438\\u043a\", \"\\u0441\\u0442\\u0443\\u043b\", \"\\u0442\\u0430\\u0431\\u043b\\u043e\", \"\\u043a\\u0430\\u0441\\u0441\\u0438\\u0440\\u0448\\u0430\", \"\\u043c\\u0438\\u043c\\u043e\", \"\\u043e\\u0445\\u0440\\u0430\\u043d\\u0430\", \"\\u0436\\u0430\\u043b\\u043e\\u0431\\u043d\\u044b\\u0439\", \"\\u043f\\u0440\\u0438\\u0441\\u0435\\u0434\\u0430\\u0442\\u044c\", \"\\u043c\\u043e\\u043d\\u0435\\u0442\\u0430\", \"\\u043c\\u0430\\u043b\\u044c\\u0447\\u0438\\u043a\", \"\\u0432\\u044b\\u0432\\u0435\\u0441\\u043a\\u0430\", \"\\u043f\\u0430\\u0440\\u0435\\u043d\\u044c\", \"\\u043f\\u0440\\u043e\\u0431\\u043a\\u0430\", \"\\u043e\\u043f\\u0435\\u0440\\u0430\\u0446\\u0438\\u043e\\u043d\\u0438\\u0441\\u0442\\u043a\\u0430\", \"\\u043a\\u0430\\u0441\\u0441\\u0438\\u0440\", \"\\u0434\\u0432\\u0435\\u0440\\u044c\", \"\\u043e\\u0447\\u0435\\u0440\\u0435\\u0434\\u044c\", \"\\u043e\\u0431\\u0435\\u0434\", \"\\u043f\\u0435\\u0440\\u0435\\u0434\\u043e\", \"\\u0431\\u0443\\u043c\\u0430\\u0436\\u043a\\u0430\", \"\\u043a\\u0430\\u0441\\u0441\\u0430\", \"\\u043c\\u0438\\u043d\\u0443\\u0442\\u0430\", \"\\u0434\\u0435\\u0432\\u0443\\u0448\\u043a\\u0430\", \"\\u0441\\u043e\\u0441\\u0435\\u0434\\u043d\\u0438\\u0439\", \"\\u043f\\u043e\\u0434\\u0445\\u043e\\u0434\\u0438\\u0442\\u044c\", \"\\u0436\\u0435\\u043d\\u0449\\u0438\\u043d\\u0430\", \"\\u043b\\u0430\\u0434\\u043d\\u043e\", \"\\u0447\\u0435\\u043b\\u043e\\u0432\\u0435\\u043a\", \"\\u043e\\u0431\\u0441\\u043b\\u0443\\u0436\\u0438\\u0432\\u0430\\u0442\\u044c\", \"\\u0441\\u0442\\u043e\\u044f\\u0442\\u044c\", \"\\u0447\\u0430\\u0441\", \"\\u043c\\u043e\\u043b\\u043e\\u0434\\u043e\\u0439\", \"\\u0440\\u0430\\u0431\\u043e\\u0442\\u0430\\u0442\\u044c\", \"\\u0441\\u043f\\u0440\\u0430\\u0448\\u0438\\u0432\\u0430\\u0442\\u044c\", \"\\u043e\\u043f\\u0435\\u0440\\u0430\\u0446\\u0438\\u043e\\u043d\\u0438\\u0441\\u0442\", \"\\u0434\\u0443\\u043c\\u0430\\u0442\\u044c\", \"\\u0433\\u043e\\u0432\\u043e\\u0440\\u0438\\u0442\\u044c\", \"\\u0443\\u0445\\u043e\\u0434\\u0438\\u0442\\u044c\", \"\\u0442\\u0443\\u0434\\u0430\", \"\\u0432\\u0441\", \"\\u0437\\u043d\\u0430\\u0442\\u044c\", \"\\u043f\\u0440\\u043e\\u0441\\u0442\\u043e\", \"\\u043f\\u0440\\u0438\\u0435\\u0437\\u0436\\u0430\\u0442\\u044c\", \"\\u043e\\u0442\\u0434\\u0435\\u043b\\u0435\\u043d\\u0438\\u0435\", \"\\u0441\\u043a\\u0430\\u0437\\u0430\\u0442\\u044c\", \"\\u043e\\u0444\\u0438\\u0441\", \"\\u0432\\u0440\\u0435\\u043c\\u044f\", \"\\u0442\\u0430\\u043a\\u043e\\u0439\", \"\\u0432\\u043e\\u043e\\u0431\\u0449\\u0435\", \"\\u0436\\u0434\\u0430\\u0442\\u044c\", \"\\u043f\\u0440\\u0438\\u0445\\u043e\\u0434\\u0438\\u0442\\u044c\", \"\\u0434\\u0435\\u043d\\u044c\\u0433\\u0438\", \"\\u043a\\u043b\\u0438\\u0435\\u043d\\u0442\", \"\\u043e\\u0434\\u0438\\u043d\", \"\\u0445\\u043e\\u0442\\u0435\\u0442\\u044c\", \"\\u0441\\u0432\\u043e\\u0439\", \"\\u0431\\u0430\\u043d\\u043a\", \"\\u043a\\u043e\\u0442\\u043e\\u0440\\u044b\\u0439\", \"\\u0434\\u0440\\u0443\\u0433\\u043e\\u0439\", \"\\u043c\\u043e\\u0447\\u044c\", \"\\u0440\\u0430\\u0431\\u043e\\u0442\\u0430\", \"\\u043f\\u043e\\u043d\\u0438\\u043c\\u0430\\u0442\\u044c\", \"\\u0440\\u0435\\u0448\\u0430\\u0442\\u044c\", \"\\u0441\\u043e\\u0442\\u0440\\u0443\\u0434\\u043d\\u0438\\u043a\", \"\\u0437\\u0432\\u043e\\u043d\\u0438\\u0442\\u044c\", \"\\u0434\\u0435\\u043d\\u044c\", \"\\u0440\\u0430\\u0437\\u043c\\u0435\\u0449\\u0435\\u043d\\u0438\\u0435\", \"\\u043e\\u043d\\u043b\", \"\\u0439\\u043d\", \"\\u043f\\u0440\\u0435\\u0438\\u043c\\u0443\\u0449\\u0435\\u0441\\u0442\\u0432\\u043e\", \"\\u0431\\u0440\\u0441\", \"\\u0431\\u043b\\u0430\\u0433\\u043e\\u0434\\u0430\\u0440\\u043d\\u043e\\u0441\\u0442\\u044c\", \"\\u043f\\u0430\\u0439\", \"\\u043f\\u0440\\u0438\\u0432\\u043b\\u0435\\u043a\\u0430\\u0442\\u0435\\u043b\\u044c\\u043d\\u044b\\u0439\", \"\\u043f\\u0438\\u0444\", \"\\u0438\\u043d\\u0432\\u0435\\u0441\\u0442\\u0438\\u0446\\u0438\\u043e\\u043d\\u043d\\u044b\\u0439\", \"\\u043b\\u0430\\u0439\\u0444\", \"\\u0441\\u043c\\u043f\", \"\\u0440\\u043e\\u0441\\u0435\\u0432\\u0440\\u043e\\u0431\\u0430\\u043d\\u043a\", \"\\u0442\\u043e\\u043a\\u0435\\u043d\", \"\\u0430\\u043a\\u0446\\u0438\\u043e\\u043d\\u0435\\u0440\", \"\\u0440\\u0431\\u0440\", \"\\u0438\\u043d\\u0442\\u0435\\u0437\", \"\\u0434\\u0438\\u0432\\u0438\\u0434\\u0435\\u043d\\u0434\", \"\\u0444\\u0438\\u043d\\u0430\\u043d\\u0441\\u0438\\u0440\\u043e\\u0432\\u0430\\u043d\\u0438\\u0435\", \"\\u0434\\u0438\\u0440\", \"\\u043d\\u0435\\u0441\\u043d\\u0438\\u0436\\u0430\\u0442\\u044c\", \"\\u0431\\u0430\\u0437\\u043e\\u0432\\u044b\\u0439\", \"\\u043a\\u0440\\u043e\\u043d\\u0430\", \"\\u043b\\u0438\\u043d\\u0435\\u0439\\u043a\\u0430\", \"\\u0431\\u043a\\u0441\", \"\\u043f\\u0440\\u0438\\u0437\", \"\\u043c\\u0430\\u0440\\u043a\\u0435\\u0442\\u0438\\u043d\\u0433\\u043e\\u0432\\u044b\\u0439\", \"\\u043f\\u0440\\u043e\\u0446\\u0432\\u0435\\u0442\\u0430\\u043d\\u0438\\u0435\", \"\\u043e\\u043f\\u0442\\u0438\\u043c\\u0430\\u043b\\u044c\\u043d\\u044b\\u0439\", \"\\u044d\\u043a\\u0432\\u0430\\u0439\\u0440\\u0438\\u043d\\u0433\", \"\\u0432\\u043e\\u0441\\u0442\\u0440\\u0435\\u0431\\u043e\\u0432\\u0430\\u043d\\u0438\\u0435\", \"\\u0432\\u043a\\u043b\\u0430\\u0434\", \"\\u043a\\u0430\\u043f\\u0438\\u0442\\u0430\\u043b\\u0438\\u0437\\u0430\\u0446\\u0438\\u044f\", \"\\u0434\\u0435\\u043f\\u043e\\u0437\\u0438\\u0442\", \"\\u0430\\u0432\\u0430\\u043d\\u0433\\u0430\\u0440\\u0434\", \"\\u0430\\u043a\\u0446\\u0438\\u044f\", \"\\u0432\\u043a\\u043b\\u0430\\u0434\\u0447\\u0438\\u043a\", \"\\u0442\\u0430\\u0440\\u0438\\u0444\", \"\\u0434\\u0435\\u043f\\u043e\\u0437\\u0438\\u0442\\u043d\\u044b\\u0439\", \"\\u0442\\u0430\\u0440\\u0438\\u0444\\u043d\\u044b\\u0439\", \"\\u043e\\u0442\\u043a\\u0440\\u044b\\u0442\\u0438\\u0435\", \"\\u043f\\u0440\\u043e\\u0434\\u0443\\u043a\\u0442\", \"\\u0432\\u0430\\u043b\\u044e\\u0442\\u043d\\u044b\\u0439\", \"\\u0432\\u044b\\u0433\\u043e\\u0434\\u043d\\u044b\\u0439\", \"\\u0441\\u0442\\u0430\\u0432\\u043a\\u0430\", \"\\u0443\\u0441\\u043b\\u043e\\u0432\\u0438\\u0435\", \"\\u0432\\u044b\\u0441\\u043e\\u043a\\u0438\\u0439\", \"\\u0440\\u0430\\u0437\\u043c\\u0435\\u0449\\u0430\\u0442\\u044c\", \"\\u0432\\u0430\\u043b\\u044e\\u0442\\u0430\", \"\\u043f\\u0440\\u043e\\u043b\\u043e\\u043d\\u0433\\u0430\\u0446\\u0438\\u044f\", \"\\u0443\\u0440\\u043e\\u0432\\u0435\\u043d\\u044c\", \"\\u043e\\u0442\\u043a\\u0440\\u044b\\u0432\\u0430\\u0442\\u044c\", \"\\u043e\\u0431\\u0441\\u043b\\u0443\\u0436\\u0438\\u0432\\u0430\\u043d\\u0438\\u0435\", \"\\u0442\\u043a\\u0441\", \"\\u0443\\u0434\\u043e\\u0431\\u043d\\u044b\\u0439\", \"\\u043a\\u043b\\u0438\\u0435\\u043d\\u0442\", \"\\u0431\\u0438\\u0437\\u043d\\u0435\\u0441\", \"\\u043f\\u0440\\u0438\\u043c\\u0435\\u0440\", \"\\u0441\\u043e\\u0442\\u0440\\u0443\\u0434\\u043d\\u0438\\u0447\\u0435\\u0441\\u0442\\u0432\\u043e\", \"\\u0431\\u0430\\u043d\\u043a\", \"\\u043d\\u0438\\u0437\\u043a\\u0438\\u0439\", \"\\u0444\\u0438\\u0437\\u0438\\u0447\\u0435\\u0441\\u043a\\u0438\\u0439\", \"\\u0445\\u043e\\u0440\\u043e\\u0448\\u0438\\u0439\", \"\\u043e\\u0447\\u0435\\u043d\\u044c\", \"\\u043b\\u0438\\u0446\\u043e\", \"\\u0431\\u0430\\u043d\\u043a\\u043e\\u0432\\u0441\\u043a\\u0438\\u0439\", \"\\u043a\\u0430\\u0447\\u0435\\u0441\\u0442\\u0432\\u043e\", \"\\u044f\\u0432\\u043b\\u044f\\u0442\\u044c\\u0441\\u044f\", \"\\u043f\\u0440\\u0435\\u0434\\u043b\\u043e\\u0436\\u0435\\u043d\\u0438\\u0435\", \"\\u0441\\u0430\\u0439\\u0442\", \"\\u0443\\u0441\\u043b\\u0443\\u0433\\u0430\", \"\\u043f\\u0440\\u043e\\u0446\\u0435\\u043d\\u0442\", \"\\u0431\\u0430\\u043d\\u043a\\u0430\", \"\\u043e\\u0442\\u0437\\u044b\\u0432\", \"\\u0433\\u043e\\u0434\", \"\\u0441\\u0432\\u043e\\u0439\", \"\\u0440\\u0430\\u0431\\u043e\\u0442\\u0430\", \"\\u0441\\u043e\\u0442\\u0440\\u0443\\u0434\\u043d\\u0438\\u043a\", \"\\u0441\\u0447\\u0435\\u0442\", \"\\u043a\\u043e\\u0442\\u043e\\u0440\\u044b\\u0439\", \"\\u0442\\u0430\\u043a\\u043e\\u0439\", \"\\u0432\\u043e\\u043f\\u0440\\u043e\\u0441\", \"\\u0438\\u043d\\u0442\\u0435\\u0440\\u043d\\u0435\\u0442\", \"\\u0434\\u0440\\u0443\\u0433\\u043e\\u0439\", \"\\u043e\\u0444\\u0438\\u0441\", \"\\u0432\\u0440\\u0435\\u043c\\u044f\", \"\\u0434\\u043e\\u0433\\u043e\\u0432\\u043e\\u0440\", \"\\u0438\\u043f\\u043e\\u0442\\u0435\\u043a\\u0430\", \"\\u0438\\u043f\\u043e\\u0442\\u0435\\u0447\\u043d\\u044b\\u0439\", \"\\u043d\\u0434\\u0444\\u043b\", \"\\u043e\\u0434\\u043e\\u0431\\u0440\\u0435\\u043d\\u0438\\u0435\", \"\\u043e\\u0440\\u0438\\u0433\\u0438\\u043d\\u0430\\u043b\", \"\\u0441\\u0432\\u0438\\u0434\\u0435\\u0442\\u0435\\u043b\\u044c\\u0441\\u0442\\u0432\\u043e\", \"\\u043e\\u0441\\u0431\", \"\\u043d\\u043e\\u0442\\u0430\\u0440\\u0438\\u0443\\u0441\", \"\\u043a\\u0443\\u043f\\u043b\\u044f\", \"\\u043e\\u0431\\u044a\\u0435\\u043a\\u0442\", \"\\u0437\\u0430\\u0441\\u0442\\u0440\\u043e\\u0439\\u0449\\u0438\\u043a\", \"\\u0436\\u0438\\u043b\\u044c\\u0435\", \"\\u043d\\u0430\\u0441\\u043b\\u0435\\u0434\\u0441\\u0442\\u0432\\u043e\", \"\\u0440\\u0435\\u0433\\u0438\\u0441\\u0442\\u0440\\u0430\\u0446\\u0438\\u043e\\u043d\\u043d\\u044b\\u0439\", \"\\u043d\\u043e\\u0442\\u0430\\u0440\\u0438\\u0430\\u043b\\u044c\\u043d\\u043e\", \"\\u0437\\u0430\\u043a\\u043b\\u0430\\u0434\\u043d\\u0430\\u044f\", \"\\u0431\\u0440\\u0430\\u043a\", \"\\u0432\\u043e\\u0434\\u0438\\u0442\\u0435\\u043b\\u044c\\u0441\\u043a\\u0438\\u0439\", \"\\u0434\\u0435\\u043a\\u043b\\u0430\\u0440\\u0430\\u0446\\u0438\\u044f\", \"\\u0434\\u043e\\u0431\\u0430\\u0432\\u043e\\u0447\\u043d\\u044b\\u0439\", \"\\u043d\\u043e\\u0442\\u0430\\u0440\\u0438\\u0430\\u043b\\u044c\\u043d\\u044b\\u0439\", \"\\u0434\\u0435\\u043b\\u044c\\u0442\\u0430\\u043a\\u0440\\u0435\\u0434\\u0438\\u0442\", \"\\u043a\\u0440\\u0430\\u0441\\u043d\\u043e\\u044f\\u0440\\u0441\\u043a\\u0438\\u0439\", \"\\u0440\\u0438\\u044d\\u043b\\u0442\\u043e\\u0440\", \"\\u043f\\u0430\\u043b\\u0430\\u0442\\u0430\", \"\\u043e\\u0432\\u0430\", \"\\u0436\\u0438\\u043b\\u0438\\u0449\\u043d\\u044b\\u0439\", \"\\u043e\\u0431\\u0440\\u0435\\u043c\\u0435\\u043d\\u0435\\u043d\\u0438\\u0435\", \"\\u0434\\u043e\\u043a\", \"\\u043c\\u0430\\u0442\\u0435\\u0440\\u0438\\u043d\\u0441\\u043a\\u0438\\u0439\", \"\\u0441\\u0434\\u0435\\u043b\\u043a\\u0430\", \"\\u0442\\u0440\\u0443\\u0434\\u043e\\u0432\\u043e\\u0439\", \"\\u0437\\u0430\\u044f\\u0432\\u043a\\u0430\", \"\\u0443\\u0434\\u043e\\u0441\\u0442\\u043e\\u0432\\u0435\\u0440\\u0435\\u043d\\u0438\\u0435\", \"\\u0432\\u043e\\u0439\", \"\\u0434\\u043e\\u043a\\u0443\\u043c\\u0435\\u043d\\u0442\", \"\\u043a\\u0432\\u0430\\u0440\\u0442\\u0438\\u0440\\u0430\", \"\\u0441\\u043e\\u0431\\u0441\\u0442\\u0432\\u0435\\u043d\\u043d\\u043e\\u0441\\u0442\\u044c\", \"\\u0430\\u043d\\u043a\\u0435\\u0442\\u0430\", \"\\u043e\\u0434\\u043e\\u0431\\u0440\\u044f\\u0442\\u044c\", \"\\u043a\\u043e\\u043f\\u0438\\u044f\", \"\\u043f\\u043e\\u0434\\u0430\\u0447\\u0430\", \"\\u0441\\u043f\\u0440\\u0430\\u0432\\u043a\\u0430\", \"\\u0432\\u0430\", \"\\u0440\\u0430\\u0441\\u0441\\u043c\\u043e\\u0442\\u0440\\u0435\\u043d\\u0438\\u0435\", \"\\u043a\\u0441\\u0435\\u0440\\u043e\\u043a\\u043e\\u043f\\u0438\\u044f\", \"\\u0434\\u043e\\u0432\\u0435\\u0440\\u0435\\u043d\\u043d\\u043e\\u0441\\u0442\\u044c\", \"\\u043f\\u043e\\u0434\\u0430\\u0432\\u0430\\u0442\\u044c\", \"\\u0433\", \"\\u043f\\u0435\\u0440\\u0435\\u0437\\u0432\\u0430\\u043d\\u0438\\u0432\\u0430\\u0442\\u044c\", \"\\u0437\\u0430\\u043f\\u043e\\u043b\\u043d\\u044f\\u0442\\u044c\", \"\\u043f\\u0430\\u0441\\u043f\\u043e\\u0440\\u0442\", \"\\u0440\\u0435\\u0448\\u0435\\u043d\\u0438\\u0435\", \"\\u0440\\u0435\\u0433\\u0438\\u0441\\u0442\\u0440\\u0430\\u0446\\u0438\\u044f\", \"\\u043c\\u0435\\u043d\\u0435\\u0434\\u0436\\u0435\\u0440\", \"\\u0430\\u0434\\u0440\\u0435\\u0441\", \"\\u0441\\u043e\\u043e\\u0431\\u0449\\u0430\\u0442\\u044c\", \"\\u043e\\u0442\\u0432\\u0435\\u0442\", \"\\u043e\\u0431\\u0440\\u0430\\u0449\\u0430\\u0442\\u044c\\u0441\\u044f\", \"\\u043e\\u0442\\u043a\\u0430\\u0437\", \"\\u043e\\u0442\\u0434\\u0435\\u043b\\u0435\\u043d\\u0438\\u0435\", \"\\u0441\\u043e\\u0442\\u0440\\u0443\\u0434\\u043d\\u0438\\u043a\", \"\\u043f\\u043e\\u043b\\u0443\\u0447\\u0435\\u043d\\u0438\\u0435\", \"\\u0434\\u0435\\u043d\\u044c\", \"\\u043f\\u043e\\u0437\\u0432\\u043e\\u043d\\u0438\\u0442\\u044c\", \"\\u043f\\u043e\\u043b\\u0443\\u0447\\u0430\\u0442\\u044c\", \"\\u043f\\u0440\\u0435\\u0434\\u043e\\u0441\\u0442\\u0430\\u0432\\u043b\\u044f\\u0442\\u044c\", \"\\u0441\\u043f\\u0435\\u0446\\u0438\\u0430\\u043b\\u0438\\u0441\\u0442\", \"\\u0432\\u043e\\u043f\\u0440\\u043e\\u0441\", \"\\u043e\\u0444\\u0438\\u0441\", \"\\u043c\\u043e\\u0439\", \"\\u0431\\u0430\\u043d\\u043a\", \"\\u0441\\u043a\\u0430\\u0437\\u0430\\u0442\\u044c\", \"\\u0437\\u0430\\u044f\\u0432\\u043b\\u0435\\u043d\\u0438\\u0435\", \"\\u0434\\u0430\\u043d\\u043d\\u044b\\u0439\", \"\\u043e\\u0444\\u043e\\u0440\\u043c\\u043b\\u044f\\u0442\\u044c\", \"\\u043a\\u0440\\u0435\\u0434\\u0438\\u0442\", \"\\u043f\\u0440\\u0438\\u043d\\u0438\\u043c\\u0430\\u0442\\u044c\", \"\\u043a\\u043e\\u0442\\u043e\\u0440\\u044b\\u0439\", \"\\u0441\\u0431\\u0435\\u0440\\u0431\\u0430\\u043d\\u043a\", \"\\u0441\\u0440\\u043e\\u043a\", \"\\u043e\\u0442\\u0432\\u0435\\u0447\\u0430\\u0442\\u044c\", \"\\u043d\\u0435\\u0434\\u0435\\u043b\\u044f\", \"\\u0432\\u0440\\u0435\\u043c\\u044f\", \"\\u043a\\u0440\\u0435\\u0434\\u0438\\u0442\\u043d\\u044b\\u0439\"], \"Total\": [163285.0, 88133.0, 373784.0, 41310.0, 97734.0, 33501.0, 89434.0, 40328.0, 24417.0, 76258.0, 40314.0, 60287.0, 77849.0, 20823.0, 42755.0, 57700.0, 36019.0, 21063.0, 28133.0, 91011.0, 23534.0, 44394.0, 21346.0, 23065.0, 14674.0, 32027.0, 77152.0, 27686.0, 41547.0, 23828.0, 8651.0693359375, 4746.775390625, 3943.928466796875, 3760.16748046875, 3513.894775390625, 3447.994384765625, 3248.136474609375, 3155.2060546875, 2723.20068359375, 2622.493896484375, 1895.577392578125, 1841.9102783203125, 1574.78076171875, 1536.085205078125, 1509.4296875, 1314.7728271484375, 1280.0869140625, 1206.542724609375, 981.1167602539062, 945.114501953125, 883.0033569335938, 890.349365234375, 896.846923828125, 846.3889770507812, 809.1599731445312, 732.1239624023438, 671.1749267578125, 655.537841796875, 646.1343994140625, 539.5897827148438, 163285.75, 4898.5703125, 5424.44384765625, 40328.65234375, 1240.6044921875, 5013.67724609375, 12117.966796875, 6419.48291015625, 25199.966796875, 2694.483642578125, 5892.3017578125, 20825.990234375, 6653.68115234375, 3164.796875, 4913.2509765625, 10350.259765625, 18232.205078125, 97734.703125, 76258.4609375, 28668.865234375, 9788.1396484375, 6195.11474609375, 5940.31298828125, 32027.3671875, 7876.0283203125, 12418.8994140625, 57700.265625, 20982.29296875, 20969.69140625, 7635.95361328125, 15276.708984375, 33635.03515625, 35662.76953125, 15952.7216796875, 91011.5, 22742.041015625, 373784.875, 18396.740234375, 86844.4609375, 30939.427734375, 18467.703125, 33569.78515625, 59205.12109375, 26558.0078125, 60287.01953125, 77849.0625, 47889.51953125, 42190.5078125, 85576.2109375, 44394.4375, 64902.203125, 37879.60546875, 20823.0625, 14674.4423828125, 12414.6650390625, 12133.4443359375, 9706.578125, 8843.0947265625, 7172.2861328125, 7090.8642578125, 4712.6025390625, 4416.65869140625, 4373.2646484375, 3022.58837890625, 2576.22314453125, 2389.322509765625, 2214.563232421875, 2155.031005859375, 1927.26708984375, 1773.56787109375, 1594.277587890625, 1567.8182373046875, 1559.851806640625, 1557.9918212890625, 1513.9730224609375, 1417.9107666015625, 1335.9599609375, 1202.2164306640625, 1142.3778076171875, 1146.01708984375, 1100.6060791015625, 1083.5908203125, 1203.5152587890625, 4787.05712890625, 9505.0732421875, 4787.8779296875, 1769.5118408203125, 88133.8203125, 4527.9404296875, 5672.97216796875, 40314.86328125, 42755.703125, 13033.9560546875, 60287.01953125, 2222.469970703125, 30068.685546875, 3885.48486328125, 20493.96875, 44112.7890625, 8771.654296875, 373784.875, 23016.017578125, 37879.60546875, 59749.05859375, 16080.0625, 24227.716796875, 33635.03515625, 28871.359375, 39619.484375, 86844.4609375, 43303.46484375, 14845.1953125, 41564.71875, 85576.2109375, 77152.25, 33569.78515625, 91011.5, 57700.265625, 40691.1328125, 38938.5078125, 26558.0078125, 89434.65625, 5754.17626953125, 3692.93310546875, 3181.488525390625, 2298.73291015625, 1873.180908203125, 1877.41162109375, 1862.5162353515625, 1817.5897216796875, 1691.8255615234375, 1263.917236328125, 1199.8956298828125, 975.6189575195312, 960.4100341796875, 843.3700561523438, 797.8490600585938, 711.4769287109375, 688.4683227539062, 621.4104614257812, 613.9479370117188, 600.955810546875, 575.334228515625, 581.4703369140625, 561.4556274414062, 548.902099609375, 519.7108154296875, 523.5853271484375, 510.7208557128906, 509.70294189453125, 498.1269836425781, 494.14453125, 4234.82861328125, 7082.77978515625, 2713.458740234375, 21063.556640625, 2682.851318359375, 1346.2432861328125, 2681.350341796875, 13633.916015625, 23065.244140625, 23828.279296875, 1108.6329345703125, 8690.94921875, 2019.99609375, 6772.2470703125, 27686.767578125, 4967.79248046875, 9329.3076171875, 20429.24609375, 3577.052734375, 35452.4375, 16339.03125, 10547.109375, 14300.0029296875, 34560.984375, 9555.900390625, 6111.25, 14731.5712890625, 25964.94140625, 27706.423828125, 14156.0517578125, 77849.0625, 64902.203125, 41547.80859375, 52817.14453125, 51164.85546875, 17679.23046875, 23165.255859375, 42190.5078125, 97734.703125, 89434.65625, 29555.6484375, 29213.51171875, 59400.14453125, 373784.875, 85576.2109375, 34539.00390625, 47889.51953125, 32716.0703125, 19538.427734375, 32882.7109375, 77152.25, 43303.46484375, 91011.5, 667.318115234375, 668.0333251953125, 658.1041259765625, 644.7061157226562, 603.6212768554688, 724.5106811523438, 461.16693115234375, 534.8863525390625, 376.1649475097656, 376.83026123046875, 359.0828857421875, 332.3384094238281, 322.7148132324219, 304.6671142578125, 275.6321105957031, 290.362548828125, 274.0496826171875, 276.5179748535156, 257.4918212890625, 331.9400939941406, 244.10208129882812, 241.95640563964844, 233.2726593017578, 227.000732421875, 229.5941619873047, 213.36033630371094, 204.68528747558594, 189.36524963378906, 184.2115936279297, 175.22178649902344, 1327.0166015625, 41310.2890625, 376.2096252441406, 9143.8720703125, 2744.214599609375, 4387.962890625, 4740.9501953125, 11683.9365234375, 1329.614990234375, 1312.50146484375, 10028.0947265625, 6260.33740234375, 2900.079833984375, 2068.659423828125, 9838.544921875, 21346.703125, 3778.15869140625, 2188.30810546875, 4841.26171875, 783.638671875, 3523.08349609375, 23534.07421875, 28133.623046875, 2184.48388671875, 3183.952880859375, 89434.65625, 2492.179931640625, 2688.988037109375, 2290.83642578125, 373784.875, 2608.120849609375, 3058.670166015625, 8423.087890625, 28974.955078125, 15219.3115234375, 13734.1318359375, 6897.501953125, 20127.814453125, 8271.4326171875, 25745.5234375, 27670.19921875, 24227.716796875, 26003.419921875, 13518.33203125, 59749.05859375, 59400.14453125, 32716.0703125, 77152.25, 76258.4609375, 85576.2109375, 51164.85546875, 53772.1015625, 18396.740234375, 34539.00390625, 41547.80859375, 52817.14453125, 42755.703125, 3569.01318359375, 3078.406005859375, 2194.85791015625, 1991.5625, 1215.2176513671875, 1180.9505615234375, 966.0216674804688, 844.96630859375, 537.2750854492188, 513.5413208007812, 482.3624267578125, 438.96978759765625, 410.5726013183594, 365.23675537109375, 332.7115173339844, 327.23187255859375, 324.0998840332031, 324.915771484375, 321.984619140625, 314.843994140625, 270.033447265625, 227.21133422851562, 225.82537841796875, 218.22833251953125, 218.39419555664062, 215.37437438964844, 209.65127563476562, 190.370849609375, 191.44483947753906, 187.6649627685547, 3196.250732421875, 1333.9107666015625, 24417.91796875, 432.1285705566406, 1416.7139892578125, 33501.8125, 5068.92431640625, 1081.269287109375, 7269.88525390625, 6612.85888671875, 8227.732421875, 2760.24560546875, 11232.3916015625, 2863.69482421875, 10747.7666015625, 860.1226196289062, 3709.529296875, 11566.44140625, 36019.125, 11569.0234375, 9737.388671875, 11106.6416015625, 16200.4150390625, 2798.01611328125, 14767.33984375, 15663.78515625, 29442.42578125, 44394.4375, 34812.02734375, 11216.19921875, 77849.0625, 77152.25, 12780.5888671875, 91011.5, 37624.83984375, 59205.12109375, 14592.05078125, 16551.583984375, 53772.1015625, 41547.80859375, 86844.4609375, 373784.875, 64902.203125, 57700.265625, 40691.1328125, 26158.75390625, 88133.8203125, 22064.92578125, 85576.2109375, 32027.3671875, 26178.3125, 33457.671875, 21904.455078125, 52817.14453125, 44112.7890625], \"loglift\": [30.0, 29.0, 28.0, 27.0, 26.0, 25.0, 24.0, 23.0, 22.0, 21.0, 20.0, 19.0, 18.0, 17.0, 16.0, 15.0, 14.0, 13.0, 12.0, 11.0, 10.0, 9.0, 8.0, 7.0, 6.0, 5.0, 4.0, 3.0, 2.0, 1.0, 1.291100025177002, 1.2910000085830688, 1.2910000085830688, 1.2910000085830688, 1.2910000085830688, 1.2910000085830688, 1.2910000085830688, 1.2910000085830688, 1.2908999919891357, 1.2908999919891357, 1.2907999753952026, 1.2907999753952026, 1.2906999588012695, 1.2906999588012695, 1.2906999588012695, 1.2905999422073364, 1.2905999422073364, 1.2905999422073364, 1.2904000282287598, 1.2904000282287598, 1.2903000116348267, 1.2903000116348267, 1.2903000116348267, 1.2903000116348267, 1.2903000116348267, 1.2900999784469604, 1.2899999618530273, 1.2899999618530273, 1.2899999618530273, 1.2898000478744507, 1.2692999839782715, 1.2877000570297241, 1.2827999591827393, 1.257200002670288, 1.2826000452041626, 1.25, 1.2146999835968018, 1.2094000577926636, 1.131700038909912, 1.2425999641418457, 1.2019000053405762, 1.1273000240325928, 1.1858999729156494, 1.226699948310852, 1.193600058555603, 1.1309000253677368, 1.0765999555587769, 0.917900025844574, 0.919700026512146, 1.0111000537872314, 1.0889999866485596, 1.1438000202178955, 1.1449999809265137, 0.8686000108718872, 1.0902999639511108, 0.9921000003814697, 0.6664000153541565, 0.8738999962806702, 0.858299970626831, 1.0921000242233276, 0.9114999771118164, 0.6847000122070312, 0.6610999703407288, 0.8808000087738037, 0.3612000048160553, 0.754800021648407, -0.19900000095367432, 0.8148999810218811, 0.26809999346733093, 0.6205000281333923, 0.7860000133514404, 0.531499981880188, 0.26409998536109924, 0.6061000227928162, 0.20430000126361847, 0.042100001126527786, 0.2655999958515167, 0.3301999866962433, -0.07419999688863754, 0.287200003862381, -0.05590000003576279, 0.27959999442100525, 1.5498000383377075, 1.5498000383377075, 1.5498000383377075, 1.5498000383377075, 1.5497000217437744, 1.5497000217437744, 1.5497000217437744, 1.5497000217437744, 1.5497000217437744, 1.5496000051498413, 1.5496000051498413, 1.5496000051498413, 1.5494999885559082, 1.5494999885559082, 1.5494999885559082, 1.5494999885559082, 1.549399971961975, 1.549399971961975, 1.549299955368042, 1.549299955368042, 1.549299955368042, 1.549299955368042, 1.549299955368042, 1.549299955368042, 1.5492000579833984, 1.5492000579833984, 1.5491000413894653, 1.5491000413894653, 1.5491000413894653, 1.5491000413894653, 1.5491000413894653, 1.5250999927520752, 1.4996000528335571, 1.5063999891281128, 1.534500002861023, 1.3701000213623047, 1.4895999431610107, 1.4275000095367432, 1.2035000324249268, 1.1766999959945679, 1.2791999578475952, 1.0472999811172485, 1.495300054550171, 0.9861999750137329, 1.3845000267028809, 1.041200041770935, 0.8794999718666077, 1.197700023651123, 0.28600001335144043, 0.9628000259399414, 0.8148999810218811, 0.6215999722480774, 1.0074000358581543, 0.8367999792098999, 0.7142999768257141, 0.7549999952316284, 0.619700014591217, 0.28519999980926514, 0.5498999953269958, 1.0095000267028809, 0.5067999958992004, 0.12950000166893005, 0.14749999344348907, 0.5590000152587891, -0.1316000074148178, 0.04149999842047691, 0.32429999113082886, 0.3075999915599823, 0.5921000242233276, -0.5913000106811523, 1.5611000061035156, 1.5609999895095825, 1.5609999895095825, 1.5608999729156494, 1.5607999563217163, 1.5607999563217163, 1.5607999563217163, 1.5607999563217163, 1.5607999563217163, 1.5606000423431396, 1.5606000423431396, 1.5605000257492065, 1.5604000091552734, 1.5602999925613403, 1.5602999925613403, 1.5601999759674072, 1.5600999593734741, 1.559999942779541, 1.559999942779541, 1.5599000453948975, 1.5599000453948975, 1.5599000453948975, 1.5598000288009644, 1.5598000288009644, 1.5598000288009644, 1.5598000288009644, 1.5597000122070312, 1.5597000122070312, 1.5597000122070312, 1.5597000122070312, 1.5577000379562378, 1.5299999713897705, 1.5426000356674194, 1.5002000331878662, 1.5311000347137451, 1.5312000513076782, 1.4941999912261963, 1.4053000211715698, 1.3674999475479126, 1.3545000553131104, 1.5268000364303589, 1.3885999917984009, 1.4871000051498413, 1.3985999822616577, 1.2640999555587769, 1.394700050354004, 1.3321000337600708, 1.249500036239624, 1.4210000038146973, 1.1634000539779663, 1.2156000137329102, 1.2381999492645264, 1.1750999689102173, 1.0228999853134155, 1.2373000383377075, 1.306399941444397, 1.0657000541687012, 0.9139000177383423, 0.8944000005722046, 1.0246000289916992, 0.5023000240325928, 0.5392000079154968, 0.6710000038146973, 0.5562000274658203, 0.5543000102043152, 0.9154000282287598, 0.8072999715805054, 0.5044000148773193, 0.12300000339746475, 0.10670000314712524, 0.6517000198364258, 0.6468999981880188, 0.263700008392334, -0.8913999795913696, -0.07039999961853027, 0.4830999970436096, 0.24490000307559967, 0.5002999901771545, 0.8421000242233276, 0.40139999985694885, -0.325300008058548, 0.16019999980926514, -0.5367000102996826, 1.8538999557495117, 1.8538000583648682, 1.8538000583648682, 1.8538000583648682, 1.853700041770935, 1.8535000085830688, 1.8533999919891357, 1.8533999919891357, 1.8530999422073364, 1.8530000448226929, 1.8530000448226929, 1.8528000116348267, 1.8526999950408936, 1.8526999950408936, 1.8523999452590942, 1.8523999452590942, 1.8523999452590942, 1.8523999452590942, 1.8522000312805176, 1.8522000312805176, 1.8521000146865845, 1.8521000146865845, 1.8519999980926514, 1.8518999814987183, 1.8518999814987183, 1.851699948310852, 1.8516000509262085, 1.8513000011444092, 1.851199984550476, 1.851099967956543, 1.8485000133514404, 1.7477999925613403, 1.8380999565124512, 1.770400047302246, 1.7896000146865845, 1.7662999629974365, 1.7635999917984009, 1.7136000394821167, 1.7848000526428223, 1.7699999809265137, 1.6646000146865845, 1.6863000392913818, 1.7163000106811523, 1.7359000444412231, 1.6208000183105469, 1.530400037765503, 1.6648000478744507, 1.7049000263214111, 1.6309000253677368, 1.777400016784668, 1.635699987411499, 1.4354000091552734, 1.3845000267028809, 1.6611000299453735, 1.6073999404907227, 1.169600009918213, 1.6267999410629272, 1.6125999689102173, 1.6299999952316284, 0.6733999848365784, 1.6045000553131104, 1.5694999694824219, 1.3615000247955322, 1.086899995803833, 1.2269999980926514, 1.2403000593185425, 1.3969999551773071, 1.0724999904632568, 1.3063000440597534, 0.9916999936103821, 0.954200029373169, 0.9539999961853027, 0.8812000155448914, 1.0894999504089355, 0.5440999865531921, 0.5224999785423279, 0.6751999855041504, 0.163100004196167, 0.12160000205039978, 0.03739999979734421, 0.2924000024795532, 0.17589999735355377, 0.857200026512146, 0.43130001425743103, 0.2831999957561493, 0.05469999834895134, 0.1890999972820282, 1.9210000038146973, 1.9210000038146973, 1.9208999872207642, 1.9208999872207642, 1.9206000566482544, 1.9206000566482544, 1.9205000400543213, 1.9204000234603882, 1.919800043106079, 1.919800043106079, 1.919700026512146, 1.9194999933242798, 1.9193999767303467, 1.9191999435424805, 1.9190000295639038, 1.9190000295639038, 1.9189000129699707, 1.9189000129699707, 1.9187999963760376, 1.9186999797821045, 1.9184000492095947, 1.9178999662399292, 1.9178999662399292, 1.917799949645996, 1.917799949645996, 1.9177000522613525, 1.9176000356674194, 1.9172999858856201, 1.917199969291687, 1.917199969291687, 1.9164999723434448, 1.9076999425888062, 1.8378000259399414, 1.9047000408172607, 1.8628000020980835, 1.756700038909912, 1.8035000562667847, 1.8451999425888062, 1.7453999519348145, 1.707200050354004, 1.6756000518798828, 1.7599999904632568, 1.6460000276565552, 1.750599980354309, 1.5764000415802002, 1.8281999826431274, 1.6786999702453613, 1.5054999589920044, 1.323799967765808, 1.4773999452590942, 1.458799958229065, 1.4010000228881836, 1.332200050354004, 1.6268999576568604, 1.3208999633789062, 1.2659000158309937, 1.118399977684021, 1.014299988746643, 1.0388000011444092, 1.3315999507904053, 0.791700005531311, 0.7886999845504761, 1.284999966621399, 0.6621000170707703, 0.9265999794006348, 0.7585999965667725, 1.2339999675750732, 1.1755000352859497, 0.6851000189781189, 0.763700008392334, 0.4259999990463257, -0.38920000195503235, 0.4779999852180481, 0.5078999996185303, 0.6360999941825867, 0.8700000047683716, 0.11640000343322754, 0.9638000130653381, -0.009499999694526196, 0.6783999800682068, 0.8041999936103821, 0.5879999995231628, 0.9509000182151794, 0.12700000405311584, 0.27649998664855957], \"logprob\": [30.0, 29.0, 28.0, 27.0, 26.0, 25.0, 24.0, 23.0, 22.0, 21.0, 20.0, 19.0, 18.0, 17.0, 16.0, 15.0, 14.0, 13.0, 12.0, 11.0, 10.0, 9.0, 8.0, 7.0, 6.0, 5.0, 4.0, 3.0, 2.0, 1.0, -5.953000068664551, -6.553299903869629, -6.73859977722168, -6.786300182342529, -6.854100227355957, -6.873000144958496, -6.932700157165527, -6.9618000984191895, -7.109000205993652, -7.146699905395508, -7.471399784088135, -7.500199794769287, -7.656899929046631, -7.68179988861084, -7.6992998123168945, -7.837500095367432, -7.864200115203857, -7.923399925231934, -8.130399703979492, -8.167799949645996, -8.235899925231934, -8.22760009765625, -8.22029972076416, -8.278300285339355, -8.3233003616333, -8.423399925231934, -8.510499954223633, -8.534000396728516, -8.548500061035156, -8.728899955749512, -3.0369999408721924, -6.525199890136719, -6.427999973297119, -4.447500228881836, -7.903600215911865, -6.539599895477295, -5.692399978637695, -6.333099842071533, -5.0432000160217285, -7.167900085449219, -6.426300048828125, -5.2382001876831055, -6.320700168609619, -7.022900104522705, -6.616199970245361, -5.933800220489502, -5.421899795532227, -3.901599884033203, -4.147900104522705, -5.034800052642822, -6.031599998474121, -6.434199810028076, -6.474999904632568, -5.0665998458862305, -6.247700214385986, -5.890500068664551, -4.680099964141846, -5.4842000007629395, -5.500400066375732, -6.276800155639648, -5.763999938964844, -5.201499938964844, -5.166500091552734, -5.751299858093262, -4.529600143432617, -5.52269983291626, -3.6770999431610107, -5.674699783325195, -4.66949987411499, -5.3491997718811035, -5.699699878692627, -5.3566999435424805, -5.056700229644775, -5.516300201416016, -5.098299980163574, -5.004899978637695, -5.267199993133545, -5.3292999267578125, -5.026599884033203, -5.321400165557861, -5.2846999168396, -5.487800121307373, -4.815899848937988, -5.165900230407715, -5.333099842071533, -5.355999946594238, -5.57919979095459, -5.672399997711182, -5.881800174713135, -5.893199920654297, -6.3018999099731445, -6.366700172424316, -6.3765997886657715, -6.746099948883057, -6.905900001525879, -6.981200218200684, -7.057199954986572, -7.084499835968018, -7.196199893951416, -7.279399871826172, -7.386000156402588, -7.402699947357178, -7.407800197601318, -7.408999919891357, -7.437699794769287, -7.503300189971924, -7.562900066375732, -7.668399810791016, -7.7195000648498535, -7.716300010681152, -7.756800174713135, -7.77239990234375, -7.667399883270264, -6.310699939727783, -5.650400161743164, -6.3292999267578125, -7.296599864959717, -3.552799940109253, -6.401899814605713, -6.238500118255615, -4.5015997886657715, -4.469600200653076, -5.554999828338623, -4.255300045013428, -7.107900142669678, -5.0121002197265625, -6.659999847412109, -5.340400218963623, -4.735499858856201, -6.032599925994873, -3.1921000480651855, -5.302800178527832, -4.952499866485596, -4.690000057220459, -5.616799831390381, -5.377399921417236, -5.171899795532227, -5.283899784088135, -5.102700233459473, -4.652400016784668, -5.083600044250488, -5.6946001052856445, -5.167699813842773, -4.822800159454346, -4.9085001945495605, -5.329100131988525, -5.02239990234375, -5.304999828338623, -5.371399879455566, -5.432199954986572, -5.530300140380859, -5.499599933624268, -6.090700149536133, -6.534299850463867, -6.6834001541137695, -7.008500099182129, -7.2133002281188965, -7.210999965667725, -7.218999862670898, -7.2434000968933105, -7.315199851989746, -7.606900215148926, -7.658899784088135, -7.866000175476074, -7.881700038909912, -8.011799812316895, -8.067299842834473, -8.182000160217285, -8.214900016784668, -8.317500114440918, -8.32960033416748, -8.351099967956543, -8.394700050354004, -8.383999824523926, -8.419099807739258, -8.441800117492676, -8.496500015258789, -8.489100456237793, -8.513999938964844, -8.515999794006348, -8.538999557495117, -8.54699993133545, -6.4008002281188965, -5.914100170135498, -6.860899925231934, -4.854000091552734, -6.883800029754639, -7.573299884796143, -6.921299934387207, -5.383900165557861, -4.895899772644043, -4.876399993896484, -7.7718000411987305, -5.850800037384033, -7.211599826812744, -6.090400218963623, -4.816699981689453, -6.404099941253662, -5.83650016784668, -5.135300159454346, -6.706299781799316, -4.670199871063232, -5.392600059509277, -5.807700157165527, -5.566400051116943, -4.836100101470947, -5.907299995422363, -6.285299777984619, -5.646100044250488, -5.231100082397461, -5.185699939727783, -5.7270002365112305, -4.5447001457214355, -4.689700126647949, -5.003900051116943, -4.878699779510498, -4.912399768829346, -5.613999843597412, -5.4517998695373535, -5.155200004577637, -4.696499824523926, -4.801499843597412, -5.363800048828125, -5.380300045013428, -5.053800106048584, -4.369500160217285, -5.022799968719482, -5.3765997886657715, -5.287899971008301, -5.413599967956543, -5.587299823760986, -5.507400035858154, -5.38129997253418, -5.473400115966797, -5.427499771118164, -7.952400207519531, -7.951300144195557, -7.966300010681152, -7.9868998527526855, -8.052800178527832, -7.870500087738037, -8.322400093078613, -8.174099922180176, -8.526399612426758, -8.524700164794922, -8.572999954223633, -8.65060043334961, -8.680000305175781, -8.737600326538086, -8.838000297546387, -8.78600025177002, -8.843799591064453, -8.83489990234375, -8.906299591064453, -8.652400016784668, -8.959799766540527, -8.968700408935547, -9.005399703979492, -9.032600402832031, -9.021300315856934, -9.094799995422363, -9.136500358581543, -9.214500427246094, -9.242199897766113, -9.292400360107422, -7.270299911499023, -3.9328999519348145, -8.541199684143066, -5.418300151824951, -6.60260009765625, -6.156599998474121, -6.081999778747559, -5.230000019073486, -7.332099914550781, -7.359799861907959, -5.43179988861084, -5.881199836730957, -6.620699882507324, -6.939000129699707, -5.494699954986572, -4.810400009155273, -6.407700061798096, -6.913700103759766, -6.193699836730957, -7.868100166320801, -6.506700038909912, -4.8078999519348145, -4.680300235748291, -6.9593000411987305, -6.636199951171875, -3.738600015640259, -6.8618998527526855, -6.800000190734863, -6.942800045013428, -2.8046998977661133, -6.838600158691406, -6.714300155639648, -5.909299850463867, -4.948500156402588, -5.452199935913086, -5.541600227355957, -6.073599815368652, -5.327199935913086, -5.982600212097168, -5.161799907684326, -5.127200126647949, -5.260300159454346, -5.26230001449585, -5.708199977874756, -4.767499923706055, -4.794899940490723, -5.238699913024902, -4.8927998542785645, -4.946100234985352, -4.914899826049805, -5.174300193786621, -5.241099834442139, -5.632299900054932, -5.428400039672852, -5.39169979095459, -5.380199909210205, -5.457099914550781, -6.208399772644043, -6.356299877166748, -6.694699764251709, -6.791999816894531, -7.286200046539307, -7.314799785614014, -7.515900135040283, -7.649899959564209, -8.10319995880127, -8.14840030670166, -8.211099624633789, -8.3056001663208, -8.372599601745605, -8.489800453186035, -8.58329963684082, -8.599900245666504, -8.60949993133545, -8.607099533081055, -8.61620044708252, -8.638699531555176, -8.792499542236328, -8.965700149536133, -8.97189998626709, -9.006199836730957, -9.005399703979492, -9.019399642944336, -9.04640007019043, -9.143199920654297, -9.137700080871582, -9.157699584960938, -6.323299884796143, -7.205999851226807, -4.36870002746582, -8.336099624633789, -7.1905999183654785, -4.133500099182129, -5.975100040435791, -7.478499889373779, -5.672599792480469, -5.805600166320801, -5.618599891662598, -6.626399993896484, -5.336900234222412, -6.599100112915039, -5.450699806213379, -7.724299907684326, -6.412199974060059, -5.4481000900268555, -4.493899822235107, -5.476099967956543, -5.666900157928467, -5.593200206756592, -5.2845001220703125, -6.7459001541137695, -5.388500213623047, -5.384500026702881, -4.900899887084961, -4.594399929046631, -4.813000202178955, -5.6528000831604, -4.255300045013428, -4.267199993133545, -5.56879997253418, -4.228700160980225, -4.847499847412109, -4.562099933624268, -5.487299919128418, -5.4197998046875, -4.731900215148926, -4.911200046539307, -4.511600017547607, -3.867300033569336, -4.750899791717529, -4.838600158691406, -5.059599876403809, -5.267499923706055, -4.80649995803833, -5.343999862670898, -4.9618000984191895, -5.256700038909912, -5.332699775695801, -5.303500175476074, -5.364200115203857, -5.308000087738037, -5.338500022888184]}, \"token.table\": {\"Topic\": [1, 4, 1, 2, 2, 5, 1, 2, 3, 5, 1, 1, 4, 2, 4, 5, 2, 3, 4, 5, 1, 4, 4, 1, 1, 2, 3, 4, 5, 1, 2, 3, 4, 5, 1, 2, 3, 4, 5, 1, 3, 2, 3, 4, 5, 4, 4, 1, 1, 5, 4, 1, 2, 3, 5, 2, 2, 3, 5, 1, 3, 4, 1, 3, 4, 1, 2, 3, 4, 5, 1, 1, 2, 2, 3, 4, 3, 4, 1, 2, 3, 5, 3, 4, 5, 1, 2, 3, 4, 5, 1, 2, 3, 4, 5, 3, 4, 1, 2, 3, 4, 5, 1, 2, 3, 4, 5, 3, 2, 3, 4, 5, 2, 1, 4, 2, 3, 4, 5, 1, 2, 3, 4, 5, 2, 2, 1, 2, 3, 5, 1, 2, 3, 4, 5, 2, 3, 1, 2, 3, 4, 5, 2, 3, 1, 4, 3, 1, 2, 3, 5, 5, 5, 1, 2, 3, 4, 5, 1, 2, 3, 3, 4, 1, 4, 4, 4, 5, 3, 5, 2, 3, 4, 5, 5, 2, 3, 4, 5, 2, 2, 1, 2, 3, 5, 2, 2, 1, 2, 3, 4, 5, 1, 2, 3, 4, 5, 2, 4, 3, 1, 2, 3, 5, 2, 3, 5, 5, 1, 2, 5, 2, 4, 3, 1, 3, 5, 5, 1, 2, 1, 2, 1, 5, 1, 2, 5, 1, 2, 3, 5, 1, 2, 5, 1, 2, 3, 4, 5, 4, 4, 1, 3, 4, 5, 5, 1, 2, 3, 5, 4, 1, 2, 3, 4, 5, 3, 4, 1, 4, 1, 2, 3, 1, 3, 3, 1, 2, 3, 4, 5, 2, 5, 1, 1, 2, 3, 4, 5, 1, 4, 1, 2, 2, 1, 2, 4, 1, 2, 5, 1, 2, 3, 4, 5, 1, 5, 2, 3, 4, 5, 1, 2, 4, 5, 4, 3, 5, 5, 1, 2, 3, 4, 1, 4, 4, 1, 2, 3, 4, 5, 1, 3, 4, 5, 2, 3, 4, 5, 1, 1, 2, 3, 4, 5, 3, 3, 1, 3, 5, 1, 2, 3, 4, 5, 2, 3, 5, 3, 1, 2, 3, 4, 5, 2, 1, 2, 3, 5, 3, 5, 5, 1, 2, 3, 5, 4, 2, 3, 4, 5, 1, 2, 3, 5, 5, 5, 5, 1, 3, 5, 1, 2, 3, 4, 5, 5, 1, 3, 4, 3, 4, 5, 5, 5, 1, 4, 1, 2, 3, 4, 5, 5, 2, 4, 5, 3, 3, 4, 1, 4, 5, 1, 2, 3, 5, 1, 3, 4, 5, 1, 3, 1, 3, 4, 1, 2, 3, 4, 5, 5, 3, 1, 2, 3, 4, 5, 1, 2, 3, 5, 1, 3, 4, 5, 1, 2, 3, 4, 5, 1, 2, 4, 5, 1, 3, 4, 1, 3, 4, 5, 2, 2, 1, 3, 1, 2, 3, 4, 5, 1, 2, 3, 4, 5, 3, 3, 1, 2, 3, 4, 5, 3, 4, 4, 5, 3, 1, 1, 3, 5, 2, 1, 3, 4, 1, 2, 3, 4, 5, 1, 1, 1, 2, 3, 1, 2, 5, 2, 3, 1, 4, 1, 2, 4, 1, 2, 3, 2, 2, 2, 1, 2, 5, 1, 2, 5, 1, 4, 5, 1, 2, 4, 1, 3, 5, 1, 2, 3, 5, 1, 1, 2, 3, 4, 5, 1, 2, 3, 4, 5, 1, 2, 3, 4, 5, 2, 4, 1, 2, 3, 4, 5, 2, 3, 4, 5, 1, 2, 4, 5, 4, 1, 2, 5, 4, 1, 1, 2, 3, 5, 4, 1, 2, 3, 4, 1, 2, 3, 5, 3, 2, 1, 2, 3, 5, 3, 1, 2, 3, 4, 5, 1, 2, 3, 4, 5, 2, 3, 4, 3, 2, 2, 3, 1, 2, 3, 4, 5, 4, 1, 2, 3, 4, 2, 1, 2, 3, 4, 5, 1, 2, 3, 4, 5, 1, 1, 1, 2, 3, 4, 5, 4, 1, 2, 5, 4, 5, 1, 2, 4, 5, 1, 2, 3, 4, 5, 1, 2, 4, 5, 5, 4, 1, 2, 1, 2, 3, 4, 3, 1, 2, 3, 4, 5, 1, 3, 5, 1, 2, 5, 5, 1, 2, 3, 4, 5, 4, 5, 3, 1, 2, 3, 4, 5, 1, 1, 2, 3, 5, 1, 2, 4, 5, 4, 1, 2, 5, 1, 2, 3, 2, 5, 1, 2, 3, 5, 1, 3, 1, 2, 3, 4, 5, 1, 2, 4, 5, 1, 2, 3, 4, 5, 1, 2, 2, 5, 1, 2, 3, 5, 1, 2, 4, 5, 1, 2, 4, 5, 2, 4, 5, 3, 1, 2, 3, 4, 5, 2, 4, 5, 2, 2, 5, 3, 1, 2, 2, 1, 2, 3, 4, 5, 1, 2, 3, 4, 1, 3, 3, 1, 2, 3, 4, 5, 3, 1, 4, 1, 4, 1, 2, 3, 5, 1, 3, 1, 3, 4, 5, 1, 1, 4, 4, 1, 2, 5, 1, 2, 3, 5, 2, 2, 1, 3, 4, 5, 2, 5, 3, 1, 3, 4, 5, 2, 4, 5, 1, 2, 4, 1, 1, 2, 3, 5, 1, 2, 3, 4, 5, 4, 2, 3, 4, 5, 1, 2, 3, 4, 5, 1, 2, 3, 4, 5, 1, 2, 3, 5, 1, 2, 1, 1, 2, 3, 4, 5, 2, 2, 4, 1, 2, 3, 4, 5, 1], \"Freq\": [0.06304171681404114, 0.9368801116943359, 0.9988207817077637, 0.9991124868392944, 0.9850174188613892, 0.01469331793487072, 0.22440297901630402, 0.15487955510616302, 0.10144419223070145, 0.5192869901657104, 0.9994121789932251, 0.9996501207351685, 0.9977067112922668, 0.029398607090115547, 0.9152310490608215, 0.05537877231836319, 0.030261825770139694, 0.10770458728075027, 0.023246584460139275, 0.8388028144836426, 0.991452157497406, 0.008060586638748646, 0.9960471987724304, 0.9997645616531372, 0.2253328263759613, 0.28256359696388245, 0.08606287091970444, 0.3068208694458008, 0.0992174968123436, 0.13875098526477814, 0.3144586384296417, 0.10637062042951584, 0.37771955132484436, 0.06272251904010773, 0.29750698804855347, 0.13521058857440948, 0.00866454467177391, 0.5409151315689087, 0.017765957862138748, 0.966583251953125, 0.03340056911110878, 0.011636398732662201, 0.1175677552819252, 0.7960901856422424, 0.07463345676660538, 0.9974121451377869, 0.9992951154708862, 0.9992935061454773, 0.9998116493225098, 0.9966063499450684, 0.9989707469940186, 0.012307231314480305, 0.05183955281972885, 0.9349766373634338, 0.0007458928157575428, 0.9994547367095947, 0.04784029349684715, 0.1089501604437828, 0.8429669141769409, 0.08613456785678864, 0.11443297564983368, 0.7993783950805664, 0.09241124987602234, 0.03689553588628769, 0.8706656694412231, 0.21923556923866272, 0.3945028483867645, 0.1353374570608139, 0.1250394880771637, 0.125872403383255, 0.9990556836128235, 0.7414505481719971, 0.25847700238227844, 0.9995215535163879, 0.10154855251312256, 0.8984444737434387, 0.08711333572864532, 0.9126862287521362, 0.3667896091938019, 0.581341028213501, 0.05180327966809273, 0.9971815347671509, 0.0049410113133490086, 0.05223355069756508, 0.9430273175239563, 0.259456992149353, 0.16035765409469604, 0.52423095703125, 0.0001131270983023569, 0.05582822114229202, 0.2232942283153534, 0.13092291355133057, 0.16873061656951904, 0.18656514585018158, 0.2904852032661438, 0.00602856045588851, 0.9939589500427246, 0.19650816917419434, 0.10595044493675232, 0.36601752042770386, 0.16526830196380615, 0.16625283658504486, 0.1922401785850525, 0.09116474539041519, 0.6092357635498047, 0.10087179392576218, 0.006516616325825453, 0.998620867729187, 0.06235922500491142, 0.018369384109973907, 0.8880147337913513, 0.030937910079956055, 0.999850869178772, 0.9964131712913513, 0.003470400348305702, 0.02911471202969551, 0.1026955246925354, 0.8268578052520752, 0.041289955377578735, 0.15786057710647583, 0.25541985034942627, 0.003220511367544532, 0.03328787162899971, 0.5502076745033264, 0.999357283115387, 0.9996692538261414, 0.20039938390254974, 0.17430059611797333, 0.5837507247924805, 0.041549742221832275, 0.22002020478248596, 0.39526984095573425, 0.03161556273698807, 0.2696109414100647, 0.08348248898983002, 0.8848977088928223, 0.11493093520402908, 0.25076717138290405, 0.2936020493507385, 0.00027032915386371315, 0.17873673141002655, 0.276620477437973, 0.018058134242892265, 0.9814042448997498, 0.9001032710075378, 0.09979438036680222, 0.9996811747550964, 0.06353794783353806, 0.03550403192639351, 0.8132354021072388, 0.08766894042491913, 0.9969420433044434, 0.9946686625480652, 0.3945435583591461, 0.18610835075378418, 0.12270976603031158, 0.012756629846990108, 0.28388720750808716, 0.6884453296661377, 0.07421109825372696, 0.23733636736869812, 0.08092851936817169, 0.9189761281013489, 0.0669366717338562, 0.9326007962226868, 0.9981268048286438, 0.9971678853034973, 0.9973193407058716, 0.21512162685394287, 0.7847356796264648, 0.6885397434234619, 0.0021985371131449938, 0.1890508085489273, 0.12019449472427368, 0.997676432132721, 0.062205590307712555, 0.012805277481675148, 0.07671226561069489, 0.8482824563980103, 0.9999634027481079, 0.9998614192008972, 0.3358691930770874, 0.4516586661338806, 0.15638335049152374, 0.05611097067594528, 0.9998721480369568, 0.9998781085014343, 0.23330146074295044, 0.10014764964580536, 0.3402240574359894, 0.24082918465137482, 0.08549754321575165, 0.17377619445323944, 0.10391606390476227, 0.6796501874923706, 0.04202796518802643, 0.0006293705082498491, 0.957417905330658, 0.04239874333143234, 0.9983565211296082, 0.3050689399242401, 0.015454178676009178, 0.47053223848342896, 0.20893359184265137, 0.07128726691007614, 0.9287146925926208, 0.9968935251235962, 0.9977907538414001, 0.9998763799667358, 0.9999489784240723, 0.9962354898452759, 0.9755471348762512, 0.024232005700469017, 0.9998464584350586, 0.06141277030110359, 0.30870699882507324, 0.6297376155853271, 0.9992486238479614, 0.9375009536743164, 0.06224728003144264, 0.9595751166343689, 0.04028978943824768, 0.08006415516138077, 0.919898271560669, 0.5353874564170837, 0.2212814837694168, 0.24332644045352936, 0.278730571269989, 0.3679151237010956, 0.2463313341140747, 0.10701221972703934, 0.24041622877120972, 0.5691635608673096, 0.1904306709766388, 0.20932070910930634, 0.16811129450798035, 0.5234365463256836, 0.011592554859817028, 0.0875796303153038, 0.9977967143058777, 0.9961697459220886, 0.6210882663726807, 0.010164843872189522, 0.36876097321510315, 0.9997161030769348, 0.9998680949211121, 0.18868057429790497, 0.5825453996658325, 0.11970202624797821, 0.10905885696411133, 0.9983222484588623, 0.23501157760620117, 0.28873729705810547, 0.24661962687969208, 0.11785248667001724, 0.11176596581935883, 0.015948554500937462, 0.983494222164154, 0.9783462285995483, 0.021655287593603134, 0.09689072519540787, 0.047455184161663055, 0.8555868864059448, 0.03063768893480301, 0.9692522287368774, 0.999419093132019, 0.08611813187599182, 0.08017395436763763, 0.08234865218400955, 0.632692813873291, 0.11873863637447357, 0.11087165027856827, 0.888945996761322, 0.9985664486885071, 0.09191068261861801, 0.11751596629619598, 0.23351126909255981, 0.5039657354354858, 0.05310022085905075, 0.9916223883628845, 0.00829578097909689, 0.9996954202651978, 0.9993576407432556, 0.998988151550293, 0.5848639607429504, 0.1356518566608429, 0.27943840622901917, 0.08848124742507935, 0.1293187439441681, 0.7822325229644775, 0.25526952743530273, 0.2416442632675171, 0.19560343027114868, 0.1624400019645691, 0.1450520008802414, 0.9997153282165527, 0.996345043182373, 0.8354794979095459, 1.1346382052579429e-05, 2.2692764105158858e-05, 0.16449984908103943, 0.19583889842033386, 0.5115749835968018, 0.09951762855052948, 0.19307325780391693, 0.9988311529159546, 0.08835949748754501, 0.911497950553894, 0.9994879961013794, 0.1346672624349594, 0.015356793068349361, 0.8499394655227661, 0.9969843029975891, 0.8519592881202698, 0.1480156034231186, 0.9955915212631226, 0.012352727353572845, 0.1857508420944214, 0.14291054010391235, 0.5337297916412354, 0.1252356320619583, 0.9988617300987244, 0.9985885620117188, 0.9966520071029663, 0.9964566230773926, 0.030134066939353943, 0.25326159596443176, 0.16800588369369507, 0.548643171787262, 0.9982443451881409, 0.36362576484680176, 0.479519248008728, 0.046357400715351105, 0.009398196823894978, 0.1010834202170372, 0.9997807741165161, 0.9991911053657532, 0.12599043548107147, 0.8238369226455688, 0.05011869594454765, 0.35949328541755676, 0.2823553681373596, 0.08516374975442886, 0.04878837242722511, 0.22419391572475433, 0.0218056607991457, 0.8691512942314148, 0.10902830958366394, 0.9988820552825928, 0.35859620571136475, 0.15972179174423218, 0.26811712980270386, 0.04541703686118126, 0.16815787553787231, 0.9993634223937988, 0.5325441956520081, 0.24770930409431458, 0.08782268315553665, 0.13193030655384064, 0.9997228384017944, 0.9986053705215454, 0.999609112739563, 0.410601407289505, 0.07039663940668106, 0.14001718163490295, 0.37896400690078735, 0.9954851865768433, 0.02837291918694973, 0.11042433232069016, 0.7783381938934326, 0.08243483304977417, 0.46780163049697876, 0.3712862730026245, 0.06806716322898865, 0.09285135567188263, 0.9978614449501038, 0.9961729049682617, 0.9988563656806946, 0.0022364265751093626, 0.9702364206314087, 0.02720985747873783, 0.24370887875556946, 0.24253112077713013, 0.03728596493601799, 0.06270821392536163, 0.4137650430202484, 0.9980519413948059, 0.24081505835056305, 0.1343943476676941, 0.6248040199279785, 0.8466536998748779, 0.14211544394493103, 0.011071315966546535, 0.9989458918571472, 0.9982617497444153, 0.95268714427948, 0.04713333398103714, 0.25331875681877136, 0.14498074352741241, 0.40269798040390015, 0.157364159822464, 0.04165024682879448, 0.9997175335884094, 0.19008420407772064, 0.0025707490276545286, 0.80721515417099, 0.9997473359107971, 0.9996755719184875, 0.9984531998634338, 0.8629379868507385, 0.03761028125882149, 0.09927176684141159, 0.6588412523269653, 0.18525144457817078, 0.11342897266149521, 0.042464375495910645, 0.11007755249738693, 0.7239898443222046, 0.15331214666366577, 0.012610089965164661, 0.0035420560743659735, 0.9964984059333801, 0.8525804877281189, 0.03099210374057293, 0.11638904362916946, 0.2663222551345825, 0.6013476252555847, 0.13233160972595215, 0.9988513588905334, 0.9989979863166809, 0.9989423751831055, 0.9989358186721802, 0.36641979217529297, 0.1658991575241089, 0.06273308396339417, 0.0011938433162868023, 0.40374428033828735, 0.26179346442222595, 0.17998860776424408, 0.2946110665798187, 0.263616681098938, 0.28676003217697144, 0.3468121290206909, 0.04325035959482193, 0.32317665219306946, 0.12109482288360596, 0.14994452893733978, 0.2434471994638443, 0.46514615416526794, 0.020342746749520302, 0.17340989410877228, 0.25400760769844055, 0.018009666353464127, 0.5544658899307251, 0.10852349549531937, 0.23404362797737122, 0.6574297547340393, 0.032508667558431625, 0.06421957910060883, 0.8267772197723389, 0.0765848383307457, 0.9995718598365784, 0.9997456669807434, 0.9982494711875916, 0.9992535710334778, 0.06409483402967453, 0.003369612153619528, 0.4105631709098816, 0.20771251618862152, 0.3142644762992859, 0.07278633862733841, 0.21163088083267212, 0.2102164328098297, 0.15585604310035706, 0.3495196998119354, 0.9991884827613831, 0.9993695616722107, 0.067575603723526, 0.07254540920257568, 0.34478050470352173, 0.4639523923397064, 0.051147621124982834, 0.9407718181610107, 0.05920177698135376, 0.9974696040153503, 0.9981950521469116, 0.9977375864982605, 0.999689519405365, 0.039255790412425995, 0.36635735630989075, 0.5943290591239929, 0.9998053312301636, 0.8069238066673279, 0.0671887993812561, 0.12587615847587585, 0.8179249167442322, 0.020949644967913628, 0.11350898444652557, 0.04621618613600731, 0.0012696754420176148, 0.9998366236686707, 0.9996177554130554, 0.9989069700241089, 0.028969503939151764, 0.9701069593429565, 0.25231170654296875, 0.10614551603794098, 0.6415407657623291, 0.9996798038482666, 0.9992743134498596, 0.9997116327285767, 0.996903121471405, 0.29267120361328125, 0.707282543182373, 4.960949445376173e-05, 0.14700065553188324, 0.7629302740097046, 0.08999569714069366, 0.9999464154243469, 0.9992814660072327, 0.9999698400497437, 0.07841651141643524, 0.2617053985595703, 0.659839928150177, 0.08151448518037796, 0.06702302396297455, 0.8510112166404724, 0.9263105392456055, 0.040435824543237686, 0.0332564041018486, 0.914583146572113, 0.04107053577899933, 0.04429508373141289, 0.024968503043055534, 0.8414500951766968, 0.13347218930721283, 0.30974218249320984, 0.1599740982055664, 0.16042593121528625, 0.3698354661464691, 0.9995591044425964, 0.3580264747142792, 0.11450023204088211, 0.10747381299734116, 0.10732179880142212, 0.3126756548881531, 0.17761309444904327, 0.0877893790602684, 0.002973258960992098, 0.2024163454771042, 0.529240071773529, 0.200169637799263, 0.1909058392047882, 0.48714256286621094, 0.08736629039049149, 0.03444494307041168, 0.9471443891525269, 0.05264412984251976, 0.03237701579928398, 0.7031741142272949, 0.047083478420972824, 0.06726211309432983, 0.15014271438121796, 0.11594121903181076, 0.0922452062368393, 0.5777717232704163, 0.2139895260334015, 0.11067669838666916, 0.30859267711639404, 0.07785060256719589, 0.502945065498352, 0.9989047646522522, 0.5040287971496582, 0.38376373052597046, 0.11216955631971359, 0.9983429312705994, 0.9995042085647583, 0.031011471524834633, 0.04810663312673569, 0.5846969485282898, 0.33618131279945374, 0.9983111619949341, 0.05950193852186203, 0.03718871250748634, 0.1186319887638092, 0.7846817970275879, 0.2751878798007965, 0.09970574826002121, 0.24124260246753693, 0.38386714458465576, 0.9986323118209839, 0.9998258948326111, 0.38252681493759155, 0.15847165882587433, 0.3475426435470581, 0.11144687235355377, 0.9976838231086731, 0.5113863348960876, 0.12039653956890106, 0.12240045517683029, 0.1683289110660553, 0.07750628143548965, 0.0392950065433979, 0.07220058143138885, 0.014695693738758564, 0.8448426723480225, 0.028912179172039032, 0.011484884656965733, 0.0625288188457489, 0.9251713156700134, 0.999329686164856, 0.999939501285553, 0.9999404549598694, 0.9995730519294739, 0.20439302921295166, 0.14570628106594086, 0.5133105516433716, 0.11076853424310684, 0.025806289166212082, 0.9980711936950684, 0.06397631019353867, 0.49018239974975586, 0.039624039083719254, 0.4062289595603943, 0.9994539022445679, 0.0573112852871418, 0.11605916917324066, 0.3461295962333679, 0.3073718845844269, 0.17312592267990112, 0.10941419750452042, 0.014977813698351383, 0.6717732548713684, 0.14413677155971527, 0.0596855990588665, 0.9995058178901672, 0.998863697052002, 0.026047520339488983, 0.06306241452693939, 0.012795273214578629, 0.860939085483551, 0.037471871823072433, 0.9995232820510864, 0.2865711748600006, 0.005117342341691256, 0.7083331942558289, 0.9987514019012451, 0.9966138005256653, 0.15975604951381683, 0.048248469829559326, 0.04717628285288811, 0.7451708316802979, 0.3029555678367615, 0.12258721888065338, 0.3135386109352112, 0.11832965910434723, 0.14262814819812775, 0.1369100660085678, 0.1646254062652588, 0.14357656240463257, 0.5548623204231262, 0.9943713545799255, 0.9977849721908569, 0.4439951479434967, 0.5559606552124023, 0.5452350378036499, 0.4336252212524414, 0.008919271640479565, 0.012189670465886593, 0.9993655681610107, 0.2543354630470276, 0.017634132876992226, 0.0653705894947052, 0.42182090878486633, 0.2408185601234436, 0.6553457975387573, 0.05607704073190689, 0.2885657250881195, 0.9069351553916931, 0.06146642938256264, 0.03134381026029587, 0.9991950988769531, 0.2236863225698471, 0.16892214119434357, 0.2731979787349701, 0.2638545632362366, 0.07033652812242508, 0.004692998714745045, 0.9952285289764404, 0.9997955560684204, 0.6840478777885437, 0.04274480789899826, 0.05924050882458687, 0.20488706231117249, 0.009033359587192535, 0.9996076226234436, 0.2600065767765045, 0.14397045969963074, 0.35984909534454346, 0.23615531623363495, 0.6633977890014648, 0.17871558666229248, 0.0008775931783020496, 0.1570264995098114, 0.9989817142486572, 0.6486027836799622, 0.34597551822662354, 0.005388729739934206, 0.8488432168960571, 0.020023057237267494, 0.13108620047569275, 0.07306227833032608, 0.9266886711120605, 0.3529600501060486, 0.19237545132637024, 0.006589130964130163, 0.44806089997291565, 0.03337443619966507, 0.9660546779632568, 0.09595312923192978, 0.24603301286697388, 0.15158338844776154, 0.18420720100402832, 0.3222200274467468, 0.04583478718996048, 0.07246261835098267, 0.7988348603248596, 0.08250261843204498, 0.14868667721748352, 0.07407145947217941, 0.1701347678899765, 0.13273653388023376, 0.4743956923484802, 0.8169070482254028, 0.18297654390335083, 0.24055428802967072, 0.7594108581542969, 0.12491560727357864, 0.0880713164806366, 0.7077531218528748, 0.07925806194543839, 0.7557327151298523, 0.16669651865959167, 0.07733127474784851, 0.00020928627054672688, 0.36507317423820496, 0.20062407851219177, 0.10707336664199829, 0.32725563645362854, 0.11902166157960892, 0.7912755608558655, 0.08964740484952927, 0.9995120167732239, 0.12080210447311401, 0.04137498885393143, 0.7952358722686768, 0.03751618042588234, 0.00514507619664073, 0.9414876699447632, 0.007729783654212952, 0.05057486891746521, 0.9998762011528015, 0.847770631313324, 0.15210457146167755, 0.9984560012817383, 0.048921242356300354, 0.9509658217430115, 0.9995251893997192, 0.3372533619403839, 0.6050224304199219, 0.03548027575016022, 0.021978197619318962, 0.00024880978162400424, 0.6897071003913879, 0.13299508392810822, 0.0006032117526046932, 0.17670170962810516, 0.9995404481887817, 0.9993197321891785, 0.9984095096588135, 0.19593527913093567, 0.18309442698955536, 0.3653288781642914, 0.2096165418624878, 0.046047233045101166, 0.9993394613265991, 0.13171930611133575, 0.8682861328125, 0.08076181262731552, 0.918856143951416, 0.3086511790752411, 0.35239019989967346, 0.1513543277978897, 0.18763509392738342, 0.8194130659103394, 0.1804620772600174, 0.8639275431632996, 0.023062758147716522, 0.03686674311757088, 0.07625860720872879, 0.9995501637458801, 0.17578522861003876, 0.8239932656288147, 0.9978103637695312, 0.9997453689575195, 0.01274448074400425, 0.9865727424621582, 0.11847003549337387, 0.034362856298685074, 0.7749642133712769, 0.07216199487447739, 0.9994781017303467, 0.9998649954795837, 0.05339274927973747, 0.15326860547065735, 0.7807904481887817, 0.012563000433146954, 0.013884756714105606, 0.9835035800933838, 0.9995611906051636, 0.02866806834936142, 0.1121176928281784, 0.803273618221283, 0.056200768798589706, 0.2133350521326065, 0.7229219675064087, 0.06371007114648819, 0.4563031792640686, 0.13736800849437714, 0.40628546476364136, 0.9984647631645203, 0.20866689085960388, 0.0141273969784379, 0.7233227491378784, 0.05399805307388306, 0.0251743383705616, 0.11344799399375916, 0.006211849860846996, 0.7516338229179382, 0.10331287235021591, 0.9980899691581726, 0.053424589335918427, 0.334081768989563, 0.6105836629867554, 0.0018995408900082111, 0.10515681654214859, 0.1566740721464157, 0.40077346563339233, 0.2414293736219406, 0.09598298370838165, 0.6033776998519897, 0.053823694586753845, 0.04358961060643196, 0.025179091840982437, 0.2739918529987335, 0.12506580352783203, 0.010377279482781887, 0.7321366667747498, 0.13235926628112793, 0.921413779258728, 0.07851099967956543, 0.9991509318351746, 0.00028894669958390296, 0.19287191331386566, 0.742918074131012, 0.05739203840494156, 0.006501300726085901, 0.9999601244926453, 0.9994493126869202, 0.9987342357635498, 0.10373704880475998, 0.32631462812423706, 9.936498827300966e-05, 0.45732733607292175, 0.11253084987401962, 0.9991795420646667], \"Term\": [\"\\u0430\\u0432\\u0430\\u043d\\u0433\\u0430\\u0440\\u0434\", \"\\u0430\\u0432\\u0430\\u043d\\u0433\\u0430\\u0440\\u0434\", \"\\u0430\\u0432\\u0442\\u043e\\u0440\\u0438\\u0437\\u0430\\u0446\\u0438\\u044f\", \"\\u0430\\u0432\\u0442\\u043e\\u0441\\u0430\\u043b\\u043e\\u043d\", \"\\u0430\\u0433\\u0435\\u043d\\u0442\\u0441\\u0442\\u0432\\u043e\", \"\\u0430\\u0433\\u0435\\u043d\\u0442\\u0441\\u0442\\u0432\\u043e\", \"\\u0430\\u0434\\u0440\\u0435\\u0441\", \"\\u0430\\u0434\\u0440\\u0435\\u0441\", \"\\u0430\\u0434\\u0440\\u0435\\u0441\", \"\\u0430\\u0434\\u0440\\u0435\\u0441\", \"\\u0430\\u043a\\u0442\\u0438\\u0432\\u0430\\u0446\\u0438\\u044f\", \"\\u0430\\u043a\\u0442\\u0438\\u0432\\u0438\\u0440\\u043e\\u0432\\u0430\\u0442\\u044c\", \"\\u0430\\u043a\\u0446\\u0438\\u043e\\u043d\\u0435\\u0440\", \"\\u0430\\u043a\\u0446\\u0438\\u044f\", \"\\u0430\\u043a\\u0446\\u0438\\u044f\", \"\\u0430\\u043a\\u0446\\u0438\\u044f\", \"\\u0430\\u043d\\u043a\\u0435\\u0442\\u0430\", \"\\u0430\\u043d\\u043a\\u0435\\u0442\\u0430\", \"\\u0430\\u043d\\u043a\\u0435\\u0442\\u0430\", \"\\u0430\\u043d\\u043a\\u0435\\u0442\\u0430\", \"\\u0430\\u044d\\u0440\\u043e\\u0444\\u043b\\u043e\\u0442\", \"\\u0430\\u044d\\u0440\\u043e\\u0444\\u043b\\u043e\\u0442\", \"\\u0431\\u0430\\u0437\\u043e\\u0432\\u044b\\u0439\", \"\\u0431\\u0430\\u043b\\u0430\\u043d\\u0441\", \"\\u0431\\u0430\\u043d\\u043a\", \"\\u0431\\u0430\\u043d\\u043a\", \"\\u0431\\u0430\\u043d\\u043a\", \"\\u0431\\u0430\\u043d\\u043a\", \"\\u0431\\u0430\\u043d\\u043a\", \"\\u0431\\u0430\\u043d\\u043a\\u0430\", \"\\u0431\\u0430\\u043d\\u043a\\u0430\", \"\\u0431\\u0430\\u043d\\u043a\\u0430\", \"\\u0431\\u0430\\u043d\\u043a\\u0430\", \"\\u0431\\u0430\\u043d\\u043a\\u0430\", \"\\u0431\\u0430\\u043d\\u043a\\u043e\\u0432\\u0441\\u043a\\u0438\\u0439\", \"\\u0431\\u0430\\u043d\\u043a\\u043e\\u0432\\u0441\\u043a\\u0438\\u0439\", \"\\u0431\\u0430\\u043d\\u043a\\u043e\\u0432\\u0441\\u043a\\u0438\\u0439\", \"\\u0431\\u0430\\u043d\\u043a\\u043e\\u0432\\u0441\\u043a\\u0438\\u0439\", \"\\u0431\\u0430\\u043d\\u043a\\u043e\\u0432\\u0441\\u043a\\u0438\\u0439\", \"\\u0431\\u0430\\u043d\\u043a\\u043e\\u043c\\u0430\\u0442\", \"\\u0431\\u0430\\u043d\\u043a\\u043e\\u043c\\u0430\\u0442\", \"\\u0431\\u0438\\u0437\\u043d\\u0435\\u0441\", \"\\u0431\\u0438\\u0437\\u043d\\u0435\\u0441\", \"\\u0431\\u0438\\u0437\\u043d\\u0435\\u0441\", \"\\u0431\\u0438\\u0437\\u043d\\u0435\\u0441\", \"\\u0431\\u043a\\u0441\", \"\\u0431\\u043b\\u0430\\u0433\\u043e\\u0434\\u0430\\u0440\\u043d\\u043e\\u0441\\u0442\\u044c\", \"\\u0431\\u043b\\u043e\\u043a\\u0438\\u0440\\u043e\\u0432\\u0430\\u0442\\u044c\", \"\\u0431\\u043b\\u043e\\u043a\\u0438\\u0440\\u043e\\u0432\\u043a\\u0430\", \"\\u0431\\u0440\\u0430\\u043a\", \"\\u0431\\u0440\\u0441\", \"\\u0431\\u0443\\u043c\\u0430\\u0436\\u043a\\u0430\", \"\\u0431\\u0443\\u043c\\u0430\\u0436\\u043a\\u0430\", \"\\u0431\\u0443\\u043c\\u0430\\u0436\\u043a\\u0430\", \"\\u0431\\u0443\\u043c\\u0430\\u0436\\u043a\\u0430\", \"\\u0431\\u044e\\u0440\\u043e\", \"\\u0432\\u0430\", \"\\u0432\\u0430\", \"\\u0432\\u0430\", \"\\u0432\\u0430\\u043b\\u044e\\u0442\\u0430\", \"\\u0432\\u0430\\u043b\\u044e\\u0442\\u0430\", \"\\u0432\\u0430\\u043b\\u044e\\u0442\\u0430\", \"\\u0432\\u0430\\u043b\\u044e\\u0442\\u043d\\u044b\\u0439\", \"\\u0432\\u0430\\u043b\\u044e\\u0442\\u043d\\u044b\\u0439\", \"\\u0432\\u0430\\u043b\\u044e\\u0442\\u043d\\u044b\\u0439\", \"\\u0432\\u0430\\u0448\", \"\\u0432\\u0430\\u0448\", \"\\u0432\\u0430\\u0448\", \"\\u0432\\u0430\\u0448\", \"\\u0432\\u0430\\u0448\", \"\\u0432\\u0432\\u043e\\u0434\", \"\\u0432\\u0435\\u0440\\u043d\\u0443\\u0442\\u044c\", \"\\u0432\\u0435\\u0440\\u043d\\u0443\\u0442\\u044c\", \"\\u0432\\u0437\\u044b\\u0441\\u043a\\u0430\\u043d\\u0438\\u0435\", \"\\u0432\\u043a\\u043b\\u0430\\u0434\", \"\\u0432\\u043a\\u043b\\u0430\\u0434\", \"\\u0432\\u043a\\u043b\\u0430\\u0434\\u0447\\u0438\\u043a\", \"\\u0432\\u043a\\u043b\\u0430\\u0434\\u0447\\u0438\\u043a\", \"\\u0432\\u043d\\u043e\\u0441\\u0438\\u0442\\u044c\", \"\\u0432\\u043d\\u043e\\u0441\\u0438\\u0442\\u044c\", \"\\u0432\\u043d\\u043e\\u0441\\u0438\\u0442\\u044c\", \"\\u0432\\u043e\\u0434\\u0438\\u0442\\u0435\\u043b\\u044c\\u0441\\u043a\\u0438\\u0439\", \"\\u0432\\u043e\\u0439\", \"\\u0432\\u043e\\u0439\", \"\\u0432\\u043e\\u0439\", \"\\u0432\\u043e\\u043e\\u0431\\u0449\\u0435\", \"\\u0432\\u043e\\u043e\\u0431\\u0449\\u0435\", \"\\u0432\\u043e\\u043e\\u0431\\u0449\\u0435\", \"\\u0432\\u043e\\u043e\\u0431\\u0449\\u0435\", \"\\u0432\\u043e\\u043e\\u0431\\u0449\\u0435\", \"\\u0432\\u043e\\u043f\\u0440\\u043e\\u0441\", \"\\u0432\\u043e\\u043f\\u0440\\u043e\\u0441\", \"\\u0432\\u043e\\u043f\\u0440\\u043e\\u0441\", \"\\u0432\\u043e\\u043f\\u0440\\u043e\\u0441\", \"\\u0432\\u043e\\u043f\\u0440\\u043e\\u0441\", \"\\u0432\\u043e\\u0441\\u0442\\u0440\\u0435\\u0431\\u043e\\u0432\\u0430\\u043d\\u0438\\u0435\", \"\\u0432\\u043e\\u0441\\u0442\\u0440\\u0435\\u0431\\u043e\\u0432\\u0430\\u043d\\u0438\\u0435\", \"\\u0432\\u0440\\u0435\\u043c\\u044f\", \"\\u0432\\u0440\\u0435\\u043c\\u044f\", \"\\u0432\\u0440\\u0435\\u043c\\u044f\", \"\\u0432\\u0440\\u0435\\u043c\\u044f\", \"\\u0432\\u0440\\u0435\\u043c\\u044f\", \"\\u0432\\u0441\", \"\\u0432\\u0441\", \"\\u0432\\u0441\", \"\\u0432\\u0441\", \"\\u0432\\u0441\", \"\\u0432\\u044b\\u0432\\u0435\\u0441\\u043a\\u0430\", \"\\u0432\\u044b\\u0433\\u043e\\u0434\\u043d\\u044b\\u0439\", \"\\u0432\\u044b\\u0433\\u043e\\u0434\\u043d\\u044b\\u0439\", \"\\u0432\\u044b\\u0433\\u043e\\u0434\\u043d\\u044b\\u0439\", \"\\u0432\\u044b\\u0433\\u043e\\u0434\\u043d\\u044b\\u0439\", \"\\u0432\\u044b\\u043f\\u043b\\u0430\\u0447\\u0438\\u0432\\u0430\\u0442\\u044c\", \"\\u0432\\u044b\\u043f\\u0443\\u0441\\u043a\\u0430\\u0442\\u044c\", \"\\u0432\\u044b\\u043f\\u0443\\u0441\\u043a\\u0430\\u0442\\u044c\", \"\\u0432\\u044b\\u0441\\u043e\\u043a\\u0438\\u0439\", \"\\u0432\\u044b\\u0441\\u043e\\u043a\\u0438\\u0439\", \"\\u0432\\u044b\\u0441\\u043e\\u043a\\u0438\\u0439\", \"\\u0432\\u044b\\u0441\\u043e\\u043a\\u0438\\u0439\", \"\\u0433\", \"\\u0433\", \"\\u0433\", \"\\u0433\", \"\\u0433\", \"\\u0433\\u0430\\u0441\\u0438\\u0442\\u044c\", \"\\u0433\\u043a\", \"\\u0433\\u043e\\u0432\\u043e\\u0440\\u0438\\u0442\\u044c\", \"\\u0433\\u043e\\u0432\\u043e\\u0440\\u0438\\u0442\\u044c\", \"\\u0433\\u043e\\u0432\\u043e\\u0440\\u0438\\u0442\\u044c\", \"\\u0433\\u043e\\u0432\\u043e\\u0440\\u0438\\u0442\\u044c\", \"\\u0433\\u043e\\u0434\", \"\\u0433\\u043e\\u0434\", \"\\u0433\\u043e\\u0434\", \"\\u0433\\u043e\\u0434\", \"\\u0433\\u043e\\u0434\", \"\\u0433\\u0440\\u0430\\u0444\\u0438\\u043a\", \"\\u0433\\u0440\\u0430\\u0444\\u0438\\u043a\", \"\\u0434\\u0430\\u043d\\u043d\\u044b\\u0439\", \"\\u0434\\u0430\\u043d\\u043d\\u044b\\u0439\", \"\\u0434\\u0430\\u043d\\u043d\\u044b\\u0439\", \"\\u0434\\u0430\\u043d\\u043d\\u044b\\u0439\", \"\\u0434\\u0430\\u043d\\u043d\\u044b\\u0439\", \"\\u0434\\u0432\\u0435\\u0440\\u044c\", \"\\u0434\\u0432\\u0435\\u0440\\u044c\", \"\\u0434\\u0435\\u0431\\u0435\\u0442\\u043e\\u0432\\u044b\\u0439\", \"\\u0434\\u0435\\u0431\\u0435\\u0442\\u043e\\u0432\\u044b\\u0439\", \"\\u0434\\u0435\\u0432\\u043e\\u0447\\u043a\\u0430\", \"\\u0434\\u0435\\u0432\\u0443\\u0448\\u043a\\u0430\", \"\\u0434\\u0435\\u0432\\u0443\\u0448\\u043a\\u0430\", \"\\u0434\\u0435\\u0432\\u0443\\u0448\\u043a\\u0430\", \"\\u0434\\u0435\\u0432\\u0443\\u0448\\u043a\\u0430\", \"\\u0434\\u0435\\u043a\\u043b\\u0430\\u0440\\u0430\\u0446\\u0438\\u044f\", \"\\u0434\\u0435\\u043b\\u044c\\u0442\\u0430\\u043a\\u0440\\u0435\\u0434\\u0438\\u0442\", \"\\u0434\\u0435\\u043d\\u044c\", \"\\u0434\\u0435\\u043d\\u044c\", \"\\u0434\\u0435\\u043d\\u044c\", \"\\u0434\\u0435\\u043d\\u044c\", \"\\u0434\\u0435\\u043d\\u044c\", \"\\u0434\\u0435\\u043d\\u044c\\u0433\\u0438\", \"\\u0434\\u0435\\u043d\\u044c\\u0433\\u0438\", \"\\u0434\\u0435\\u043d\\u044c\\u0433\\u0438\", \"\\u0434\\u0435\\u043f\\u043e\\u0437\\u0438\\u0442\", \"\\u0434\\u0435\\u043f\\u043e\\u0437\\u0438\\u0442\", \"\\u0434\\u0435\\u043f\\u043e\\u0437\\u0438\\u0442\\u043d\\u044b\\u0439\", \"\\u0434\\u0435\\u043f\\u043e\\u0437\\u0438\\u0442\\u043d\\u044b\\u0439\", \"\\u0434\\u0438\\u0432\\u0438\\u0434\\u0435\\u043d\\u0434\", \"\\u0434\\u0438\\u0440\", \"\\u0434\\u043e\\u0431\\u0430\\u0432\\u043e\\u0447\\u043d\\u044b\\u0439\", \"\\u0434\\u043e\\u0432\\u0435\\u0440\\u0435\\u043d\\u043d\\u043e\\u0441\\u0442\\u044c\", \"\\u0434\\u043e\\u0432\\u0435\\u0440\\u0435\\u043d\\u043d\\u043e\\u0441\\u0442\\u044c\", \"\\u0434\\u043e\\u0433\\u043e\\u0432\\u043e\\u0440\", \"\\u0434\\u043e\\u0433\\u043e\\u0432\\u043e\\u0440\", \"\\u0434\\u043e\\u0433\\u043e\\u0432\\u043e\\u0440\", \"\\u0434\\u043e\\u0433\\u043e\\u0432\\u043e\\u0440\", \"\\u0434\\u043e\\u043a\", \"\\u0434\\u043e\\u043a\\u0443\\u043c\\u0435\\u043d\\u0442\", \"\\u0434\\u043e\\u043a\\u0443\\u043c\\u0435\\u043d\\u0442\", \"\\u0434\\u043e\\u043a\\u0443\\u043c\\u0435\\u043d\\u0442\", \"\\u0434\\u043e\\u043a\\u0443\\u043c\\u0435\\u043d\\u0442\", \"\\u0434\\u043e\\u043b\\u0433\", \"\\u0434\\u043e\\u043b\\u0436\\u043d\\u0438\\u043a\", \"\\u0434\\u043e\\u043b\\u0436\\u043d\\u044b\\u0439\", \"\\u0434\\u043e\\u043b\\u0436\\u043d\\u044b\\u0439\", \"\\u0434\\u043e\\u043b\\u0436\\u043d\\u044b\\u0439\", \"\\u0434\\u043e\\u043b\\u0436\\u043d\\u044b\\u0439\", \"\\u0434\\u043e\\u0441\\u0440\\u043e\\u0447\\u043d\\u043e\", \"\\u0434\\u043e\\u0441\\u0440\\u043e\\u0447\\u043d\\u044b\\u0439\", \"\\u0434\\u0440\\u0443\\u0433\\u043e\\u0439\", \"\\u0434\\u0440\\u0443\\u0433\\u043e\\u0439\", \"\\u0434\\u0440\\u0443\\u0433\\u043e\\u0439\", \"\\u0434\\u0440\\u0443\\u0433\\u043e\\u0439\", \"\\u0434\\u0440\\u0443\\u0433\\u043e\\u0439\", \"\\u0434\\u0443\\u043c\\u0430\\u0442\\u044c\", \"\\u0434\\u0443\\u043c\\u0430\\u0442\\u044c\", \"\\u0434\\u0443\\u043c\\u0430\\u0442\\u044c\", \"\\u0434\\u0443\\u043c\\u0430\\u0442\\u044c\", \"\\u0434\\u0443\\u043c\\u0430\\u0442\\u044c\", \"\\u0435\\u0436\\u0435\\u043c\\u0435\\u0441\\u044f\\u0447\\u043d\\u044b\\u0439\", \"\\u0435\\u0436\\u0435\\u043c\\u0435\\u0441\\u044f\\u0447\\u043d\\u044b\\u0439\", \"\\u0436\\u0430\\u043b\\u043e\\u0431\\u043d\\u044b\\u0439\", \"\\u0436\\u0434\\u0430\\u0442\\u044c\", \"\\u0436\\u0434\\u0430\\u0442\\u044c\", \"\\u0436\\u0434\\u0430\\u0442\\u044c\", \"\\u0436\\u0434\\u0430\\u0442\\u044c\", \"\\u0436\\u0435\\u043d\\u0449\\u0438\\u043d\\u0430\", \"\\u0436\\u0435\\u043d\\u0449\\u0438\\u043d\\u0430\", \"\\u0436\\u0438\\u043b\\u0438\\u0449\\u043d\\u044b\\u0439\", \"\\u0436\\u0438\\u043b\\u044c\\u0435\", \"\\u0437\\u0430\\u0431\\u043b\\u043e\\u043a\\u0438\\u0440\\u043e\\u0432\\u0430\\u0442\\u044c\", \"\\u0437\\u0430\\u0434\\u043e\\u043b\\u0436\\u0435\\u043d\\u043d\\u043e\\u0441\\u0442\\u044c\", \"\\u0437\\u0430\\u043a\\u043b\\u0430\\u0434\\u043d\\u0430\\u044f\", \"\\u0437\\u0430\\u043a\\u043e\\u043d\", \"\\u0437\\u0430\\u043a\\u043e\\u043d\", \"\\u0437\\u0430\\u043b\", \"\\u0437\\u0430\\u043f\\u043e\\u043b\\u043d\\u044f\\u0442\\u044c\", \"\\u0437\\u0430\\u043f\\u043e\\u043b\\u043d\\u044f\\u0442\\u044c\", \"\\u0437\\u0430\\u043f\\u043e\\u043b\\u043d\\u044f\\u0442\\u044c\", \"\\u0437\\u0430\\u0441\\u0442\\u0440\\u043e\\u0439\\u0449\\u0438\\u043a\", \"\\u0437\\u0430\\u0447\\u0438\\u0441\\u043b\\u0435\\u043d\\u0438\\u0435\", \"\\u0437\\u0430\\u0447\\u0438\\u0441\\u043b\\u0435\\u043d\\u0438\\u0435\", \"\\u0437\\u0430\\u0447\\u0438\\u0441\\u043b\\u044f\\u0442\\u044c\", \"\\u0437\\u0430\\u0447\\u0438\\u0441\\u043b\\u044f\\u0442\\u044c\", \"\\u0437\\u0430\\u044f\\u0432\\u043a\\u0430\", \"\\u0437\\u0430\\u044f\\u0432\\u043a\\u0430\", \"\\u0437\\u0430\\u044f\\u0432\\u043b\\u0435\\u043d\\u0438\\u0435\", \"\\u0437\\u0430\\u044f\\u0432\\u043b\\u0435\\u043d\\u0438\\u0435\", \"\\u0437\\u0430\\u044f\\u0432\\u043b\\u0435\\u043d\\u0438\\u0435\", \"\\u0437\\u0432\\u043e\\u043d\\u0438\\u0442\\u044c\", \"\\u0437\\u0432\\u043e\\u043d\\u0438\\u0442\\u044c\", \"\\u0437\\u0432\\u043e\\u043d\\u0438\\u0442\\u044c\", \"\\u0437\\u0432\\u043e\\u043d\\u0438\\u0442\\u044c\", \"\\u0437\\u0432\\u043e\\u043d\\u043e\\u043a\", \"\\u0437\\u0432\\u043e\\u043d\\u043e\\u043a\", \"\\u0437\\u0432\\u043e\\u043d\\u043e\\u043a\", \"\\u0437\\u043d\\u0430\\u0442\\u044c\", \"\\u0437\\u043d\\u0430\\u0442\\u044c\", \"\\u0437\\u043d\\u0430\\u0442\\u044c\", \"\\u0437\\u043d\\u0430\\u0442\\u044c\", \"\\u0437\\u043d\\u0430\\u0442\\u044c\", \"\\u0438\\u043d\\u0432\\u0435\\u0441\\u0442\\u0438\\u0446\\u0438\\u043e\\u043d\\u043d\\u044b\\u0439\", \"\\u0438\\u043d\\u0442\\u0435\\u0437\", \"\\u0438\\u043d\\u0442\\u0435\\u0440\\u043d\\u0435\\u0442\", \"\\u0438\\u043d\\u0442\\u0435\\u0440\\u043d\\u0435\\u0442\", \"\\u0438\\u043d\\u0442\\u0435\\u0440\\u043d\\u0435\\u0442\", \"\\u0438\\u043f\\u043e\\u0442\\u0435\\u043a\\u0430\", \"\\u0438\\u043f\\u043e\\u0442\\u0435\\u0447\\u043d\\u044b\\u0439\", \"\\u0438\\u0441\\u0442\\u043e\\u0440\\u0438\\u044f\", \"\\u0438\\u0441\\u0442\\u043e\\u0440\\u0438\\u044f\", \"\\u0438\\u0441\\u0442\\u043e\\u0440\\u0438\\u044f\", \"\\u0438\\u0441\\u0442\\u043e\\u0440\\u0438\\u044f\", \"\\u0439\\u043d\", \"\\u043a\\u0430\\u043a\\u043e\\u0439\", \"\\u043a\\u0430\\u043a\\u043e\\u0439\", \"\\u043a\\u0430\\u043a\\u043e\\u0439\", \"\\u043a\\u0430\\u043a\\u043e\\u0439\", \"\\u043a\\u0430\\u043a\\u043e\\u0439\", \"\\u043a\\u0430\\u043f\\u0438\\u0442\\u0430\\u043b\\u0438\\u0437\\u0430\\u0446\\u0438\\u044f\", \"\\u043a\\u0430\\u043f\\u0438\\u0442\\u0430\\u043b\\u0438\\u0437\\u0430\\u0446\\u0438\\u044f\", \"\\u043a\\u0430\\u0440\\u0442\\u0430\", \"\\u043a\\u0430\\u0440\\u0442\\u0430\", \"\\u043a\\u0430\\u0441\\u0441\\u0430\", \"\\u043a\\u0430\\u0441\\u0441\\u0430\", \"\\u043a\\u0430\\u0441\\u0441\\u0430\", \"\\u043a\\u0430\\u0441\\u0441\\u0438\\u0440\", \"\\u043a\\u0430\\u0441\\u0441\\u0438\\u0440\", \"\\u043a\\u0430\\u0441\\u0441\\u0438\\u0440\\u0448\\u0430\", \"\\u043a\\u0430\\u0447\\u0435\\u0441\\u0442\\u0432\\u043e\", \"\\u043a\\u0430\\u0447\\u0435\\u0441\\u0442\\u0432\\u043e\", \"\\u043a\\u0430\\u0447\\u0435\\u0441\\u0442\\u0432\\u043e\", \"\\u043a\\u0430\\u0447\\u0435\\u0441\\u0442\\u0432\\u043e\", \"\\u043a\\u0430\\u0447\\u0435\\u0441\\u0442\\u0432\\u043e\", \"\\u043a\\u0432\\u0430\\u0440\\u0442\\u0438\\u0440\\u0430\", \"\\u043a\\u0432\\u0430\\u0440\\u0442\\u0438\\u0440\\u0430\", \"\\u043a\\u0438\\u0432\\u0438\", \"\\u043a\\u043b\\u0438\\u0435\\u043d\\u0442\", \"\\u043a\\u043b\\u0438\\u0435\\u043d\\u0442\", \"\\u043a\\u043b\\u0438\\u0435\\u043d\\u0442\", \"\\u043a\\u043b\\u0438\\u0435\\u043d\\u0442\", \"\\u043a\\u043b\\u0438\\u0435\\u043d\\u0442\", \"\\u043a\\u043e\\u0434\", \"\\u043a\\u043e\\u0434\", \"\\u043a\\u043e\\u0434\\u043e\\u0432\\u044b\\u0439\", \"\\u043a\\u043e\\u043b\\u043b\\u0435\\u043a\\u0442\\u043e\\u0440\", \"\\u043a\\u043e\\u043b\\u043b\\u0435\\u043a\\u0442\\u043e\\u0440\\u0441\\u043a\\u0438\\u0439\", \"\\u043a\\u043e\\u043c\\u0438\\u0441\\u0441\\u0438\\u044f\", \"\\u043a\\u043e\\u043c\\u0438\\u0441\\u0441\\u0438\\u044f\", \"\\u043a\\u043e\\u043c\\u0438\\u0441\\u0441\\u0438\\u044f\", \"\\u043a\\u043e\\u043f\\u0438\\u044f\", \"\\u043a\\u043e\\u043f\\u0438\\u044f\", \"\\u043a\\u043e\\u043f\\u0438\\u044f\", \"\\u043a\\u043e\\u0442\\u043e\\u0440\\u044b\\u0439\", \"\\u043a\\u043e\\u0442\\u043e\\u0440\\u044b\\u0439\", \"\\u043a\\u043e\\u0442\\u043e\\u0440\\u044b\\u0439\", \"\\u043a\\u043e\\u0442\\u043e\\u0440\\u044b\\u0439\", \"\\u043a\\u043e\\u0442\\u043e\\u0440\\u044b\\u0439\", \"\\u043a\\u043e\\u0448\\u0435\\u043b\\u0435\\u043a\", \"\\u043a\\u0440\\u0430\\u0441\\u043d\\u043e\\u044f\\u0440\\u0441\\u043a\\u0438\\u0439\", \"\\u043a\\u0440\\u0435\\u0434\\u0438\\u0442\", \"\\u043a\\u0440\\u0435\\u0434\\u0438\\u0442\", \"\\u043a\\u0440\\u0435\\u0434\\u0438\\u0442\", \"\\u043a\\u0440\\u0435\\u0434\\u0438\\u0442\", \"\\u043a\\u0440\\u0435\\u0434\\u0438\\u0442\\u043d\\u044b\\u0439\", \"\\u043a\\u0440\\u0435\\u0434\\u0438\\u0442\\u043d\\u044b\\u0439\", \"\\u043a\\u0440\\u0435\\u0434\\u0438\\u0442\\u043d\\u044b\\u0439\", \"\\u043a\\u0440\\u0435\\u0434\\u0438\\u0442\\u043d\\u044b\\u0439\", \"\\u043a\\u0440\\u043e\\u043d\\u0430\", \"\\u043a\\u0441\\u0435\\u0440\\u043e\\u043a\\u043e\\u043f\\u0438\\u044f\", \"\\u043a\\u0441\\u0435\\u0440\\u043e\\u043a\\u043e\\u043f\\u0438\\u044f\", \"\\u043a\\u0443\\u043f\\u043b\\u044f\", \"\\u043b\\u0430\\u0434\\u043d\\u043e\", \"\\u043b\\u0430\\u0434\\u043d\\u043e\", \"\\u043b\\u0430\\u0434\\u043d\\u043e\", \"\\u043b\\u0430\\u0439\\u0444\", \"\\u043b\\u0438\\u043c\\u0438\\u0442\", \"\\u043b\\u0438\\u043c\\u0438\\u0442\", \"\\u043b\\u0438\\u043d\\u0435\\u0439\\u043a\\u0430\", \"\\u043b\\u0438\\u0446\\u043e\", \"\\u043b\\u0438\\u0446\\u043e\", \"\\u043b\\u0438\\u0446\\u043e\", \"\\u043b\\u0438\\u0446\\u043e\", \"\\u043b\\u0438\\u0446\\u043e\", \"\\u043b\\u043e\\u0433\\u0438\\u043d\", \"\\u043c\\u0430\\u043b\\u044c\\u0447\\u0438\\u043a\", \"\\u043c\\u0430\\u0440\\u043a\\u0435\\u0442\\u0438\\u043d\\u0433\\u043e\\u0432\\u044b\\u0439\", \"\\u043c\\u0430\\u0442\\u0435\\u0440\\u0438\\u043d\\u0441\\u043a\\u0438\\u0439\", \"\\u043c\\u0435\\u043d\\u0435\\u0434\\u0436\\u0435\\u0440\", \"\\u043c\\u0435\\u043d\\u0435\\u0434\\u0436\\u0435\\u0440\", \"\\u043c\\u0435\\u043d\\u0435\\u0434\\u0436\\u0435\\u0440\", \"\\u043c\\u0435\\u043d\\u0435\\u0434\\u0436\\u0435\\u0440\", \"\\u043c\\u0435\\u043d\\u044e\", \"\\u043c\\u0435\\u0441\\u044f\\u0446\", \"\\u043c\\u0435\\u0441\\u044f\\u0446\", \"\\u043c\\u0435\\u0441\\u044f\\u0446\", \"\\u043c\\u0435\\u0441\\u044f\\u0446\", \"\\u043c\\u0435\\u0441\\u044f\\u0446\", \"\\u043c\\u0438\\u043b\\u044b\\u0439\", \"\\u043c\\u0438\\u043c\\u043e\", \"\\u043c\\u0438\\u043d\\u0443\\u0442\\u0430\", \"\\u043c\\u0438\\u043d\\u0443\\u0442\\u0430\", \"\\u043c\\u0438\\u043d\\u0443\\u0442\\u0430\", \"\\u043c\\u043e\\u0439\", \"\\u043c\\u043e\\u0439\", \"\\u043c\\u043e\\u0439\", \"\\u043c\\u043e\\u0439\", \"\\u043c\\u043e\\u0439\", \"\\u043c\\u043e\\u043b\\u043e\\u0434\\u043e\\u0439\", \"\\u043c\\u043e\\u043b\\u043e\\u0434\\u043e\\u0439\", \"\\u043c\\u043e\\u043b\\u043e\\u0434\\u043e\\u0439\", \"\\u043c\\u043e\\u043d\\u0435\\u0442\\u0430\", \"\\u043c\\u043e\\u0447\\u044c\", \"\\u043c\\u043e\\u0447\\u044c\", \"\\u043c\\u043e\\u0447\\u044c\", \"\\u043c\\u043e\\u0447\\u044c\", \"\\u043c\\u043e\\u0447\\u044c\", \"\\u043d\\u0430\\u0437\\u0432\\u0430\\u043d\\u0438\\u0432\\u0430\\u0442\\u044c\", \"\\u043d\\u0430\\u043f\\u0438\\u0441\\u0430\\u0442\\u044c\", \"\\u043d\\u0430\\u043f\\u0438\\u0441\\u0430\\u0442\\u044c\", \"\\u043d\\u0430\\u043f\\u0438\\u0441\\u0430\\u0442\\u044c\", \"\\u043d\\u0430\\u043f\\u0438\\u0441\\u0430\\u0442\\u044c\", \"\\u043d\\u0430\\u0440\\u043e\\u0434\", \"\\u043d\\u0430\\u0441\\u043b\\u0435\\u0434\\u0441\\u0442\\u0432\\u043e\", \"\\u043d\\u0434\\u0444\\u043b\", \"\\u043d\\u0435\\u0434\\u0435\\u043b\\u044f\", \"\\u043d\\u0435\\u0434\\u0435\\u043b\\u044f\", \"\\u043d\\u0435\\u0434\\u0435\\u043b\\u044f\", \"\\u043d\\u0435\\u0434\\u0435\\u043b\\u044f\", \"\\u043d\\u0435\\u0441\\u043d\\u0438\\u0436\\u0430\\u0442\\u044c\", \"\\u043d\\u0438\\u0437\\u043a\\u0438\\u0439\", \"\\u043d\\u0438\\u0437\\u043a\\u0438\\u0439\", \"\\u043d\\u0438\\u0437\\u043a\\u0438\\u0439\", \"\\u043d\\u0438\\u0437\\u043a\\u0438\\u0439\", \"\\u043d\\u043e\\u043c\\u0435\\u0440\", \"\\u043d\\u043e\\u043c\\u0435\\u0440\", \"\\u043d\\u043e\\u043c\\u0435\\u0440\", \"\\u043d\\u043e\\u043c\\u0435\\u0440\", \"\\u043d\\u043e\\u0442\\u0430\\u0440\\u0438\\u0430\\u043b\\u044c\\u043d\\u043e\", \"\\u043d\\u043e\\u0442\\u0430\\u0440\\u0438\\u0430\\u043b\\u044c\\u043d\\u044b\\u0439\", \"\\u043d\\u043e\\u0442\\u0430\\u0440\\u0438\\u0443\\u0441\", \"\\u043e\\u0431\\u0435\\u0434\", \"\\u043e\\u0431\\u0435\\u0434\", \"\\u043e\\u0431\\u0435\\u0434\", \"\\u043e\\u0431\\u0440\\u0430\\u0449\\u0430\\u0442\\u044c\\u0441\\u044f\", \"\\u043e\\u0431\\u0440\\u0430\\u0449\\u0430\\u0442\\u044c\\u0441\\u044f\", \"\\u043e\\u0431\\u0440\\u0430\\u0449\\u0430\\u0442\\u044c\\u0441\\u044f\", \"\\u043e\\u0431\\u0440\\u0430\\u0449\\u0430\\u0442\\u044c\\u0441\\u044f\", \"\\u043e\\u0431\\u0440\\u0430\\u0449\\u0430\\u0442\\u044c\\u0441\\u044f\", \"\\u043e\\u0431\\u0440\\u0435\\u043c\\u0435\\u043d\\u0435\\u043d\\u0438\\u0435\", \"\\u043e\\u0431\\u0441\\u043b\\u0443\\u0436\\u0438\\u0432\\u0430\\u043d\\u0438\\u0435\", \"\\u043e\\u0431\\u0441\\u043b\\u0443\\u0436\\u0438\\u0432\\u0430\\u043d\\u0438\\u0435\", \"\\u043e\\u0431\\u0441\\u043b\\u0443\\u0436\\u0438\\u0432\\u0430\\u043d\\u0438\\u0435\", \"\\u043e\\u0431\\u0441\\u043b\\u0443\\u0436\\u0438\\u0432\\u0430\\u0442\\u044c\", \"\\u043e\\u0431\\u0441\\u043b\\u0443\\u0436\\u0438\\u0432\\u0430\\u0442\\u044c\", \"\\u043e\\u0431\\u0441\\u043b\\u0443\\u0436\\u0438\\u0432\\u0430\\u0442\\u044c\", \"\\u043e\\u0431\\u044a\\u0435\\u043a\\u0442\", \"\\u043e\\u0432\\u0430\", \"\\u043e\\u0432\\u0435\\u0440\\u0434\\u0440\\u0430\\u0444\\u0442\", \"\\u043e\\u0432\\u0435\\u0440\\u0434\\u0440\\u0430\\u0444\\u0442\", \"\\u043e\\u0434\\u0438\\u043d\", \"\\u043e\\u0434\\u0438\\u043d\", \"\\u043e\\u0434\\u0438\\u043d\", \"\\u043e\\u0434\\u0438\\u043d\", \"\\u043e\\u0434\\u0438\\u043d\", \"\\u043e\\u0434\\u043e\\u0431\\u0440\\u0435\\u043d\\u0438\\u0435\", \"\\u043e\\u0434\\u043e\\u0431\\u0440\\u044f\\u0442\\u044c\", \"\\u043e\\u0434\\u043e\\u0431\\u0440\\u044f\\u0442\\u044c\", \"\\u043e\\u0434\\u043e\\u0431\\u0440\\u044f\\u0442\\u044c\", \"\\u043e\\u043a\\u043d\\u043e\", \"\\u043e\\u043a\\u043e\\u0448\\u043a\\u043e\", \"\\u043e\\u043d\\u043b\", \"\\u043e\\u043d\\u043b\\u0430\\u0439\\u043d\", \"\\u043e\\u043d\\u043b\\u0430\\u0439\\u043d\", \"\\u043e\\u043d\\u043b\\u0430\\u0439\\u043d\", \"\\u043e\\u043f\\u0435\\u0440\\u0430\\u0442\\u043e\\u0440\", \"\\u043e\\u043f\\u0435\\u0440\\u0430\\u0442\\u043e\\u0440\", \"\\u043e\\u043f\\u0435\\u0440\\u0430\\u0442\\u043e\\u0440\", \"\\u043e\\u043f\\u0435\\u0440\\u0430\\u0442\\u043e\\u0440\", \"\\u043e\\u043f\\u0435\\u0440\\u0430\\u0446\\u0438\\u043e\\u043d\\u0438\\u0441\\u0442\", \"\\u043e\\u043f\\u0435\\u0440\\u0430\\u0446\\u0438\\u043e\\u043d\\u0438\\u0441\\u0442\", \"\\u043e\\u043f\\u0435\\u0440\\u0430\\u0446\\u0438\\u043e\\u043d\\u0438\\u0441\\u0442\", \"\\u043e\\u043f\\u0435\\u0440\\u0430\\u0446\\u0438\\u043e\\u043d\\u0438\\u0441\\u0442\", \"\\u043e\\u043f\\u0435\\u0440\\u0430\\u0446\\u0438\\u043e\\u043d\\u0438\\u0441\\u0442\\u043a\\u0430\", \"\\u043e\\u043f\\u0435\\u0440\\u0430\\u0446\\u0438\\u043e\\u043d\\u0438\\u0441\\u0442\\u043a\\u0430\", \"\\u043e\\u043f\\u0435\\u0440\\u0430\\u0446\\u0438\\u044f\", \"\\u043e\\u043f\\u0435\\u0440\\u0430\\u0446\\u0438\\u044f\", \"\\u043e\\u043f\\u0435\\u0440\\u0430\\u0446\\u0438\\u044f\", \"\\u043e\\u043f\\u043b\\u0430\\u0447\\u0438\\u0432\\u0430\\u0442\\u044c\", \"\\u043e\\u043f\\u043b\\u0430\\u0447\\u0438\\u0432\\u0430\\u0442\\u044c\", \"\\u043e\\u043f\\u043b\\u0430\\u0447\\u0438\\u0432\\u0430\\u0442\\u044c\", \"\\u043e\\u043f\\u0442\\u0438\\u043c\\u0430\\u043b\\u044c\\u043d\\u044b\\u0439\", \"\\u043e\\u0440\\u0438\\u0433\\u0438\\u043d\\u0430\\u043b\", \"\\u043e\\u0441\\u0431\", \"\\u043e\\u0441\\u0432\\u043e\\u0431\\u043e\\u0436\\u0434\\u0430\\u0442\\u044c\\u0441\\u044f\", \"\\u043e\\u0442\\u0432\\u0435\\u0442\", \"\\u043e\\u0442\\u0432\\u0435\\u0442\", \"\\u043e\\u0442\\u0432\\u0435\\u0442\", \"\\u043e\\u0442\\u0432\\u0435\\u0442\", \"\\u043e\\u0442\\u0432\\u0435\\u0442\", \"\\u043e\\u0442\\u0432\\u0435\\u0447\\u0430\\u0442\\u044c\", \"\\u043e\\u0442\\u0432\\u0435\\u0447\\u0430\\u0442\\u044c\", \"\\u043e\\u0442\\u0432\\u0435\\u0447\\u0430\\u0442\\u044c\", \"\\u043e\\u0442\\u0432\\u0435\\u0447\\u0430\\u0442\\u044c\", \"\\u043e\\u0442\\u0434\\u0435\\u043b\\u0435\\u043d\\u0438\\u0435\", \"\\u043e\\u0442\\u0434\\u0435\\u043b\\u0435\\u043d\\u0438\\u0435\", \"\\u043e\\u0442\\u0434\\u0435\\u043b\\u0435\\u043d\\u0438\\u0435\", \"\\u043e\\u0442\\u0434\\u0435\\u043b\\u0435\\u043d\\u0438\\u0435\", \"\\u043e\\u0442\\u0437\\u044b\\u0432\", \"\\u043e\\u0442\\u0437\\u044b\\u0432\", \"\\u043e\\u0442\\u0437\\u044b\\u0432\", \"\\u043e\\u0442\\u0437\\u044b\\u0432\", \"\\u043e\\u0442\\u0437\\u044b\\u0432\", \"\\u043e\\u0442\\u043a\\u0430\\u0437\", \"\\u043e\\u0442\\u043a\\u0430\\u0437\", \"\\u043e\\u0442\\u043a\\u0430\\u0437\", \"\\u043e\\u0442\\u043a\\u0430\\u0437\", \"\\u043e\\u0442\\u043a\\u0440\\u044b\\u0432\\u0430\\u0442\\u044c\", \"\\u043e\\u0442\\u043a\\u0440\\u044b\\u0432\\u0430\\u0442\\u044c\", \"\\u043e\\u0442\\u043a\\u0440\\u044b\\u0432\\u0430\\u0442\\u044c\", \"\\u043e\\u0442\\u043a\\u0440\\u044b\\u0442\\u0438\\u0435\", \"\\u043e\\u0442\\u043a\\u0440\\u044b\\u0442\\u0438\\u0435\", \"\\u043e\\u0442\\u043a\\u0440\\u044b\\u0442\\u0438\\u0435\", \"\\u043e\\u0442\\u043a\\u0440\\u044b\\u0442\\u0438\\u0435\", \"\\u043e\\u0442\\u043c\\u0435\\u0442\\u043a\\u0430\", \"\\u043e\\u0442\\u043f\", \"\\u043e\\u0442\\u043f\\u0440\\u0430\\u0432\\u0438\\u0442\\u0435\\u043b\\u044c\", \"\\u043e\\u0442\\u0441\\u0442\\u043e\\u044f\\u0442\\u044c\", \"\\u043e\\u0444\\u0438\\u0441\", \"\\u043e\\u0444\\u0438\\u0441\", \"\\u043e\\u0444\\u0438\\u0441\", \"\\u043e\\u0444\\u0438\\u0441\", \"\\u043e\\u0444\\u0438\\u0441\", \"\\u043e\\u0444\\u043e\\u0440\\u043c\\u043b\\u044f\\u0442\\u044c\", \"\\u043e\\u0444\\u043e\\u0440\\u043c\\u043b\\u044f\\u0442\\u044c\", \"\\u043e\\u0444\\u043e\\u0440\\u043c\\u043b\\u044f\\u0442\\u044c\", \"\\u043e\\u0444\\u043e\\u0440\\u043c\\u043b\\u044f\\u0442\\u044c\", \"\\u043e\\u0444\\u043e\\u0440\\u043c\\u043b\\u044f\\u0442\\u044c\", \"\\u043e\\u0445\\u0440\\u0430\\u043d\\u0430\", \"\\u043e\\u0445\\u0440\\u0430\\u043d\\u043d\\u0438\\u043a\", \"\\u043e\\u0447\\u0435\\u043d\\u044c\", \"\\u043e\\u0447\\u0435\\u043d\\u044c\", \"\\u043e\\u0447\\u0435\\u043d\\u044c\", \"\\u043e\\u0447\\u0435\\u043d\\u044c\", \"\\u043e\\u0447\\u0435\\u043d\\u044c\", \"\\u043e\\u0447\\u0435\\u0440\\u0435\\u0434\\u044c\", \"\\u043e\\u0447\\u0435\\u0440\\u0435\\u0434\\u044c\", \"\\u043f\\u0430\\u0439\", \"\\u043f\\u0430\\u043b\\u0430\\u0442\\u0430\", \"\\u043f\\u0430\\u0440\\u0435\\u043d\\u044c\", \"\\u043f\\u0430\\u0440\\u043e\\u043b\\u044c\", \"\\u043f\\u0430\\u0441\\u043f\\u043e\\u0440\\u0442\", \"\\u043f\\u0430\\u0441\\u043f\\u043e\\u0440\\u0442\", \"\\u043f\\u0430\\u0441\\u043f\\u043e\\u0440\\u0442\", \"\\u043f\\u0435\\u043d\\u044f\", \"\\u043f\\u0435\\u0440\\u0435\\u0432\\u043e\\u0434\", \"\\u043f\\u0435\\u0440\\u0435\\u0432\\u043e\\u0434\", \"\\u043f\\u0435\\u0440\\u0435\\u0432\\u043e\\u0434\", \"\\u043f\\u0435\\u0440\\u0435\\u0432\\u043e\\u0434\\u0438\\u0442\\u044c\", \"\\u043f\\u0435\\u0440\\u0435\\u0432\\u043e\\u0434\\u0438\\u0442\\u044c\", \"\\u043f\\u0435\\u0440\\u0435\\u0432\\u043e\\u0434\\u0438\\u0442\\u044c\", \"\\u043f\\u0435\\u0440\\u0435\\u0432\\u043e\\u0434\\u0438\\u0442\\u044c\", \"\\u043f\\u0435\\u0440\\u0435\\u0432\\u043e\\u0434\\u0438\\u0442\\u044c\", \"\\u043f\\u0435\\u0440\\u0435\\u0432\\u044b\\u043f\\u0443\\u0441\\u043a\", \"\\u043f\\u0435\\u0440\\u0435\\u0432\\u044b\\u043f\\u0443\\u0441\\u043a\\u0430\\u0442\\u044c\", \"\\u043f\\u0435\\u0440\\u0435\\u0432\\u044b\\u043f\\u0443\\u0449\\u0435\\u043d\\u043d\\u044b\\u0439\", \"\\u043f\\u0435\\u0440\\u0435\\u0434\\u043e\", \"\\u043f\\u0435\\u0440\\u0435\\u0434\\u043e\", \"\\u043f\\u0435\\u0440\\u0435\\u0437\\u0432\\u0430\\u043d\\u0438\\u0432\\u0430\\u0442\\u044c\", \"\\u043f\\u0435\\u0440\\u0435\\u0437\\u0432\\u0430\\u043d\\u0438\\u0432\\u0430\\u0442\\u044c\", \"\\u043f\\u0435\\u0440\\u0435\\u0437\\u0432\\u0430\\u043d\\u0438\\u0432\\u0430\\u0442\\u044c\", \"\\u043f\\u0435\\u0440\\u0435\\u043f\\u043b\\u0430\\u0442\\u0430\", \"\\u043f\\u0435\\u0440\\u0435\\u0440\\u044b\\u0432\", \"\\u043f\\u0438\\u043d\", \"\\u043f\\u0438\\u0444\", \"\\u043f\\u043b\\u0430\\u0442\\u0435\\u0436\", \"\\u043f\\u043b\\u0430\\u0442\\u0435\\u0436\", \"\\u043f\\u043b\\u0430\\u0442\\u0435\\u0436\", \"\\u043f\\u043b\\u0430\\u0442\\u0438\\u0442\\u044c\", \"\\u043f\\u043b\\u0430\\u0442\\u0438\\u0442\\u044c\", \"\\u043f\\u043b\\u0430\\u0442\\u0438\\u0442\\u044c\", \"\\u043f\\u043e\\u0433\\u0430\\u0441\\u0438\\u0442\\u044c\", \"\\u043f\\u043e\\u0433\\u0430\\u0448\\u0430\\u0442\\u044c\", \"\\u043f\\u043e\\u0433\\u0430\\u0448\\u0435\\u043d\\u0438\\u0435\", \"\\u043f\\u043e\\u0434\\u0430\\u0432\\u0430\\u0442\\u044c\", \"\\u043f\\u043e\\u0434\\u0430\\u0432\\u0430\\u0442\\u044c\", \"\\u043f\\u043e\\u0434\\u0430\\u0432\\u0430\\u0442\\u044c\", \"\\u043f\\u043e\\u0434\\u0430\\u0447\\u0430\", \"\\u043f\\u043e\\u0434\\u0430\\u0447\\u0430\", \"\\u043f\\u043e\\u0434\\u0430\\u0447\\u0430\", \"\\u043f\\u043e\\u0434\\u0434\\u0435\\u0440\\u0436\\u043a\\u0430\", \"\\u043f\\u043e\\u0434\\u0434\\u0435\\u0440\\u0436\\u043a\\u0430\", \"\\u043f\\u043e\\u0434\\u0434\\u0435\\u0440\\u0436\\u043a\\u0430\", \"\\u043f\\u043e\\u0434\\u043a\\u043b\\u044e\\u0447\\u0430\\u0442\\u044c\", \"\\u043f\\u043e\\u0434\\u043a\\u043b\\u044e\\u0447\\u0430\\u0442\\u044c\", \"\\u043f\\u043e\\u0434\\u043a\\u043b\\u044e\\u0447\\u0430\\u0442\\u044c\", \"\\u043f\\u043e\\u0434\\u0445\\u043e\\u0434\\u0438\\u0442\\u044c\", \"\\u043f\\u043e\\u0434\\u0445\\u043e\\u0434\\u0438\\u0442\\u044c\", \"\\u043f\\u043e\\u0434\\u0445\\u043e\\u0434\\u0438\\u0442\\u044c\", \"\\u043f\\u043e\\u0437\\u0432\\u043e\\u043d\\u0438\\u0442\\u044c\", \"\\u043f\\u043e\\u0437\\u0432\\u043e\\u043d\\u0438\\u0442\\u044c\", \"\\u043f\\u043e\\u0437\\u0432\\u043e\\u043d\\u0438\\u0442\\u044c\", \"\\u043f\\u043e\\u0437\\u0432\\u043e\\u043d\\u0438\\u0442\\u044c\", \"\\u043f\\u043e\\u043b\\u0443\\u0447\\u0430\\u0442\\u0435\\u043b\\u044c\", \"\\u043f\\u043e\\u043b\\u0443\\u0447\\u0430\\u0442\\u044c\", \"\\u043f\\u043e\\u043b\\u0443\\u0447\\u0430\\u0442\\u044c\", \"\\u043f\\u043e\\u043b\\u0443\\u0447\\u0430\\u0442\\u044c\", \"\\u043f\\u043e\\u043b\\u0443\\u0447\\u0430\\u0442\\u044c\", \"\\u043f\\u043e\\u043b\\u0443\\u0447\\u0430\\u0442\\u044c\", \"\\u043f\\u043e\\u043b\\u0443\\u0447\\u0435\\u043d\\u0438\\u0435\", \"\\u043f\\u043e\\u043b\\u0443\\u0447\\u0435\\u043d\\u0438\\u0435\", \"\\u043f\\u043e\\u043b\\u0443\\u0447\\u0435\\u043d\\u0438\\u0435\", \"\\u043f\\u043e\\u043b\\u0443\\u0447\\u0435\\u043d\\u0438\\u0435\", \"\\u043f\\u043e\\u043b\\u0443\\u0447\\u0435\\u043d\\u0438\\u0435\", \"\\u043f\\u043e\\u043d\\u0438\\u043c\\u0430\\u0442\\u044c\", \"\\u043f\\u043e\\u043d\\u0438\\u043c\\u0430\\u0442\\u044c\", \"\\u043f\\u043e\\u043d\\u0438\\u043c\\u0430\\u0442\\u044c\", \"\\u043f\\u043e\\u043d\\u0438\\u043c\\u0430\\u0442\\u044c\", \"\\u043f\\u043e\\u043d\\u0438\\u043c\\u0430\\u0442\\u044c\", \"\\u043f\\u043e\\u0442\\u0440\\u0435\\u0431\\u0438\\u0442\\u0435\\u043b\\u044c\", \"\\u043f\\u043e\\u0442\\u0440\\u0435\\u0431\\u0438\\u0442\\u0435\\u043b\\u044c\", \"\\u043f\\u0440\\u0430\\u0432\\u043e\", \"\\u043f\\u0440\\u0430\\u0432\\u043e\", \"\\u043f\\u0440\\u0430\\u0432\\u043e\", \"\\u043f\\u0440\\u0430\\u0432\\u043e\", \"\\u043f\\u0440\\u0430\\u0432\\u043e\", \"\\u043f\\u0440\\u0435\\u0434\\u043b\\u043e\\u0436\\u0435\\u043d\\u0438\\u0435\", \"\\u043f\\u0440\\u0435\\u0434\\u043b\\u043e\\u0436\\u0435\\u043d\\u0438\\u0435\", \"\\u043f\\u0440\\u0435\\u0434\\u043b\\u043e\\u0436\\u0435\\u043d\\u0438\\u0435\", \"\\u043f\\u0440\\u0435\\u0434\\u043b\\u043e\\u0436\\u0435\\u043d\\u0438\\u0435\", \"\\u043f\\u0440\\u0435\\u0434\\u043e\\u0441\\u0442\\u0430\\u0432\\u043b\\u044f\\u0442\\u044c\", \"\\u043f\\u0440\\u0435\\u0434\\u043e\\u0441\\u0442\\u0430\\u0432\\u043b\\u044f\\u0442\\u044c\", \"\\u043f\\u0440\\u0435\\u0434\\u043e\\u0441\\u0442\\u0430\\u0432\\u043b\\u044f\\u0442\\u044c\", \"\\u043f\\u0440\\u0435\\u0434\\u043e\\u0441\\u0442\\u0430\\u0432\\u043b\\u044f\\u0442\\u044c\", \"\\u043f\\u0440\\u0435\\u0438\\u043c\\u0443\\u0449\\u0435\\u0441\\u0442\\u0432\\u043e\", \"\\u043f\\u0440\\u0435\\u0442\\u0435\\u043d\\u0437\\u0438\\u044f\", \"\\u043f\\u0440\\u0435\\u0442\\u0435\\u043d\\u0437\\u0438\\u044f\", \"\\u043f\\u0440\\u0435\\u0442\\u0435\\u043d\\u0437\\u0438\\u044f\", \"\\u043f\\u0440\\u0438\\u0432\\u043b\\u0435\\u043a\\u0430\\u0442\\u0435\\u043b\\u044c\\u043d\\u044b\\u0439\", \"\\u043f\\u0440\\u0438\\u0432\\u044f\\u0437\\u044b\\u0432\\u0430\\u0442\\u044c\", \"\\u043f\\u0440\\u0438\\u0435\\u0437\\u0436\\u0430\\u0442\\u044c\", \"\\u043f\\u0440\\u0438\\u0435\\u0437\\u0436\\u0430\\u0442\\u044c\", \"\\u043f\\u0440\\u0438\\u0435\\u0437\\u0436\\u0430\\u0442\\u044c\", \"\\u043f\\u0440\\u0438\\u0435\\u0437\\u0436\\u0430\\u0442\\u044c\", \"\\u043f\\u0440\\u0438\\u0437\", \"\\u043f\\u0440\\u0438\\u043c\\u0435\\u0440\", \"\\u043f\\u0440\\u0438\\u043c\\u0435\\u0440\", \"\\u043f\\u0440\\u0438\\u043c\\u0435\\u0440\", \"\\u043f\\u0440\\u0438\\u043c\\u0435\\u0440\", \"\\u043f\\u0440\\u0438\\u043d\\u0438\\u043c\\u0430\\u0442\\u044c\", \"\\u043f\\u0440\\u0438\\u043d\\u0438\\u043c\\u0430\\u0442\\u044c\", \"\\u043f\\u0440\\u0438\\u043d\\u0438\\u043c\\u0430\\u0442\\u044c\", \"\\u043f\\u0440\\u0438\\u043d\\u0438\\u043c\\u0430\\u0442\\u044c\", \"\\u043f\\u0440\\u0438\\u0441\\u0435\\u0434\\u0430\\u0442\\u044c\", \"\\u043f\\u0440\\u0438\\u0441\\u0442\\u0430\\u0432\", \"\\u043f\\u0440\\u0438\\u0445\\u043e\\u0434\\u0438\\u0442\\u044c\", \"\\u043f\\u0440\\u0438\\u0445\\u043e\\u0434\\u0438\\u0442\\u044c\", \"\\u043f\\u0440\\u0438\\u0445\\u043e\\u0434\\u0438\\u0442\\u044c\", \"\\u043f\\u0440\\u0438\\u0445\\u043e\\u0434\\u0438\\u0442\\u044c\", \"\\u043f\\u0440\\u043e\\u0431\\u043a\\u0430\", \"\\u043f\\u0440\\u043e\\u0431\\u043b\\u0435\\u043c\\u0430\", \"\\u043f\\u0440\\u043e\\u0431\\u043b\\u0435\\u043c\\u0430\", \"\\u043f\\u0440\\u043e\\u0431\\u043b\\u0435\\u043c\\u0430\", \"\\u043f\\u0440\\u043e\\u0431\\u043b\\u0435\\u043c\\u0430\", \"\\u043f\\u0440\\u043e\\u0431\\u043b\\u0435\\u043c\\u0430\", \"\\u043f\\u0440\\u043e\\u0434\\u0443\\u043a\\u0442\", \"\\u043f\\u0440\\u043e\\u0434\\u0443\\u043a\\u0442\", \"\\u043f\\u0440\\u043e\\u0434\\u0443\\u043a\\u0442\", \"\\u043f\\u0440\\u043e\\u0434\\u0443\\u043a\\u0442\", \"\\u043f\\u0440\\u043e\\u0434\\u0443\\u043a\\u0442\", \"\\u043f\\u0440\\u043e\\u043b\\u043e\\u043d\\u0433\\u0430\\u0446\\u0438\\u044f\", \"\\u043f\\u0440\\u043e\\u043b\\u043e\\u043d\\u0433\\u0430\\u0446\\u0438\\u044f\", \"\\u043f\\u0440\\u043e\\u043b\\u043e\\u043d\\u0433\\u0430\\u0446\\u0438\\u044f\", \"\\u043f\\u0440\\u043e\\u0441\\u0438\\u0436\\u0438\\u0432\\u0430\\u0442\\u044c\", \"\\u043f\\u0440\\u043e\\u0441\\u0440\\u043e\\u0447\\u0438\\u0432\\u0430\\u0442\\u044c\", \"\\u043f\\u0440\\u043e\\u0441\\u0440\\u043e\\u0447\\u043a\\u0430\", \"\\u043f\\u0440\\u043e\\u0441\\u0442\\u0430\\u0438\\u0432\\u0430\\u0442\\u044c\", \"\\u043f\\u0440\\u043e\\u0441\\u0442\\u043e\", \"\\u043f\\u0440\\u043e\\u0441\\u0442\\u043e\", \"\\u043f\\u0440\\u043e\\u0441\\u0442\\u043e\", \"\\u043f\\u0440\\u043e\\u0441\\u0442\\u043e\", \"\\u043f\\u0440\\u043e\\u0441\\u0442\\u043e\", \"\\u043f\\u0440\\u043e\\u0446\\u0432\\u0435\\u0442\\u0430\\u043d\\u0438\\u0435\", \"\\u043f\\u0440\\u043e\\u0446\\u0435\\u043d\\u0442\", \"\\u043f\\u0440\\u043e\\u0446\\u0435\\u043d\\u0442\", \"\\u043f\\u0440\\u043e\\u0446\\u0435\\u043d\\u0442\", \"\\u043f\\u0440\\u043e\\u0446\\u0435\\u043d\\u0442\", \"\\u043f\\u0442\\u0441\", \"\\u0440\\u0430\\u0431\\u043e\\u0442\\u0430\", \"\\u0440\\u0430\\u0431\\u043e\\u0442\\u0430\", \"\\u0440\\u0430\\u0431\\u043e\\u0442\\u0430\", \"\\u0440\\u0430\\u0431\\u043e\\u0442\\u0430\", \"\\u0440\\u0430\\u0431\\u043e\\u0442\\u0430\", \"\\u0440\\u0430\\u0431\\u043e\\u0442\\u0430\\u0442\\u044c\", \"\\u0440\\u0430\\u0431\\u043e\\u0442\\u0430\\u0442\\u044c\", \"\\u0440\\u0430\\u0431\\u043e\\u0442\\u0430\\u0442\\u044c\", \"\\u0440\\u0430\\u0431\\u043e\\u0442\\u0430\\u0442\\u044c\", \"\\u0440\\u0430\\u0431\\u043e\\u0442\\u0430\\u0442\\u044c\", \"\\u0440\\u0430\\u0437\\u0431\\u043b\\u043e\\u043a\\u0438\\u0440\\u043e\\u0432\\u0430\\u0442\\u044c\", \"\\u0440\\u0430\\u0437\\u0431\\u043b\\u043e\\u043a\\u0438\\u0440\\u043e\\u0432\\u043a\\u0430\", \"\\u0440\\u0430\\u0437\\u043c\\u0435\\u0449\\u0430\\u0442\\u044c\", \"\\u0440\\u0430\\u0437\\u043c\\u0435\\u0449\\u0430\\u0442\\u044c\", \"\\u0440\\u0430\\u0437\\u043c\\u0435\\u0449\\u0430\\u0442\\u044c\", \"\\u0440\\u0430\\u0437\\u043c\\u0435\\u0449\\u0430\\u0442\\u044c\", \"\\u0440\\u0430\\u0437\\u043c\\u0435\\u0449\\u0430\\u0442\\u044c\", \"\\u0440\\u0430\\u0437\\u043c\\u0435\\u0449\\u0435\\u043d\\u0438\\u0435\", \"\\u0440\\u0430\\u0441\\u0441\\u043c\\u043e\\u0442\\u0440\\u0435\\u043d\\u0438\\u0435\", \"\\u0440\\u0430\\u0441\\u0441\\u043c\\u043e\\u0442\\u0440\\u0435\\u043d\\u0438\\u0435\", \"\\u0440\\u0430\\u0441\\u0441\\u043c\\u043e\\u0442\\u0440\\u0435\\u043d\\u0438\\u0435\", \"\\u0440\\u0431\\u0440\", \"\\u0440\\u0435\\u0433\\u0438\\u0441\\u0442\\u0440\\u0430\\u0446\\u0438\\u043e\\u043d\\u043d\\u044b\\u0439\", \"\\u0440\\u0435\\u0433\\u0438\\u0441\\u0442\\u0440\\u0430\\u0446\\u0438\\u044f\", \"\\u0440\\u0435\\u0433\\u0438\\u0441\\u0442\\u0440\\u0430\\u0446\\u0438\\u044f\", \"\\u0440\\u0435\\u0433\\u0438\\u0441\\u0442\\u0440\\u0430\\u0446\\u0438\\u044f\", \"\\u0440\\u0435\\u0433\\u0438\\u0441\\u0442\\u0440\\u0430\\u0446\\u0438\\u044f\", \"\\u0440\\u0435\\u0448\\u0430\\u0442\\u044c\", \"\\u0440\\u0435\\u0448\\u0430\\u0442\\u044c\", \"\\u0440\\u0435\\u0448\\u0430\\u0442\\u044c\", \"\\u0440\\u0435\\u0448\\u0430\\u0442\\u044c\", \"\\u0440\\u0435\\u0448\\u0430\\u0442\\u044c\", \"\\u0440\\u0435\\u0448\\u0435\\u043d\\u0438\\u0435\", \"\\u0440\\u0435\\u0448\\u0435\\u043d\\u0438\\u0435\", \"\\u0440\\u0435\\u0448\\u0435\\u043d\\u0438\\u0435\", \"\\u0440\\u0435\\u0448\\u0435\\u043d\\u0438\\u0435\", \"\\u0440\\u0438\\u044d\\u043b\\u0442\\u043e\\u0440\", \"\\u0440\\u043e\\u0441\\u0435\\u0432\\u0440\\u043e\\u0431\\u0430\\u043d\\u043a\", \"\\u0440\\u0443\\u0431\", \"\\u0440\\u0443\\u0431\", \"\\u0440\\u0443\\u0431\\u043b\\u044c\", \"\\u0440\\u0443\\u0431\\u043b\\u044c\", \"\\u0440\\u0443\\u0431\\u043b\\u044c\", \"\\u0440\\u0443\\u0431\\u043b\\u044c\", \"\\u0441\\u0430\\u0434\\u0438\\u0442\\u044c\\u0441\\u044f\", \"\\u0441\\u0430\\u0439\\u0442\", \"\\u0441\\u0430\\u0439\\u0442\", \"\\u0441\\u0430\\u0439\\u0442\", \"\\u0441\\u0430\\u0439\\u0442\", \"\\u0441\\u0430\\u0439\\u0442\", \"\\u0441\\u0431\\u0435\\u0440\\u0431\\u0430\\u043d\\u043a\", \"\\u0441\\u0431\\u0435\\u0440\\u0431\\u0430\\u043d\\u043a\", \"\\u0441\\u0431\\u0435\\u0440\\u0431\\u0430\\u043d\\u043a\", \"\\u0441\\u0431\\u043e\\u0439\", \"\\u0441\\u0431\\u043e\\u0439\", \"\\u0441\\u0431\\u043e\\u0439\", \"\\u0441\\u0432\\u0438\\u0434\\u0435\\u0442\\u0435\\u043b\\u044c\\u0441\\u0442\\u0432\\u043e\", \"\\u0441\\u0432\\u043e\\u0439\", \"\\u0441\\u0432\\u043e\\u0439\", \"\\u0441\\u0432\\u043e\\u0439\", \"\\u0441\\u0432\\u043e\\u0439\", \"\\u0441\\u0432\\u043e\\u0439\", \"\\u0441\\u0434\\u0435\\u043b\\u043a\\u0430\", \"\\u0441\\u0434\\u0435\\u043b\\u043a\\u0430\", \"\\u0441\\u0438\\u0434\\u0435\\u0442\\u044c\", \"\\u0441\\u0438\\u0441\\u0442\\u0435\\u043c\\u0430\", \"\\u0441\\u0438\\u0441\\u0442\\u0435\\u043c\\u0430\", \"\\u0441\\u0438\\u0441\\u0442\\u0435\\u043c\\u0430\", \"\\u0441\\u0438\\u0441\\u0442\\u0435\\u043c\\u0430\", \"\\u0441\\u0438\\u0441\\u0442\\u0435\\u043c\\u0430\", \"\\u0441\\u0438\\u0442\\u0438\\u0444\\u043e\\u043d\", \"\\u0441\\u043a\\u0430\\u0437\\u0430\\u0442\\u044c\", \"\\u0441\\u043a\\u0430\\u0437\\u0430\\u0442\\u044c\", \"\\u0441\\u043a\\u0430\\u0437\\u0430\\u0442\\u044c\", \"\\u0441\\u043a\\u0430\\u0437\\u0430\\u0442\\u044c\", \"\\u0441\\u043b\\u0443\\u0436\\u0431\\u0430\", \"\\u0441\\u043b\\u0443\\u0436\\u0431\\u0430\", \"\\u0441\\u043b\\u0443\\u0436\\u0431\\u0430\", \"\\u0441\\u043b\\u0443\\u0436\\u0431\\u0430\", \"\\u0441\\u043c\\u043f\", \"\\u0441\\u043c\\u0441\", \"\\u0441\\u043c\\u0441\", \"\\u0441\\u043c\\u0441\", \"\\u0441\\u043d\\u0438\\u043c\\u0430\\u0442\\u044c\", \"\\u0441\\u043d\\u0438\\u043c\\u0430\\u0442\\u044c\", \"\\u0441\\u043d\\u0438\\u043c\\u0430\\u0442\\u044c\", \"\\u0441\\u043e\\u0431\\u0441\\u0442\\u0432\\u0435\\u043d\\u043d\\u043e\\u0441\\u0442\\u044c\", \"\\u0441\\u043e\\u0431\\u0441\\u0442\\u0432\\u0435\\u043d\\u043d\\u043e\\u0441\\u0442\\u044c\", \"\\u0441\\u043e\\u043e\\u0431\\u0449\\u0430\\u0442\\u044c\", \"\\u0441\\u043e\\u043e\\u0431\\u0449\\u0430\\u0442\\u044c\", \"\\u0441\\u043e\\u043e\\u0431\\u0449\\u0430\\u0442\\u044c\", \"\\u0441\\u043e\\u043e\\u0431\\u0449\\u0430\\u0442\\u044c\", \"\\u0441\\u043e\\u0441\\u0435\\u0434\\u043d\\u0438\\u0439\", \"\\u0441\\u043e\\u0441\\u0435\\u0434\\u043d\\u0438\\u0439\", \"\\u0441\\u043e\\u0442\\u0440\\u0443\\u0434\\u043d\\u0438\\u043a\", \"\\u0441\\u043e\\u0442\\u0440\\u0443\\u0434\\u043d\\u0438\\u043a\", \"\\u0441\\u043e\\u0442\\u0440\\u0443\\u0434\\u043d\\u0438\\u043a\", \"\\u0441\\u043e\\u0442\\u0440\\u0443\\u0434\\u043d\\u0438\\u043a\", \"\\u0441\\u043e\\u0442\\u0440\\u0443\\u0434\\u043d\\u0438\\u043a\", \"\\u0441\\u043e\\u0442\\u0440\\u0443\\u0434\\u043d\\u0438\\u0447\\u0435\\u0441\\u0442\\u0432\\u043e\", \"\\u0441\\u043e\\u0442\\u0440\\u0443\\u0434\\u043d\\u0438\\u0447\\u0435\\u0441\\u0442\\u0432\\u043e\", \"\\u0441\\u043e\\u0442\\u0440\\u0443\\u0434\\u043d\\u0438\\u0447\\u0435\\u0441\\u0442\\u0432\\u043e\", \"\\u0441\\u043e\\u0442\\u0440\\u0443\\u0434\\u043d\\u0438\\u0447\\u0435\\u0441\\u0442\\u0432\\u043e\", \"\\u0441\\u043f\\u0435\\u0446\\u0438\\u0430\\u043b\\u0438\\u0441\\u0442\", \"\\u0441\\u043f\\u0435\\u0446\\u0438\\u0430\\u043b\\u0438\\u0441\\u0442\", \"\\u0441\\u043f\\u0435\\u0446\\u0438\\u0430\\u043b\\u0438\\u0441\\u0442\", \"\\u0441\\u043f\\u0435\\u0446\\u0438\\u0430\\u043b\\u0438\\u0441\\u0442\", \"\\u0441\\u043f\\u0435\\u0446\\u0438\\u0430\\u043b\\u0438\\u0441\\u0442\", \"\\u0441\\u043f\\u0438\\u0441\\u044b\\u0432\\u0430\\u0442\\u044c\", \"\\u0441\\u043f\\u0438\\u0441\\u044b\\u0432\\u0430\\u0442\\u044c\", \"\\u0441\\u043f\\u0440\\u0430\\u0432\\u043a\\u0430\", \"\\u0441\\u043f\\u0440\\u0430\\u0432\\u043a\\u0430\", \"\\u0441\\u043f\\u0440\\u0430\\u0448\\u0438\\u0432\\u0430\\u0442\\u044c\", \"\\u0441\\u043f\\u0440\\u0430\\u0448\\u0438\\u0432\\u0430\\u0442\\u044c\", \"\\u0441\\u043f\\u0440\\u0430\\u0448\\u0438\\u0432\\u0430\\u0442\\u044c\", \"\\u0441\\u043f\\u0440\\u0430\\u0448\\u0438\\u0432\\u0430\\u0442\\u044c\", \"\\u0441\\u0440\\u0435\\u0434\\u0441\\u0442\\u0432\\u043e\", \"\\u0441\\u0440\\u0435\\u0434\\u0441\\u0442\\u0432\\u043e\", \"\\u0441\\u0440\\u0435\\u0434\\u0441\\u0442\\u0432\\u043e\", \"\\u0441\\u0440\\u0435\\u0434\\u0441\\u0442\\u0432\\u043e\", \"\\u0441\\u0440\\u043e\\u043a\", \"\\u0441\\u0440\\u043e\\u043a\", \"\\u0441\\u0440\\u043e\\u043a\", \"\\u0441\\u0440\\u043e\\u043a\", \"\\u0441\\u0442\\u0430\\u0432\\u043a\\u0430\", \"\\u0441\\u0442\\u0430\\u0432\\u043a\\u0430\", \"\\u0441\\u0442\\u0430\\u0432\\u043a\\u0430\", \"\\u0441\\u0442\\u043e\\u0439\\u043a\\u0430\", \"\\u0441\\u0442\\u043e\\u044f\\u0442\\u044c\", \"\\u0441\\u0442\\u043e\\u044f\\u0442\\u044c\", \"\\u0441\\u0442\\u043e\\u044f\\u0442\\u044c\", \"\\u0441\\u0442\\u043e\\u044f\\u0442\\u044c\", \"\\u0441\\u0442\\u043e\\u044f\\u0442\\u044c\", \"\\u0441\\u0442\\u0440\\u0430\\u0445\\u043e\\u0432\\u0430\\u043d\\u0438\\u0435\", \"\\u0441\\u0442\\u0440\\u0430\\u0445\\u043e\\u0432\\u0430\\u043d\\u0438\\u0435\", \"\\u0441\\u0442\\u0440\\u0430\\u0445\\u043e\\u0432\\u0430\\u043d\\u0438\\u0435\", \"\\u0441\\u0442\\u0440\\u0430\\u0445\\u043e\\u0432\\u043a\\u0430\", \"\\u0441\\u0442\\u0440\\u0430\\u0445\\u043e\\u0432\\u043e\\u0439\", \"\\u0441\\u0442\\u0440\\u0430\\u0445\\u043e\\u0432\\u043e\\u0439\", \"\\u0441\\u0442\\u0443\\u043b\", \"\\u0441\\u0443\\u0434\", \"\\u0441\\u0443\\u0434\", \"\\u0441\\u0443\\u0434\\u0435\\u0431\\u043d\\u044b\\u0439\", \"\\u0441\\u0443\\u043c\\u043c\\u0430\", \"\\u0441\\u0443\\u043c\\u043c\\u0430\", \"\\u0441\\u0443\\u043c\\u043c\\u0430\", \"\\u0441\\u0443\\u043c\\u043c\\u0430\", \"\\u0441\\u0443\\u043c\\u043c\\u0430\", \"\\u0441\\u0447\\u0435\\u0442\", \"\\u0441\\u0447\\u0435\\u0442\", \"\\u0441\\u0447\\u0435\\u0442\", \"\\u0441\\u0447\\u0435\\u0442\", \"\\u0441\\u044a\\u0435\\u0434\\u0430\\u0442\\u044c\", \"\\u0442\\u0430\\u0431\\u043b\\u0438\\u0447\\u043a\\u0430\", \"\\u0442\\u0430\\u0431\\u043b\\u043e\", \"\\u0442\\u0430\\u043a\\u043e\\u0439\", \"\\u0442\\u0430\\u043a\\u043e\\u0439\", \"\\u0442\\u0430\\u043a\\u043e\\u0439\", \"\\u0442\\u0430\\u043a\\u043e\\u0439\", \"\\u0442\\u0430\\u043a\\u043e\\u0439\", \"\\u0442\\u0430\\u043b\\u043e\\u043d\\u0447\\u0438\\u043a\", \"\\u0442\\u0430\\u0440\\u0438\\u0444\", \"\\u0442\\u0430\\u0440\\u0438\\u0444\", \"\\u0442\\u0430\\u0440\\u0438\\u0444\\u043d\\u044b\\u0439\", \"\\u0442\\u0430\\u0440\\u0438\\u0444\\u043d\\u044b\\u0439\", \"\\u0442\\u0435\\u043b\\u0435\\u0444\\u043e\\u043d\", \"\\u0442\\u0435\\u043b\\u0435\\u0444\\u043e\\u043d\", \"\\u0442\\u0435\\u043b\\u0435\\u0444\\u043e\\u043d\", \"\\u0442\\u0435\\u043b\\u0435\\u0444\\u043e\\u043d\", \"\\u0442\\u0435\\u0440\\u043c\\u0438\\u043d\\u0430\\u043b\", \"\\u0442\\u0435\\u0440\\u043c\\u0438\\u043d\\u0430\\u043b\", \"\\u0442\\u0435\\u0445\\u043d\\u0438\\u0447\\u0435\\u0441\\u043a\\u0438\\u0439\", \"\\u0442\\u0435\\u0445\\u043d\\u0438\\u0447\\u0435\\u0441\\u043a\\u0438\\u0439\", \"\\u0442\\u0435\\u0445\\u043d\\u0438\\u0447\\u0435\\u0441\\u043a\\u0438\\u0439\", \"\\u0442\\u0435\\u0445\\u043d\\u0438\\u0447\\u0435\\u0441\\u043a\\u0438\\u0439\", \"\\u0442\\u0435\\u0445\\u043f\\u043e\\u0434\\u0434\\u0435\\u0440\\u0436\\u043a\\u0430\", \"\\u0442\\u043a\\u0441\", \"\\u0442\\u043a\\u0441\", \"\\u0442\\u043e\\u043a\\u0435\\u043d\", \"\\u0442\\u0440\\u0430\\u043d\\u0437\\u0430\\u043a\\u0446\\u0438\\u044f\", \"\\u0442\\u0440\\u0443\\u0434\\u043e\\u0432\\u043e\\u0439\", \"\\u0442\\u0440\\u0443\\u0434\\u043e\\u0432\\u043e\\u0439\", \"\\u0442\\u0443\\u0434\\u0430\", \"\\u0442\\u0443\\u0434\\u0430\", \"\\u0442\\u0443\\u0434\\u0430\", \"\\u0442\\u0443\\u0434\\u0430\", \"\\u0443\\u0433\\u0440\\u043e\\u0436\\u0430\\u0442\\u044c\", \"\\u0443\\u0433\\u0440\\u043e\\u0437\\u0430\", \"\\u0443\\u0434\\u043e\\u0431\\u043d\\u044b\\u0439\", \"\\u0443\\u0434\\u043e\\u0431\\u043d\\u044b\\u0439\", \"\\u0443\\u0434\\u043e\\u0431\\u043d\\u044b\\u0439\", \"\\u0443\\u0434\\u043e\\u0431\\u043d\\u044b\\u0439\", \"\\u0443\\u0434\\u043e\\u0441\\u0442\\u043e\\u0432\\u0435\\u0440\\u0435\\u043d\\u0438\\u0435\", \"\\u0443\\u0434\\u043e\\u0441\\u0442\\u043e\\u0432\\u0435\\u0440\\u0435\\u043d\\u0438\\u0435\", \"\\u0443\\u043b\\u044b\\u0431\\u0430\\u0442\\u044c\\u0441\\u044f\", \"\\u0443\\u0440\\u043e\\u0432\\u0435\\u043d\\u044c\", \"\\u0443\\u0440\\u043e\\u0432\\u0435\\u043d\\u044c\", \"\\u0443\\u0440\\u043e\\u0432\\u0435\\u043d\\u044c\", \"\\u0443\\u0440\\u043e\\u0432\\u0435\\u043d\\u044c\", \"\\u0443\\u0441\\u043b\\u043e\\u0432\\u0438\\u0435\", \"\\u0443\\u0441\\u043b\\u043e\\u0432\\u0438\\u0435\", \"\\u0443\\u0441\\u043b\\u043e\\u0432\\u0438\\u0435\", \"\\u0443\\u0441\\u043b\\u0443\\u0433\\u0430\", \"\\u0443\\u0441\\u043b\\u0443\\u0433\\u0430\", \"\\u0443\\u0441\\u043b\\u0443\\u0433\\u0430\", \"\\u0443\\u0441\\u0442\\u0440\\u043e\\u0439\\u0441\\u0442\\u0432\\u043e\", \"\\u0443\\u0445\\u043e\\u0434\\u0438\\u0442\\u044c\", \"\\u0443\\u0445\\u043e\\u0434\\u0438\\u0442\\u044c\", \"\\u0443\\u0445\\u043e\\u0434\\u0438\\u0442\\u044c\", \"\\u0443\\u0445\\u043e\\u0434\\u0438\\u0442\\u044c\", \"\\u0444\\u0438\\u0437\\u0438\\u0447\\u0435\\u0441\\u043a\\u0438\\u0439\", \"\\u0444\\u0438\\u0437\\u0438\\u0447\\u0435\\u0441\\u043a\\u0438\\u0439\", \"\\u0444\\u0438\\u0437\\u0438\\u0447\\u0435\\u0441\\u043a\\u0438\\u0439\", \"\\u0444\\u0438\\u0437\\u0438\\u0447\\u0435\\u0441\\u043a\\u0438\\u0439\", \"\\u0444\\u0438\\u0437\\u0438\\u0447\\u0435\\u0441\\u043a\\u0438\\u0439\", \"\\u0444\\u0438\\u043d\\u0430\\u043d\\u0441\\u0438\\u0440\\u043e\\u0432\\u0430\\u043d\\u0438\\u0435\", \"\\u0445\\u043e\\u0440\\u043e\\u0448\\u0438\\u0439\", \"\\u0445\\u043e\\u0440\\u043e\\u0448\\u0438\\u0439\", \"\\u0445\\u043e\\u0440\\u043e\\u0448\\u0438\\u0439\", \"\\u0445\\u043e\\u0440\\u043e\\u0448\\u0438\\u0439\", \"\\u0445\\u043e\\u0442\\u0435\\u0442\\u044c\", \"\\u0445\\u043e\\u0442\\u0435\\u0442\\u044c\", \"\\u0445\\u043e\\u0442\\u0435\\u0442\\u044c\", \"\\u0445\\u043e\\u0442\\u0435\\u0442\\u044c\", \"\\u0445\\u043e\\u0442\\u0435\\u0442\\u044c\", \"\\u0446\\u0435\\u043d\\u0442\\u0440\", \"\\u0446\\u0435\\u043d\\u0442\\u0440\", \"\\u0446\\u0435\\u043d\\u0442\\u0440\", \"\\u0446\\u0435\\u043d\\u0442\\u0440\", \"\\u0446\\u0435\\u043d\\u0442\\u0440\", \"\\u0447\\u0430\\u0441\", \"\\u0447\\u0430\\u0441\", \"\\u0447\\u0430\\u0441\", \"\\u0447\\u0430\\u0441\", \"\\u0447\\u0435\\u043a\", \"\\u0447\\u0435\\u043a\", \"\\u0447\\u0435\\u043a\\u0430\", \"\\u0447\\u0435\\u043b\\u043e\\u0432\\u0435\\u043a\", \"\\u0447\\u0435\\u043b\\u043e\\u0432\\u0435\\u043a\", \"\\u0447\\u0435\\u043b\\u043e\\u0432\\u0435\\u043a\", \"\\u0447\\u0435\\u043b\\u043e\\u0432\\u0435\\u043a\", \"\\u0447\\u0435\\u043b\\u043e\\u0432\\u0435\\u043a\", \"\\u0448\\u0442\\u0440\\u0430\\u0444\", \"\\u0448\\u0442\\u0440\\u0430\\u0444\\u043d\\u043e\\u0439\", \"\\u044d\\u043a\\u0432\\u0430\\u0439\\u0440\\u0438\\u043d\\u0433\", \"\\u044f\\u0432\\u043b\\u044f\\u0442\\u044c\\u0441\\u044f\", \"\\u044f\\u0432\\u043b\\u044f\\u0442\\u044c\\u0441\\u044f\", \"\\u044f\\u0432\\u043b\\u044f\\u0442\\u044c\\u0441\\u044f\", \"\\u044f\\u0432\\u043b\\u044f\\u0442\\u044c\\u0441\\u044f\", \"\\u044f\\u0432\\u043b\\u044f\\u0442\\u044c\\u0441\\u044f\", \"\\u044f\\u043d\\u0434\\u0435\\u043a\\u0441\"]}, \"R\": 30, \"lambda.step\": 0.01, \"plot.opts\": {\"xlab\": \"PC1\", \"ylab\": \"PC2\"}, \"topic.order\": [4, 3, 2, 1, 5]};\n",
       "\n",
       "function LDAvis_load_lib(url, callback){\n",
       "  var s = document.createElement('script');\n",
       "  s.src = url;\n",
       "  s.async = true;\n",
       "  s.onreadystatechange = s.onload = callback;\n",
       "  s.onerror = function(){console.warn(\"failed to load library \" + url);};\n",
       "  document.getElementsByTagName(\"head\")[0].appendChild(s);\n",
       "}\n",
       "\n",
       "if(typeof(LDAvis) !== \"undefined\"){\n",
       "   // already loaded: just create the visualization\n",
       "   !function(LDAvis){\n",
       "       new LDAvis(\"#\" + \"ldavis_el9451175649773442349214596\", ldavis_el9451175649773442349214596_data);\n",
       "   }(LDAvis);\n",
       "}else if(typeof define === \"function\" && define.amd){\n",
       "   // require.js is available: use it to load d3/LDAvis\n",
       "   require.config({paths: {d3: \"https://cdnjs.cloudflare.com/ajax/libs/d3/3.5.5/d3.min\"}});\n",
       "   require([\"d3\"], function(d3){\n",
       "      window.d3 = d3;\n",
       "      LDAvis_load_lib(\"https://cdn.rawgit.com/bmabey/pyLDAvis/files/ldavis.v1.0.0.js\", function(){\n",
       "        new LDAvis(\"#\" + \"ldavis_el9451175649773442349214596\", ldavis_el9451175649773442349214596_data);\n",
       "      });\n",
       "    });\n",
       "}else{\n",
       "    // require.js not available: dynamically load d3 & LDAvis\n",
       "    LDAvis_load_lib(\"https://cdnjs.cloudflare.com/ajax/libs/d3/3.5.5/d3.min.js\", function(){\n",
       "         LDAvis_load_lib(\"https://cdn.rawgit.com/bmabey/pyLDAvis/files/ldavis.v1.0.0.js\", function(){\n",
       "                 new LDAvis(\"#\" + \"ldavis_el9451175649773442349214596\", ldavis_el9451175649773442349214596_data);\n",
       "            })\n",
       "         });\n",
       "}\n",
       "</script>"
      ],
      "text/plain": [
       "<IPython.core.display.HTML object>"
      ]
     },
     "execution_count": 94,
     "metadata": {},
     "output_type": "execute_result"
    }
   ],
   "source": [
    "import pyLDAvis.gensim\n",
    "vis = pyLDAvis.gensim.prepare(ldamodel, corpus, dictionary)\n",
    "pyLDAvis.display(vis)"
   ]
  },
  {
   "cell_type": "code",
   "execution_count": null,
   "metadata": {},
   "outputs": [],
   "source": []
  },
  {
   "cell_type": "markdown",
   "metadata": {},
   "source": [
    "## Часть 3. Классификация текстов [40/100]\n",
    "\n",
    "Сформулируем для простоты задачу бинарной классификации: будем классифицировать на два класса, то есть, различать резко отрицательные отзывы (с оценкой 1) и положительные отзывы (с оценкой 5). \n",
    "\n",
    "1.  Составьте обучающее и тестовое множество: выберите из всего набора данных N1 отзывов с оценкой 1 и N2 отзывов с оценкой 5 (значение N1 и N2 – на ваше усмотрение). Используйте ```sklearn.model_selection.train_test_split``` для разделения множества отобранных документов на обучающее и тестовое. \n",
    "2. Используйте любой известный вам алгоритм классификации текстов для решения задачи и получите baseline. Сравните разные варианты векторизации текста: использование только униграм, пар или троек слов или с использованием символьных $n$-грам. \n",
    "3. Сравните, как изменяется качество решения задачи при использовании скрытых тем в качестве признаков:\n",
    "* 1-ый вариант: $tf-idf$ преобразование (```sklearn.feature_extraction.text.TfidfTransformer```) и сингулярное разложение (оно же – латентый семантический анализ) (```sklearn.decomposition.TruncatedSVD```), \n",
    "* 2-ой вариант: тематические модели LDA (```sklearn.decomposition.LatentDirichletAllocation```). \n",
    "\n",
    "Используйте accuracy и F-measure для оценки качества классификации. \n",
    "\n",
    "Ниже написан примерный Pipeline для классификации текстов. \n",
    "\n",
    "Эта часть задания может быть сделана с использованием sklearn. "
   ]
  },
  {
   "cell_type": "code",
   "execution_count": 95,
   "metadata": {},
   "outputs": [],
   "source": [
    "from sklearn.linear_model import LogisticRegression\n",
    "from sklearn.naive_bayes import MultinomialNB\n",
    "from sklearn.neighbors import KNeighborsClassifier\n",
    "\n",
    "from sklearn.metrics import accuracy_score, roc_auc_score, f1_score, precision_score, recall_score\n",
    "from sklearn.metrics import confusion_matrix, classification_report\n",
    "from sklearn.metrics import roc_curve, auc\n",
    "\n",
    "from sklearn.model_selection import  train_test_split, GridSearchCV"
   ]
  },
  {
   "cell_type": "markdown",
   "metadata": {},
   "source": [
    "#### 3.1. Разобьем наш набор данных на обучающую и тестовую выборки"
   ]
  },
  {
   "cell_type": "markdown",
   "metadata": {},
   "source": [
    "#### 1.1 Сформируем набор данных только из положительных и отрицательных отзывов \n",
    "- положительные == 5\n",
    "- отрицательные == 1"
   ]
  },
  {
   "cell_type": "code",
   "execution_count": 6,
   "metadata": {},
   "outputs": [],
   "source": [
    "#df_pstv = df_r[df_r['rating_grade'] == 5]\n",
    "#df_ngtv = df_r[df_r['rating_grade'] == 1]"
   ]
  },
  {
   "cell_type": "code",
   "execution_count": 7,
   "metadata": {},
   "outputs": [],
   "source": [
    "#df_all = pd.concat([df_pstv, df_ngtv])"
   ]
  },
  {
   "cell_type": "code",
   "execution_count": 96,
   "metadata": {},
   "outputs": [
    {
     "data": {
      "text/plain": [
       "1.0    64566\n",
       "5.0    22369\n",
       "Name: rating_grade, dtype: int64"
      ]
     },
     "execution_count": 96,
     "metadata": {},
     "output_type": "execute_result"
    }
   ],
   "source": [
    "#df_all['rating_grade'].value_counts()"
   ]
  },
  {
   "cell_type": "markdown",
   "metadata": {},
   "source": [
    "Выполним бинаризацию нашего будущего таргета\n",
    "- положительные комментарии будем классифицировать как единички \n",
    "- отрицательные как нолики"
   ]
  },
  {
   "cell_type": "code",
   "execution_count": 97,
   "metadata": {},
   "outputs": [],
   "source": [
    "df_all[\"label\"] = df_all.rating_grade.replace({5: 1, 1: 0}).astype(int)"
   ]
  },
  {
   "cell_type": "markdown",
   "metadata": {},
   "source": [
    "Посмотрим на распределение таргета (практически соотношение 1 к 3, можно не балансировать классы)"
   ]
  },
  {
   "cell_type": "code",
   "execution_count": 98,
   "metadata": {},
   "outputs": [
    {
     "data": {
      "text/plain": [
       "0    64566\n",
       "1    22369\n",
       "Name: label, dtype: int64"
      ]
     },
     "execution_count": 98,
     "metadata": {},
     "output_type": "execute_result"
    }
   ],
   "source": [
    "df_all[\"label\"].value_counts()"
   ]
  },
  {
   "cell_type": "code",
   "execution_count": null,
   "metadata": {},
   "outputs": [],
   "source": [
    "#s = np.array(df_all.text)[0]\n",
    "#print(s)\n",
    "#preprocessing(s)"
   ]
  },
  {
   "cell_type": "code",
   "execution_count": 13,
   "metadata": {},
   "outputs": [
    {
     "name": "stdout",
     "output_type": "stream",
     "text": [
      "CPU times: user 1min 57s, sys: 4.23 s, total: 2min 1s\n",
      "Wall time: 14min 17s\n"
     ]
    }
   ],
   "source": [
    "#%time df_all['lemmas'] = df_all.text.apply(lambda x: preprocessing(x))"
   ]
  },
  {
   "cell_type": "code",
   "execution_count": 174,
   "metadata": {},
   "outputs": [],
   "source": [
    "#df_all = df_all.drop(\"lemmas\", axis=1)"
   ]
  },
  {
   "cell_type": "code",
   "execution_count": 99,
   "metadata": {},
   "outputs": [],
   "source": [
    "model = Word2Vec(df_all.lemmas, size=100, window=3, min_count=20, workers=4)"
   ]
  },
  {
   "cell_type": "code",
   "execution_count": 17,
   "metadata": {},
   "outputs": [],
   "source": [
    "def sent_to_vec(sent, w2v = model):\n",
    "    vec = np.array([w2v[w] for w in sent if w in w2v])\n",
    "    if len(vec):\n",
    "        return(np.mean(vec, axis=0))\n",
    "    else:\n",
    "        return(np.zeros(100))"
   ]
  },
  {
   "cell_type": "code",
   "execution_count": 18,
   "metadata": {},
   "outputs": [
    {
     "name": "stderr",
     "output_type": "stream",
     "text": [
      "/anaconda3/lib/python3.6/site-packages/ipykernel_launcher.py:2: DeprecationWarning: Call to deprecated `__contains__` (Method will be removed in 4.0.0, use self.wv.__contains__() instead).\n",
      "  \n",
      "/anaconda3/lib/python3.6/site-packages/ipykernel_launcher.py:2: DeprecationWarning: Call to deprecated `__getitem__` (Method will be removed in 4.0.0, use self.wv.__getitem__() instead).\n",
      "  \n"
     ]
    },
    {
     "name": "stdout",
     "output_type": "stream",
     "text": [
      "CPU times: user 2min 15s, sys: 1.67 s, total: 2min 16s\n",
      "Wall time: 2min 19s\n"
     ]
    }
   ],
   "source": [
    "warnings.filterwarnings(action='once')\n",
    "%time df_all['mean_vec'] = df_all.lemmas.apply(lambda x: sent_to_vec(x))"
   ]
  },
  {
   "cell_type": "code",
   "execution_count": 20,
   "metadata": {},
   "outputs": [
    {
     "data": {
      "text/html": [
       "<div>\n",
       "<style scoped>\n",
       "    .dataframe tbody tr th:only-of-type {\n",
       "        vertical-align: middle;\n",
       "    }\n",
       "\n",
       "    .dataframe tbody tr th {\n",
       "        vertical-align: top;\n",
       "    }\n",
       "\n",
       "    .dataframe thead th {\n",
       "        text-align: right;\n",
       "    }\n",
       "</style>\n",
       "<table border=\"1\" class=\"dataframe\">\n",
       "  <thead>\n",
       "    <tr style=\"text-align: right;\">\n",
       "      <th></th>\n",
       "      <th>author</th>\n",
       "      <th>bank_name</th>\n",
       "      <th>city</th>\n",
       "      <th>rating_grade</th>\n",
       "      <th>text</th>\n",
       "      <th>title</th>\n",
       "      <th>label</th>\n",
       "      <th>lemmas</th>\n",
       "      <th>mean_vec</th>\n",
       "    </tr>\n",
       "  </thead>\n",
       "  <tbody>\n",
       "    <tr>\n",
       "      <th>0</th>\n",
       "      <td>e.novikova</td>\n",
       "      <td>ВТБ 24</td>\n",
       "      <td>г. Воронеж</td>\n",
       "      <td>5.0</td>\n",
       "      <td>Здравствуйте!  Хотелось бы выразить благодарно...</td>\n",
       "      <td>Ипотека на 5+</td>\n",
       "      <td>1</td>\n",
       "      <td>[здравствовать, хотеться, выражать, благодарно...</td>\n",
       "      <td>[0.07757865, -0.039942697, 0.6359014, 0.319851...</td>\n",
       "    </tr>\n",
       "    <tr>\n",
       "      <th>9</th>\n",
       "      <td>кристина1987</td>\n",
       "      <td>ВТБ 24</td>\n",
       "      <td>г. Москва</td>\n",
       "      <td>5.0</td>\n",
       "      <td>Хочу поблагодарить Надежду из отдела по ипотеч...</td>\n",
       "      <td>Большая блаодарность!</td>\n",
       "      <td>1</td>\n",
       "      <td>[хотеть, поблагодарить, надежда, отдел, ипотеч...</td>\n",
       "      <td>[0.15079327, -0.29011187, 0.7363027, 0.6633106...</td>\n",
       "    </tr>\n",
       "    <tr>\n",
       "      <th>31</th>\n",
       "      <td>Мёрфи</td>\n",
       "      <td>ВТБ 24</td>\n",
       "      <td>г. Екатеринбург</td>\n",
       "      <td>5.0</td>\n",
       "      <td>Выплату из АСВ по Транспортному Банку пошел по...</td>\n",
       "      <td>Знакомство с банком</td>\n",
       "      <td>1</td>\n",
       "      <td>[выплата, АСВ, транспортный, банк, пойти, полу...</td>\n",
       "      <td>[0.15301657, 0.3915152, -0.121215686, -0.29479...</td>\n",
       "    </tr>\n",
       "    <tr>\n",
       "      <th>40</th>\n",
       "      <td>vs1l</td>\n",
       "      <td>Ланта-Банк</td>\n",
       "      <td>г. Куйбышев</td>\n",
       "      <td>5.0</td>\n",
       "      <td>В Куйбышевском филиале, в головном офисе прост...</td>\n",
       "      <td>Просто превосходно!</td>\n",
       "      <td>1</td>\n",
       "      <td>[в, куйбышевский, филиал, головной, офис, прос...</td>\n",
       "      <td>[-0.17135139, 0.2593099, 0.48486114, 0.2231367...</td>\n",
       "    </tr>\n",
       "    <tr>\n",
       "      <th>84</th>\n",
       "      <td>sergei.sadomskov</td>\n",
       "      <td>Сбербанк России</td>\n",
       "      <td>г. Заокский</td>\n",
       "      <td>5.0</td>\n",
       "      <td>Хочу выразить огромную благодарность сотрудник...</td>\n",
       "      <td>Благодарность сотруднику</td>\n",
       "      <td>1</td>\n",
       "      <td>[хотеть, выражать, огромный, благодарность, со...</td>\n",
       "      <td>[-0.022466192, 0.37398213, 0.450392, -0.312406...</td>\n",
       "    </tr>\n",
       "  </tbody>\n",
       "</table>\n",
       "</div>"
      ],
      "text/plain": [
       "              author        bank_name             city  rating_grade  \\\n",
       "0         e.novikova           ВТБ 24       г. Воронеж           5.0   \n",
       "9       кристина1987           ВТБ 24        г. Москва           5.0   \n",
       "31             Мёрфи           ВТБ 24  г. Екатеринбург           5.0   \n",
       "40              vs1l       Ланта-Банк      г. Куйбышев           5.0   \n",
       "84  sergei.sadomskov  Сбербанк России      г. Заокский           5.0   \n",
       "\n",
       "                                                 text  \\\n",
       "0   Здравствуйте!  Хотелось бы выразить благодарно...   \n",
       "9   Хочу поблагодарить Надежду из отдела по ипотеч...   \n",
       "31  Выплату из АСВ по Транспортному Банку пошел по...   \n",
       "40  В Куйбышевском филиале, в головном офисе прост...   \n",
       "84  Хочу выразить огромную благодарность сотрудник...   \n",
       "\n",
       "                       title  label  \\\n",
       "0              Ипотека на 5+      1   \n",
       "9      Большая блаодарность!      1   \n",
       "31       Знакомство с банком      1   \n",
       "40       Просто превосходно!      1   \n",
       "84  Благодарность сотруднику      1   \n",
       "\n",
       "                                               lemmas  \\\n",
       "0   [здравствовать, хотеться, выражать, благодарно...   \n",
       "9   [хотеть, поблагодарить, надежда, отдел, ипотеч...   \n",
       "31  [выплата, АСВ, транспортный, банк, пойти, полу...   \n",
       "40  [в, куйбышевский, филиал, головной, офис, прос...   \n",
       "84  [хотеть, выражать, огромный, благодарность, со...   \n",
       "\n",
       "                                             mean_vec  \n",
       "0   [0.07757865, -0.039942697, 0.6359014, 0.319851...  \n",
       "9   [0.15079327, -0.29011187, 0.7363027, 0.6633106...  \n",
       "31  [0.15301657, 0.3915152, -0.121215686, -0.29479...  \n",
       "40  [-0.17135139, 0.2593099, 0.48486114, 0.2231367...  \n",
       "84  [-0.022466192, 0.37398213, 0.450392, -0.312406...  "
      ]
     },
     "execution_count": 20,
     "metadata": {},
     "output_type": "execute_result"
    }
   ],
   "source": [
    "df_all.head()"
   ]
  },
  {
   "cell_type": "code",
   "execution_count": 22,
   "metadata": {},
   "outputs": [],
   "source": [
    "df_raw = df_all.drop(['rating_grade', 'author', 'text', 'title', 'city', 'lemmas'], axis=1)"
   ]
  },
  {
   "cell_type": "code",
   "execution_count": 23,
   "metadata": {},
   "outputs": [
    {
     "data": {
      "text/html": [
       "<div>\n",
       "<style scoped>\n",
       "    .dataframe tbody tr th:only-of-type {\n",
       "        vertical-align: middle;\n",
       "    }\n",
       "\n",
       "    .dataframe tbody tr th {\n",
       "        vertical-align: top;\n",
       "    }\n",
       "\n",
       "    .dataframe thead th {\n",
       "        text-align: right;\n",
       "    }\n",
       "</style>\n",
       "<table border=\"1\" class=\"dataframe\">\n",
       "  <thead>\n",
       "    <tr style=\"text-align: right;\">\n",
       "      <th></th>\n",
       "      <th>bank_name</th>\n",
       "      <th>label</th>\n",
       "      <th>mean_vec</th>\n",
       "    </tr>\n",
       "  </thead>\n",
       "  <tbody>\n",
       "    <tr>\n",
       "      <th>0</th>\n",
       "      <td>ВТБ 24</td>\n",
       "      <td>1</td>\n",
       "      <td>[0.07757865, -0.039942697, 0.6359014, 0.319851...</td>\n",
       "    </tr>\n",
       "    <tr>\n",
       "      <th>9</th>\n",
       "      <td>ВТБ 24</td>\n",
       "      <td>1</td>\n",
       "      <td>[0.15079327, -0.29011187, 0.7363027, 0.6633106...</td>\n",
       "    </tr>\n",
       "    <tr>\n",
       "      <th>31</th>\n",
       "      <td>ВТБ 24</td>\n",
       "      <td>1</td>\n",
       "      <td>[0.15301657, 0.3915152, -0.121215686, -0.29479...</td>\n",
       "    </tr>\n",
       "    <tr>\n",
       "      <th>40</th>\n",
       "      <td>Ланта-Банк</td>\n",
       "      <td>1</td>\n",
       "      <td>[-0.17135139, 0.2593099, 0.48486114, 0.2231367...</td>\n",
       "    </tr>\n",
       "    <tr>\n",
       "      <th>84</th>\n",
       "      <td>Сбербанк России</td>\n",
       "      <td>1</td>\n",
       "      <td>[-0.022466192, 0.37398213, 0.450392, -0.312406...</td>\n",
       "    </tr>\n",
       "  </tbody>\n",
       "</table>\n",
       "</div>"
      ],
      "text/plain": [
       "          bank_name  label                                           mean_vec\n",
       "0            ВТБ 24      1  [0.07757865, -0.039942697, 0.6359014, 0.319851...\n",
       "9            ВТБ 24      1  [0.15079327, -0.29011187, 0.7363027, 0.6633106...\n",
       "31           ВТБ 24      1  [0.15301657, 0.3915152, -0.121215686, -0.29479...\n",
       "40       Ланта-Банк      1  [-0.17135139, 0.2593099, 0.48486114, 0.2231367...\n",
       "84  Сбербанк России      1  [-0.022466192, 0.37398213, 0.450392, -0.312406..."
      ]
     },
     "execution_count": 23,
     "metadata": {},
     "output_type": "execute_result"
    }
   ],
   "source": [
    "df_raw.head()"
   ]
  },
  {
   "cell_type": "code",
   "execution_count": 24,
   "metadata": {},
   "outputs": [
    {
     "data": {
      "text/plain": [
       "((74266, 100), (24756, 100), (74266,), (24756,))"
      ]
     },
     "execution_count": 24,
     "metadata": {},
     "output_type": "execute_result"
    }
   ],
   "source": [
    "X = df_raw.mean_vec.tolist()\n",
    "y = df_raw.label.tolist()\n",
    "\n",
    "X, y = np.array(X), np.array(y)\n",
    "#y = (y == 'Политика').astype(int)\n",
    "X_train, X_test, Y_train, Y_test = train_test_split(X, y, test_size = 0.25)\n",
    "X_train.shape,  X_test.shape, Y_train.shape, Y_test.shape"
   ]
  },
  {
   "cell_type": "markdown",
   "metadata": {},
   "source": [
    "#### 3.2. Используйте любой известный вам алгоритм классификации текстов для решения задачи и получите baseline. Сравните разные варианты векторизации текста: использование только униграм, пар или троек слов или с использованием символьных $n$-грам. "
   ]
  },
  {
   "cell_type": "code",
   "execution_count": 25,
   "metadata": {},
   "outputs": [
    {
     "name": "stdout",
     "output_type": "stream",
     "text": [
      "Best Penalty: l2\n",
      "Best C: 59.94842503189409\n"
     ]
    }
   ],
   "source": [
    "penalty = ['l1', 'l2']\n",
    "C = np.logspace(0, 4, 10)\n",
    "hyperparameters = dict(C=C, penalty=penalty)\n",
    "\n",
    "clf = GridSearchCV(LogisticRegression(), hyperparameters, cv=5, verbose=0)\n",
    "best_model = clf.fit(X_train, Y_train)\n",
    "print('Best Penalty:', best_model.best_estimator_.get_params()['penalty'])\n",
    "print('Best C:', best_model.best_estimator_.get_params()['C'])"
   ]
  },
  {
   "cell_type": "code",
   "execution_count": 37,
   "metadata": {},
   "outputs": [
    {
     "data": {
      "text/plain": [
       "(array([0, 1, 1, 0, 0]),\n",
       " [0.05261643961690381,\n",
       "  0.9697192555731283,\n",
       "  0.8969258665041967,\n",
       "  0.05314073586474382,\n",
       "  0.020038690214977225])"
      ]
     },
     "execution_count": 37,
     "metadata": {},
     "output_type": "execute_result"
    }
   ],
   "source": [
    "LR = best_model.best_estimator_\n",
    "preds = LR.predict(X_test)\n",
    "probas = [p[1] for p in LR.predict_proba(X_test)]\n",
    "preds[:5], probas[:5]"
   ]
  },
  {
   "cell_type": "code",
   "execution_count": 27,
   "metadata": {},
   "outputs": [
    {
     "name": "stdout",
     "output_type": "stream",
     "text": [
      "accuracy: 0.940217\n",
      "roc_auc_score: 0.976205\n",
      "precision_score: 0.913586\n",
      "recall_score: 0.861078\n",
      "f1_score: 0.886555\n"
     ]
    }
   ],
   "source": [
    "print('accuracy: %f' % accuracy_score(Y_test, preds))\n",
    "print('roc_auc_score: %f' % roc_auc_score(Y_test, probas))\n",
    "print('precision_score: %f' % precision_score(Y_test, preds))\n",
    "print('recall_score: %f' % recall_score(Y_test, preds))\n",
    "print('f1_score: %f' % f1_score(Y_test, preds))"
   ]
  },
  {
   "cell_type": "code",
   "execution_count": 35,
   "metadata": {},
   "outputs": [],
   "source": [
    "from sklearn.ensemble import RandomForestClassifier"
   ]
  },
  {
   "cell_type": "code",
   "execution_count": 38,
   "metadata": {},
   "outputs": [
    {
     "name": "stdout",
     "output_type": "stream",
     "text": [
      "Результата на трейне : 0.9933\n",
      "Результата на тесте : 0.9012\n"
     ]
    }
   ],
   "source": [
    "regr = RandomForestClassifier()\n",
    "regr.fit(X_train, Y_train)\n",
    "\n",
    "\n",
    "print('Результата на трейне : {:.4f}'.format(regr.score(X_train, Y_train)))\n",
    "print('Результата на тесте : {:.4f}'.format(regr.score(X_test, Y_test)))"
   ]
  },
  {
   "cell_type": "markdown",
   "metadata": {},
   "source": [
    "#### 3.3. Сравните, как изменяется качество решения задачи при использовании скрытых тем в качестве признаков:\n",
    "* 1-ый вариант: $tf-idf$ преобразование (```sklearn.feature_extraction.text.TfidfTransformer```) и сингулярное разложение (оно же – латентый семантический анализ) (```sklearn.decomposition.TruncatedSVD```), \n",
    "* 2-ой вариант: тематические модели LDA (```sklearn.decomposition.LatentDirichletAllocation```). "
   ]
  }
 ],
 "metadata": {
  "kernelspec": {
   "display_name": "Python 3",
   "language": "python",
   "name": "python3"
  },
  "language_info": {
   "codemirror_mode": {
    "name": "ipython",
    "version": 3
   },
   "file_extension": ".py",
   "mimetype": "text/x-python",
   "name": "python",
   "nbconvert_exporter": "python",
   "pygments_lexer": "ipython3",
   "version": "3.6.4"
  }
 },
 "nbformat": 4,
 "nbformat_minor": 2
}
